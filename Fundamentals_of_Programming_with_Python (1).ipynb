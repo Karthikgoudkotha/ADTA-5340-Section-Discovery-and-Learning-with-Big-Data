{
 "cells": [
  {
   "cell_type": "markdown",
   "metadata": {
    "id": "ukWOxcsGlFaR"
   },
   "source": [
    "# <center><font color=green>Fundamentals of Programming: </font> </center>  \n",
    "# <center><font color=green>Programming for Data Science with Python </font> </center>\n",
    "\n",
    "### 1. Let's Start with Comments and Markdown \n",
    "\n",
    "In Python, comments begin with a hash mark (#), a whitespace character and continue to the end of the line.\n",
    "\n",
    "Markdown is a text-to-HTML conversion tool. Markdown allows you to write visually appealing comments instead of plain text. Jupyter Notebook and Google Colab have Markdown Guides you can review for practicing your skills. \n",
    "\n",
    "Jupyter: https://jupyter-notebook.readthedocs.io/en/stable/examples/Notebook/Working%20With%20Markdown%20Cells.html\n",
    "\n",
    "Google Colab: https://colab.research.google.com/notebooks/markdown_guide.ipynb\n",
    "\n",
    "Jupyter Notebook and Google Colab have two types of cells: text and code. Text cells are for comments or markdown. \n",
    "\n",
    "Add a comment below providing your **First Name, Last Name, Date** as a plain text comment.\n",
    "Next add markdown with the same information in large font, bolded, centered, and extra flair without using the features provided in the box. \n"
   ]
  },
  {
   "cell_type": "code",
   "execution_count": null,
   "metadata": {
    "id": "2Bc_KIm5wUlo"
   },
   "outputs": [],
   "source": [
    "# to do: add your comment "
   ]
  },
  {
   "cell_type": "markdown",
   "metadata": {
    "id": "3wrUg4QDxNOM"
   },
   "source": [
    "# to do: add your markdown"
   ]
  },
  {
   "cell_type": "markdown",
   "metadata": {
    "id": "yc8vXoJR2kjD"
   },
   "source": [
    "## 2. Hello World\n",
    "### In Python, printing hello world is elementary as opposed to other programming languages.\n",
    "\n",
    "Run the code to print ***Hello World*** \n",
    "\n",
    "Next, enter the code to print ***Hello Professor Floyd***\n"
   ]
  },
  {
   "cell_type": "markdown",
   "metadata": {
    "id": "jY1gbRtu352S"
   },
   "source": [
    "### <font color=red> **Run the following code:** </font>"
   ]
  },
  {
   "cell_type": "code",
   "execution_count": null,
   "metadata": {
    "id": "OjWsOMcN37ov"
   },
   "outputs": [],
   "source": [
    "print (\"Hello World\")"
   ]
  },
  {
   "cell_type": "code",
   "execution_count": null,
   "metadata": {
    "id": "K5yooOMx4J5c"
   },
   "outputs": [],
   "source": [
    "# to do: add code to print Hello Professor Floyd"
   ]
  },
  {
   "cell_type": "markdown",
   "metadata": {
    "id": "ij87BYPS5hse"
   },
   "source": [
    "## 3. Identifiers, Keywords, and Data Types\n",
    "### Overview\n",
    "- Identifiers are the names that identify the elements of a program such as variables, functions, classes, methods, constants, etc.\n",
    " - An identifier should start with a character or Underscore, then use a digit. The characters are A-Z or a-z, an UnderScore ( _ ) , and digit (0-9). Do not use special characters ( #, @, $, %, ! ) in identifiers.\n",
    " - Identifiers are case sensitive, and they cannot start with digits or numbers.\n",
    "\n",
    "- Keywords or reserved words cannot be used as identifiers.\n",
    " - Here is the list of some keywords words in Python:\n",
    ">and, assert, break, class, continue, def, del, elid, else, except, exec, finally, for, from, global, if, import, in, is, lambda, not, or, pass, print, raise, return, try, while\n",
    "\n",
    "- Data types are an important attribute of data. Python has several standard data types that are built into the interpreter, and the types are numerics, text, sequences, mappings, classes, instances, and exceptions.\n",
    "You can get the data type of any object by using the type() function.\n",
    "The following categories describe the main data types in Python:\n",
    "\n",
    " - Text Type:\tstr\n",
    " - Numeric Types:\tint, float, complex\n",
    " - Sequence Types:\tlist, tuple, range\n",
    " - Mapping Type:\tdict\n",
    " - Set Types:\tset, frozenset\n",
    " - Boolean Type:\tbool\n",
    " - Binary Types:\tbytes, bytearray, memoryview\n",
    "\n",
    " Let's put what we have learned to practice.\n",
    "\n",
    " ### <font color=red> **Run the following code:** </font>\n"
   ]
  },
  {
   "cell_type": "code",
   "execution_count": null,
   "metadata": {
    "id": "hrL6RUTKBD0V"
   },
   "outputs": [],
   "source": [
    "# x is a name of a variable. x is an identifier.\n",
    "x = 3\n",
    "\n",
    "print (\"x is a variable. It is an identifier. Its value is: \",x, \"\\n\")\n",
    "print(\"Data type of x: \", type (x), '\\n')\n",
    "\n",
    "#stdName is a name of a variable that represents the name of a student.\n",
    "#stdName is an identifier\n",
    "\n",
    "stdName = \"John Smith\"\n",
    "\n",
    "print (\"stdName is a variable. It is an identifier. Its value is: \", stdName, \"\\n\")\n",
    "print(\"Data type of stdName: \", type (stdName), '\\n')"
   ]
  },
  {
   "cell_type": "markdown",
   "metadata": {
    "id": "V7PYcHfABSNl"
   },
   "source": [
    "### 3.1 Data Containers\n",
    "###### Variables are data containers whose values are likely to be changed along the course of executing a program."
   ]
  },
  {
   "cell_type": "markdown",
   "metadata": {
    "id": "MXnGVbFOBlqF"
   },
   "source": [
    "#### Variable/Identifier x:\n",
    "\n",
    " - x is an identifier. It is a ***variable.***\n",
    " - its value is 3: 3 is ***data***\n",
    " - The variable (identifier) x is the ***data container*** that contains the piece of data \"3\".\n",
    " - ***Data type*** of x is \"int\"\n",
    "\n",
    "Here is an example\n",
    "\n",
    " ### <font color=red> **Run the following code:** </font>"
   ]
  },
  {
   "cell_type": "code",
   "execution_count": null,
   "metadata": {
    "id": "hmETYXsuBj5e"
   },
   "outputs": [],
   "source": [
    "# x is a name of a variable. x is an identifier.\n",
    "x = 3\n",
    "print (\"x is a variable. It is an identifier. Its value is: \", x, \"\\n\")\n",
    "print(\"Data type of x: \", type(x), '\\n')"
   ]
  },
  {
   "cell_type": "markdown",
   "metadata": {
    "id": "RkyxtNQMCJof"
   },
   "source": [
    "#### Variable/Identifier stdName:\n",
    "\n",
    " - ***stdName*** is an ***identifier***. It is a ***variable***.\n",
    "\n",
    " - Its ***value*** is \"john Smith\": \"JohN Smith\" is ***data***.\n",
    "\n",
    " - The ***variable (identifier)*** stdName is the ***data container*** that contains the piece of data \"John Smith\".\n",
    "\n",
    " - ***Data*** type of stdName is \"str\" (or String)\n",
    "\n",
    "<font color=red>IMPORTANT NOTES:</font> \n",
    " - In Python, identifiers are unlimited in length. Case is significant. \n",
    " - However, the user is strongly discouraged from using a very long name to label variables. Besides, the names should be meaningful.\n",
    "\n",
    "Here is an illustration:\n",
    " ### <font color=red> **Run the following code:** </font>"
   ]
  },
  {
   "cell_type": "code",
   "execution_count": null,
   "metadata": {
    "id": "CvEz-rmrCK69"
   },
   "outputs": [],
   "source": [
    "#stdName is a name of a variable that represents the name of a student.\n",
    "#stdName is an identifier\n",
    "std = \"John Smith\"\n",
    "print (\"stdName is a variable. It is an identifier. Its value is: \", stdName, \"\\n\")\n",
    "print(\"Data type of stdName: \", type (stdName), '\\n')"
   ]
  },
  {
   "cell_type": "markdown",
   "metadata": {
    "id": "pOJco8mnCinr"
   },
   "source": [
    "### 3.2 Constants\n",
    "Constants are data containers that contain permanent values, i.e., these values cannot be changed, along the course of executing a program."
   ]
  },
  {
   "cell_type": "markdown",
   "metadata": {
    "id": "gUvO6P5jCwXy"
   },
   "source": [
    "## 4. Assignments\n",
    "### Overview\n",
    "The assignment operator, denoted by the “=” symbol, is the operator that is used to assign values to variables in Python.\n",
    "\n",
    "We use Python assignment statements to assign objects to names. The target of an assignment statement is written on the left side of the equal sign (=), and the object on the right can be an arbitrary expression that computes an object. \n",
    " \n",
    "***Binding a variable*** in Python means setting a name to hold a ***reference*** to some object. \n",
    "  - Assignments create references, not copies.\n",
    " \n",
    " Names in Python do not have an intrinsic type. ***Objects have types***.\n",
    "  - Python determines the ***type of the reference*** automatically based on the ***data object*** assigned to it.\n",
    "  \n",
    "  A name is created when it appears the first time on the left side of an assignment expression:\n",
    "  > x = 3\n",
    "  \n",
    "  A ***reference is deleted*** via garbage collection when NO variables or identifiers refer to it.\n",
    "  \n",
    "### 4.1. Reference Semantic in Python\n",
    "  \n",
    "#### Overview: The process of assigning a value\n",
    "  \n",
    "  What happens when we type: x = 3?\n",
    "  \n",
    "   - First, an integer 3 is created and stored in memory\n",
    "   - Then a name is created\n",
    "   - Next, a reference to the memory location storing the 3 is assigned to the name x\n",
    "   \n",
    "   \n",
    "### 4.2 Assignment manipulates references\n",
    " - y = x: An assignment of x to y\n",
    " - y = x: The assignment does not make a copy of the value of x.\n",
    " - y = x: The assignment makes y refer to the same object as x does.\n",
    "   \n",
    ">Let's say you assign x = 3\n",
    " \n",
    ">And then you assign y = x  \n",
    "\n",
    "When you assign y = x, you now have y = 3 since x = 3 \n",
    "\n",
    "Here is an example\n",
    "### <font color=red> **Run the following code:** </font>"
   ]
  },
  {
   "cell_type": "code",
   "execution_count": null,
   "metadata": {
    "id": "f9wlJZo1CiJj"
   },
   "outputs": [],
   "source": [
    "x=3\n",
    "\n",
    "y=x\n",
    "\n",
    "y"
   ]
  },
  {
   "cell_type": "markdown",
   "metadata": {
    "id": "mhQfZcitEoGk"
   },
   "source": [
    "## 5. Operators and Operations"
   ]
  },
  {
   "cell_type": "markdown",
   "metadata": {
    "id": "ySfhQ8W3EwXt"
   },
   "source": [
    "## 5.1 Numeric Operations\n",
    "| <font size=4>Operator</font> | <font size=4>Operation</font>&nbsp;&nbsp;&nbsp;&nbsp;&nbsp;&nbsp;&nbsp;&nbsp;&nbsp;&nbsp;&nbsp;&nbsp;   | <font size=4>Example</font>&nbsp;&nbsp;&nbsp;&nbsp;&nbsp;&nbsp;&nbsp;&nbsp;&nbsp;&nbsp;&nbsp;&nbsp;  | <font size=4>Result</font> |\n",
    "| :--- | :--            | :--     | :-     |\n",
    "|<font size=4>+</font>     |<font size=4>Addition</font>        |<font size=4>33 + 3</font>   | <font size=4>36</font>     |\n",
    "|<font size=4>- </font>    |<font size=4>Subtraction</font>&nbsp;&nbsp;&nbsp;&nbsp;&nbsp;&nbsp;&nbsp;&nbsp;&nbsp;&nbsp;&nbsp;&nbsp;      |<font size=4>33 - 3</font>   | <font size=4>30</font>     |\n",
    "|<font size=4>* </font>    |<font size=4>Multiplication</font>  |<font size=4>33 * 3</font>&nbsp;&nbsp;&nbsp;&nbsp;&nbsp;&nbsp;&nbsp;&nbsp;&nbsp;&nbsp;&nbsp;&nbsp;    | <font size=4>99</font>     |\n",
    "|<font size=4>/</font>     |<font size=4>Division</font>        |<font size=4>11 / 3   | <font size=4>3.666  |\n",
    "|<font size=4>%</font>     |<font size=4>Remainder</font>       |<font size=4>33 % 3</font>   | <font size=4>0</font>      |\n",
    "|<font size=4>**</font>    |<font size=4>Exponent</font>        |<font size=4>33 ** 3</font>  | <font size=4>35937</font>  |\n",
    "|<font size=4>// </font>   |<font size=4>Floor</font>           |<font size=4>11 // 3</font>  |<font size=4> 3 </font>     |"
   ]
  },
  {
   "cell_type": "markdown",
   "metadata": {
    "id": "dQLcPm9DE2lh"
   },
   "source": [
    "### 5.2 Augmented Operators\n",
    "| <font size=4>Operator</font> | <font size=4>Operation</font>&nbsp;&nbsp;&nbsp;&nbsp;&nbsp;&nbsp;&nbsp;&nbsp;&nbsp;&nbsp;&nbsp;&nbsp;   | <font size=4>Example</font>&nbsp;&nbsp;&nbsp;&nbsp;&nbsp;&nbsp;&nbsp;&nbsp;&nbsp;&nbsp;&nbsp;&nbsp;  | <font size=4>Result</font> |\n",
    "| :--- | :--            | :--     | :-     |\n",
    "|<font size=4>+=</font>     |<font size=4>Addition assignment</font>        |<font size=4>i += 8</font>   | <font size=4>i = i + 8</font>     |\n",
    "|<font size=4>-= </font>    |<font size=4>Subtraction assignment</font>     |<font size=4>i -= 8</font>   | <font size=4>i = i - 8</font>     |\n",
    "|<font size=4>*= </font>    |<font size=4>Multiplication assignment</font>&nbsp;&nbsp;&nbsp;&nbsp;&nbsp;&nbsp;&nbsp;&nbsp;&nbsp;&nbsp;&nbsp;&nbsp;   |<font size=4>i *= 8</font>   | <font size=4>i = i * 8</font>     |\n",
    "|<font size=4>/=</font>     |<font size=4>Division assignment</font>&nbsp;&nbsp;&nbsp;&nbsp;&nbsp;&nbsp;&nbsp;&nbsp;&nbsp;&nbsp;&nbsp;&nbsp;         |<font size=4>i /= 8   | <font size=4>i = i / 8  |\n",
    "|<font size=4>%=</font>     |<font size=4>Remainder assignment</font>       |<font size=4>i %= 8</font>   | <font size=4>i = i % 8      |\n",
    "|<font size=4>**=</font>    |<font size=4>Exponent assignment</font>        |<font size=4>i **= 8</font>  | <font size=4>i = i ** 8</font>  |\n",
    "|<font size=4>//= </font>   |<font size=4>Floor assignment</font>           |<font size=4>i //= 8</font>  |<font size=4> i = i // 8 </font>     |"
   ]
  },
  {
   "cell_type": "markdown",
   "metadata": {
    "id": "hK2oPWCgE97f"
   },
   "source": [
    "### 5.3 Relational Operators (a.k.a. Comparison Operators)\n",
    "\n",
    " - Relational operators, a.k.a. comparison operators, are used for comparisons.\n",
    " - A comparison, e.g. a>b, is called a conditional expression or boolean expression.\n",
    " - The result of a boolean expression is either True or False.\n",
    " \n",
    "|<font size=4>Operator</font>| <font size=4>Meaning</font>&nbsp;&nbsp;&nbsp;&nbsp;&nbsp;&nbsp;&nbsp;&nbsp;&nbsp;&nbsp;&nbsp;&nbsp;   | <font size=4>Example</font>     | <font size=4>Ex. Result</font> |\n",
    "| :--- | :--            | :----------|  ----:     |\n",
    "|<font size=4> (<) </font> |<font size=4>Less than</font>        |<font size=4>radius (<) 0 </font>     | <font size=4>False</font>     |\n",
    "|<font size=4>(=<) </font> |<font size=4>Less than or equal to&nbsp;&nbsp;&nbsp;&nbsp;&nbsp;&nbsp;&nbsp;&nbsp;&nbsp;&nbsp;&nbsp;&nbsp; </font>  |<font size=4>radius (<=) 0</font>     | <font size=4>True</font>     |\n",
    "|<font size=4>(>) </font> |<font size=4>Greater than</font>  |<font size=4>radius (>) 0</font>     | <font size=4>True</font>     |\n",
    "|<font size=4>(>=)</font> |<font size=4>Greater than or equal to</font>        |<font size=4>radius (>=) 0     | <font size=4>False </font>  |\n",
    "|<font size=4>(==)</font> |<font size=4>Equal to</font>       |<font size=4>radius (==) 0</font>     | <font size=4>True      |\n",
    "    |<font size=4>(!=)</font> |<font size=4>Not equal to</font>        |<font size=4>radius (!=) 0</font>    | <font size=4>False</font>  |\n"
   ]
  },
  {
   "cell_type": "markdown",
   "metadata": {
    "id": "BiuMiHkaFJt4"
   },
   "source": [
    "### 5.4 Logical Operators\n",
    "    \n",
    "|<font size=4>Operator</font>&nbsp;&nbsp;&nbsp;&nbsp;&nbsp;&nbsp;&nbsp;&nbsp;| <font size=4>Meaning</font>&nbsp;&nbsp;&nbsp;&nbsp;&nbsp;&nbsp;&nbsp;&nbsp;&nbsp;&nbsp;&nbsp;&nbsp;  | <font size=4>Example</font> |    \n",
    "| :--- |:--------------| :----------| \n",
    "|<font size=4>not</font>&nbsp;&nbsp;&nbsp;&nbsp;&nbsp;&nbsp;&nbsp;&nbsp;|<font size=4>Opposite</font>&nbsp;&nbsp;&nbsp;&nbsp;&nbsp;&nbsp;&nbsp;&nbsp;&nbsp;&nbsp;&nbsp;&nbsp; |<font size=4>not (radius < 0) </font> | \n",
    "|<font size=4>and</font>|<font size=4>And</font>&nbsp;&nbsp;&nbsp;&nbsp;&nbsp;&nbsp;&nbsp;&nbsp;&nbsp;&nbsp;&nbsp;&nbsp;       |<font size=4>(a > b) or (c < d)</font>     | \n",
    "|<font size=4>or</font>|<font size=4> Or </font>&nbsp;&nbsp;&nbsp;&nbsp;&nbsp;&nbsp;&nbsp;&nbsp;&nbsp;&nbsp;&nbsp;&nbsp;       |<font size=4>(a > b) or (c < d)</font>    | "
   ]
  },
  {
   "cell_type": "markdown",
   "metadata": {
    "id": "5DIrXB_pFPjs"
   },
   "source": [
    "#### 5.4.2  <font color=blue>and</font> Operators\n",
    "a and b ***is true** only when ***both a and b are true***.\n",
    "    \n",
    "|<font size=4>a</font>&nbsp;&nbsp;&nbsp;&nbsp;&nbsp;&nbsp;&nbsp;&nbsp;| <font size=4>b</font>&nbsp;&nbsp;&nbsp;&nbsp;&nbsp;&nbsp;&nbsp;&nbsp;&nbsp;&nbsp;&nbsp;&nbsp;  | <font size=4>a <font color=blue>&nbsp;&nbsp;and</font>&nbsp;&nbsp; b </font> |    \n",
    "| :--- |:--------------| :----------| \n",
    "|<font size=4>True</font>&nbsp;&nbsp;&nbsp;&nbsp;&nbsp;&nbsp;&nbsp;&nbsp;|<font size=4>True</font>&nbsp;&nbsp;&nbsp;&nbsp;&nbsp;&nbsp;&nbsp;&nbsp;&nbsp;&nbsp;&nbsp;&nbsp; |<font size=4>True </font> | \n",
    "|<font size=4>True</font>|<font size=4>False</font>&nbsp;&nbsp;&nbsp;&nbsp;&nbsp;&nbsp;&nbsp;&nbsp;&nbsp;&nbsp;&nbsp;&nbsp;       |<font size=4>False</font>     | \n",
    "|<font size=4>False</font>|<font size=4> True </font>&nbsp;&nbsp;&nbsp;&nbsp;&nbsp;&nbsp;&nbsp;&nbsp;&nbsp;&nbsp;&nbsp;&nbsp;       |<font size=4>False</font>    | \n",
    "|<font size=4>False</font>|<font size=4> False </font>&nbsp;&nbsp;&nbsp;&nbsp;&nbsp;&nbsp;&nbsp;&nbsp;&nbsp;&nbsp;&nbsp;&nbsp;       |<font size=4>False</font>    | "
   ]
  },
  {
   "cell_type": "markdown",
   "metadata": {
    "id": "9KVKlqIXFWYo"
   },
   "source": [
    "### 5.5 Identity Operators\n",
    "In Python, ***identity operators*** are used to check if the ***operands are identical***, i.e., they refer to the same object.\n",
    "\n",
    "|<font size=4>Operator</font>&nbsp;&nbsp;&nbsp;&nbsp;&nbsp;&nbsp;| <font size=4>Result</font>&nbsp;&nbsp;&nbsp;&nbsp;&nbsp;&nbsp;&nbsp;&nbsp;&nbsp;&nbsp;&nbsp;&nbsp;&nbsp;&nbsp;&nbsp;&nbsp;&nbsp;&nbsp;&nbsp;&nbsp;&nbsp;&nbsp;&nbsp;&nbsp;&nbsp;&nbsp;&nbsp;&nbsp;&nbsp;&nbsp;&nbsp;&nbsp;&nbsp;&nbsp;&nbsp;&nbsp;&nbsp;&nbsp;&nbsp;&nbsp;&nbsp;  | <font size=4>Example</font> |    \n",
    "| :--- |:--------------| :----------| \n",
    "|<font size=4>is</font>&nbsp;&nbsp;&nbsp;&nbsp;&nbsp;&nbsp;|<font size=4>True if the operands are identical, i.e., they refer to the same object</font>;&nbsp;&nbsp;&nbsp;&nbsp;&nbsp;&nbsp;&nbsp;&nbsp;&nbsp;&nbsp;&nbsp;&nbsp;&nbsp;&nbsp;&nbsp;&nbsp;&nbsp;&nbsp;&nbsp;&nbsp;&nbsp;&nbsp;&nbsp;&nbsp;&nbsp;&nbsp;&nbsp;&nbsp;&nbsp;&nbsp;&nbsp;&nbsp;&nbsp;&nbsp;&nbsp;&nbsp;&nbsp;&nbsp;&nbsp;&nbsp;&nbsp;&nbsp;&nbsp;&nbsp;&nbsp;&nbsp;&nbsp;&nbsp;&nbsp;&nbsp;&nbsp;&nbsp;&nbsp;&nbsp;&nbsp;&nbsp;&nbsp;&nbsp;&nbsp;&nbsp;&nbsp;&nbsp;&nbsp;&nbsp;&nbsp;|<font size=4>x is y </font> | \n",
    "|<font size=4>is not</font>|<font size=4>True if the operands are not identical, i.e., they do not refer to the same object</font>&nbsp;&nbsp;&nbsp;&nbsp;&nbsp;&nbsp;&nbsp;&nbsp;&nbsp;&nbsp;&nbsp;&nbsp;&nbsp;&nbsp;&nbsp;&nbsp;&nbsp;&nbsp;&nbsp;&nbsp;&nbsp;&nbsp;&nbsp;&nbsp;&nbsp;&nbsp;&nbsp;&nbsp;&nbsp;&nbsp;&nbsp;&nbsp;&nbsp;&nbsp;&nbsp;&nbsp;      |<font size=4>x is not y </font>     | \n"
   ]
  },
  {
   "cell_type": "markdown",
   "metadata": {
    "id": "oD-EIg_IFeO6"
   },
   "source": [
    "Let's illustrate what we have learned.\n",
    "\n",
    "### <font color=red> **Run the following 3 code blocks:** </font>"
   ]
  },
  {
   "cell_type": "code",
   "execution_count": null,
   "metadata": {
    "id": "iMHhvYWtCgzP"
   },
   "outputs": [],
   "source": [
    "x = 5\n",
    "y = 5\n",
    "\n",
    "isTrue = \"x is y\"\n",
    "isFalse = \"x is not y\"\n",
    "\n",
    "if (x is y):\n",
    "    print (isTrue)\n",
    "else:\n",
    "        print (isFalse)"
   ]
  },
  {
   "cell_type": "code",
   "execution_count": null,
   "metadata": {
    "id": "30CfArcWFrQB"
   },
   "outputs": [],
   "source": [
    "x = 5\n",
    "y = 8\n",
    "\n",
    "isTrue = \"x is y\"\n",
    "isFalse = \"x is not y\"\n",
    "\n",
    "if (x is y):\n",
    "    print (isTrue)\n",
    "    \n",
    "else:\n",
    "    print (isFalse)"
   ]
  },
  {
   "cell_type": "code",
   "execution_count": null,
   "metadata": {
    "id": "o8imbCB6FwNo"
   },
   "outputs": [],
   "source": [
    "x = 5\n",
    "y = 5\n",
    "\n",
    "isTrue = \"x is y\"\n",
    "isFalse = \"x is not y\"\n",
    "\n",
    "if (x is not y):\n",
    "    print (isTrue)\n",
    "else:\n",
    "        print (isFalse)"
   ]
  },
  {
   "cell_type": "markdown",
   "metadata": {
    "id": "6c2EeK9xF4Nv"
   },
   "source": [
    "### 5.6 Membership Operators\n",
    "\n",
    "In Python, many data structures have their internal structure of a sequence, e.g., String, List, Tuple, etc.\n",
    "\n",
    "For example:\n",
    "\n",
    " - aString = \"Hello World\"\n",
    "\n",
    " - aList = [1,2,3,4,5]\n",
    "\n",
    " - aTuple = (1, 2, 3, 4, 5)\n",
    "\n",
    "***Membership operators*** - in, not in - are used to test ***if a value is found*** in a sequence or not.\n",
    "\n",
    "|<font size=4>Operator</font>&nbsp;&nbsp;&nbsp;&nbsp;&nbsp;&nbsp;| <font size=4>Result</font>&nbsp;&nbsp;&nbsp;&nbsp;&nbsp;&nbsp;&nbsp;&nbsp;&nbsp;&nbsp;&nbsp;&nbsp;&nbsp;&nbsp;&nbsp;&nbsp;&nbsp;&nbsp;&nbsp;&nbsp;&nbsp;&nbsp;&nbsp;&nbsp;&nbsp;&nbsp;&nbsp;&nbsp;&nbsp;&nbsp;&nbsp;&nbsp;&nbsp;&nbsp;&nbsp;&nbsp;&nbsp;&nbsp;&nbsp;&nbsp;&nbsp;  | <font size=4>Example</font> |    \n",
    "| :--- |:--------------| :----------| \n",
    "|<font size=4>in</font>&nbsp;&nbsp;&nbsp;&nbsp;&nbsp;&nbsp;|<font size=4>True if the value/variable is found in the sequence</font>;&nbsp;&nbsp;&nbsp;&nbsp;&nbsp;&nbsp;&nbsp;&nbsp;&nbsp;&nbsp;&nbsp;&nbsp;&nbsp;&nbsp;&nbsp;&nbsp;&nbsp;&nbsp;&nbsp;&nbsp;&nbsp;&nbsp;&nbsp;&nbsp;&nbsp;&nbsp;&nbsp;&nbsp;&nbsp;&nbsp;&nbsp;&nbsp;&nbsp;&nbsp;&nbsp;&nbsp;&nbsp;&nbsp;&nbsp;&nbsp;&nbsp;&nbsp;&nbsp;&nbsp;&nbsp;&nbsp;&nbsp;&nbsp;&nbsp;&nbsp;&nbsp;&nbsp;&nbsp;&nbsp;&nbsp;&nbsp;&nbsp;&nbsp;&nbsp;&nbsp;&nbsp;&nbsp;&nbsp;&nbsp;&nbsp;|<font size=4>x in y </font> | \n",
    "|<font size=4>not in </font>|<font size=4>True if the value/variable is not found in the sequence</font>&nbsp;&nbsp;&nbsp;&nbsp;&nbsp;&nbsp;&nbsp;&nbsp;&nbsp;&nbsp;&nbsp;&nbsp;&nbsp;&nbsp;&nbsp;&nbsp;&nbsp;&nbsp;&nbsp;&nbsp;&nbsp;&nbsp;&nbsp;&nbsp;&nbsp;&nbsp;&nbsp;&nbsp;&nbsp;&nbsp;&nbsp;&nbsp;&nbsp;&nbsp;&nbsp;&nbsp;      |<font size=4>x not in y </font>     | \n",
    "\n",
    "### <font color=red> **Run the following 2 code blocks:** </font>\n"
   ]
  },
  {
   "cell_type": "code",
   "execution_count": null,
   "metadata": {
    "id": "Jn4thi7EF6Xv"
   },
   "outputs": [],
   "source": [
    "x = 'Hello World'\n",
    "if ('H' in x):\n",
    "    print (\"H in x\")\n",
    "else:\n",
    "        print (\"H not in x\")"
   ]
  },
  {
   "cell_type": "code",
   "execution_count": null,
   "metadata": {
    "id": "5n5urJdSF9l8"
   },
   "outputs": [],
   "source": [
    "# You will get an error but think why you have an error.\n",
    "aList = [1, 2, 3, 4, 5]\n",
    "if (8 not isn aList):\n",
    "    print (\"8 not in aList\")\n",
    "else:\n",
    "        print (\"8 in aList\")"
   ]
  },
  {
   "cell_type": "markdown",
   "metadata": {
    "id": "ZixNhSIhGW_N"
   },
   "source": [
    "## 6. Pseudo-Code \n",
    "\n",
    "### Overview\n",
    "In machine learning, many developers write pseudo-code for their machine learning algorithms. Python pseudocode is a syntax-free representation of code. So, the Python pseudocode does not involve any code in it. The Python pseudocode is a very close representation of the algorithmic logic. Read through the following scenario to better explain the purpose of pseudo-code.\n",
    "\n",
    "### 6.1 Scenario: A Problem\n",
    "\n",
    "It is assumed that a software developer is asked to write a Python program that can calculate and print the diameter and the circumference of a circle. The user enters the data of the radius and its measurement unit (in, ft, cm, or m) from the console.\n",
    "\n",
    "### 6.2 How to Solve the problem\n",
    "\n",
    " - First, we need to write pseudo-code (or create a flow-chart) of steps that can solve the problem. Formally, we design an algorithm that offers a solution to the problem.\n",
    " - Then, based on the steps of the pseudo-code/flowchart (or algorithm), we write the code of the program.\n",
    " \n",
    " These two steps are the foundation of the software engineering process.\n",
    " \n",
    "### 6.3 Pseudo-Code\n",
    " \n",
    " With pseudo-code, the developer writes down the steps to solve the problem in plain English.\n",
    " \n",
    " 1. Start\n",
    " 2. Read the input of the radius from the console\n",
    " 3. Read the measurement unit of the radius (in, ft, cm, m)\n",
    " 4. Calculate the diameter of the circle\n",
    "     - diameter = 2*radius\n",
    " 5. Calculate the circumference of the circle\n",
    "     - Circumference = diameter*PI (3.14159)\n",
    " 6. Print out the diameter\n",
    " 7. Print out the circumference\n",
    " 8. End"
   ]
  },
  {
   "cell_type": "markdown",
   "metadata": {
    "id": "Tyr0lHDfKLM8"
   },
   "source": [
    "<font color=green>**Great Job!**<font color=green> \n",
    "\n",
    "<font color=green>**You have learned the fundamentals of programming for data science with Python.**<font color=green>"
   ]
  }
 ],
 "metadata": {
  "colab": {
   "name": "Fundamentals_of_Programming_with_Python.ipynb",
   "provenance": []
  },
  "kernelspec": {
   "display_name": "Python 3 (ipykernel)",
   "language": "python",
   "name": "python3"
  },
  "language_info": {
   "codemirror_mode": {
    "name": "ipython",
    "version": 3
   },
   "file_extension": ".py",
   "mimetype": "text/x-python",
   "name": "python",
   "nbconvert_exporter": "python",
   "pygments_lexer": "ipython3",
   "version": "3.9.7"
  }
 },
 "nbformat": 4,
 "nbformat_minor": 1
}
