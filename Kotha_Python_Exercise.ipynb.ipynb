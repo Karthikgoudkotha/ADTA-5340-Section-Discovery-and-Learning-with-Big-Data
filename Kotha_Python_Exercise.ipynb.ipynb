{
  "cells": [
    {
      "cell_type": "markdown",
      "metadata": {
        "id": "lhyjwUEhMvai"
      },
      "source": [
        "# Kartthik Goud, Kotha, June,16,2023"
      ]
    },
    {
      "cell_type": "markdown",
      "metadata": {
        "id": "frbhus4kMvam"
      },
      "source": [
        "# <center><font color=green>Week 2 Assignment Python Exercises </font> </center>\n",
        "## <font color=black>Complete the following sections: </font>\n",
        "- Basic Techniques of Programming\n",
        "- Built-In Basic Data Types\n",
        "- Python Data Structures: Lists\n",
        "- Python Data Structures: Ranges\n",
        "- Python Data Structures: Strings\n",
        "- Python Data Structures: Tuples"
      ]
    },
    {
      "cell_type": "markdown",
      "metadata": {
        "id": "cCk12qpJMvam"
      },
      "source": [
        "# <center><font color=green>Basic Techniques of Programming: Programming for Data Science with Python </font> </center>\n",
        "\n",
        "\n",
        "## Overview\n",
        "To write a useful program, the developer needs to use various techniques of programming.  Basic Techniques of Programming cover the techniques below.\n",
        "\n",
        "Some of these techniques are considered as the core of programming to create interactive software applications:\n",
        "\n",
        " - Input and output\n",
        "\n",
        " - Selections\n",
        "\n",
        " - Loops\n",
        "\n",
        "\n",
        "<hr style=\"border:5px solid green\"> </hr>\n",
        "\n",
        "\n",
        "## 1. Read Data from Console\n",
        "\n",
        "### Scenario\n",
        "\n",
        "Write a short Python program that reads an integer value from the console and then prints out the value.\n",
        "\n",
        "<font color=red> **IMPORTANT NOTES:** </font> It is assumed that the user would not make any mistake while entering the value. Therefore, it is not necessary to check the input after reading it.\n",
        "\n",
        "\n",
        "### Syntax\n",
        "To read data from the console in Python, use the built-in function:\n",
        "\n",
        " - input(prompt_string)\n",
        "\n",
        "Where prompt_string is the text used to prompt the user to enter the data.\n",
        "\n",
        "<font color=red> **IMPORTANT NOTES:**</font> We need to declare a new variable to store the text read from the console.\n",
        "\n",
        "\n",
        "### <font color=red> **Run the following code:** </font>\n"
      ]
    },
    {
      "cell_type": "code",
      "execution_count": 2,
      "metadata": {
        "scrolled": true,
        "colab": {
          "base_uri": "https://localhost:8080/",
          "height": 0
        },
        "id": "Qq8OyS7NMvan",
        "outputId": "85c127ce-4216-46b7-f1b2-04384bf2736c"
      },
      "outputs": [
        {
          "output_type": "stream",
          "name": "stdout",
          "text": [
            "Enter an interger value:1\n",
            "The user has entered this value:  1\n"
          ]
        }
      ],
      "source": [
        "anIntValue = input(\"Enter an interger value:\")\n",
        "print (\"The user has entered this value: \", anIntValue)\n"
      ]
    },
    {
      "cell_type": "markdown",
      "metadata": {
        "id": "0mXRU5icMvao"
      },
      "source": [
        "<hr style=\"border:5px solid green\"> </hr>"
      ]
    },
    {
      "cell_type": "markdown",
      "metadata": {
        "id": "soxaV6LjMvap"
      },
      "source": [
        "## 2. Print Data to the Console\n",
        "\n",
        " - To print data to the console, use the built-in function:\n",
        "\n",
        " >print(a_string)\n",
        "\n",
        " - Where a string can be only one string or multiple sub-strings and values separated by commas','.\n",
        "\n",
        "- To print the values in one line, using the end-of-line character'\\n':\n",
        "\n",
        " >print (...,'\\n')\n",
        "\n",
        "\n",
        "### <font color=red> **Run the following code:** </font>"
      ]
    },
    {
      "cell_type": "code",
      "execution_count": 3,
      "metadata": {
        "colab": {
          "base_uri": "https://localhost:8080/",
          "height": 0
        },
        "id": "sVgcA_F4Mvap",
        "outputId": "be5ca9ca-e9fa-4477-867a-61eacd81a410"
      },
      "outputs": [
        {
          "output_type": "stream",
          "name": "stdout",
          "text": [
            "Examples of using print() function \n",
            "\n",
            "This is the value of x: 15 \n",
            "\n",
            "This is the value of x: 15 ; This is the value of y: 25 . \n",
            "\n"
          ]
        }
      ],
      "source": [
        "print (\"Examples of using print() function\", \"\\n\")\n",
        "\n",
        "x = 15\n",
        "\n",
        "print (\"This is the value of x:\", x, \"\\n\")\n",
        "\n",
        "y = 25\n",
        "\n",
        "print (\"This is the value of x:\", x, \"; This is the value of y:\", y, \". \\n\")"
      ]
    },
    {
      "cell_type": "markdown",
      "metadata": {
        "id": "KxPjDU-SMvap"
      },
      "source": [
        "## PRACTICE\n",
        "- Change the value of x to 1001 and the value of y to 2001\n",
        "- Print the following sentence using the print(a_string) built-in function\n",
        "- The value of x is 1001 and y is 2001"
      ]
    },
    {
      "cell_type": "code",
      "execution_count": 6,
      "metadata": {
        "colab": {
          "base_uri": "https://localhost:8080/",
          "height": 0
        },
        "id": "YSsmiPzTMvaq",
        "outputId": "fa076228-ea66-49f2-c722-62fda33353a4"
      },
      "outputs": [
        {
          "output_type": "stream",
          "name": "stdout",
          "text": [
            "The value of x is 1001 and y is 2001\n"
          ]
        }
      ],
      "source": [
        "#TO DO Add practice code here\n",
        "x=1001\n",
        "y=2001\n",
        "print(\"The value of x is\", x ,\"and y is\", y)"
      ]
    },
    {
      "cell_type": "markdown",
      "metadata": {
        "id": "bDTLvwPOMvaq"
      },
      "source": [
        "<hr style=\"border:5px solid green\"> </hr>"
      ]
    },
    {
      "cell_type": "markdown",
      "metadata": {
        "id": "RUXDb3azMvaq"
      },
      "source": [
        "## 3.  Selections\n",
        "### Scenario: A Problem\n",
        " - Let's review the problem of calculating the diameter and circumference of a circle\n",
        "\n",
        " - It is assumed that a software developer is asked to write a Python program that can calculate and print out the diameter and the circumference of a circle. The user enters data of the radius and its measurement unit (in, ft, cm, or m) from the console.\n",
        "\n",
        "### Let's imagine this scenario:\n",
        "The user inadvertently enters a negative value of the radius, which raises the following question:\n",
        "\n",
        " - Should we let the program ignore this error?\n",
        "\n",
        " - The answer is definitely \"NO.\"\n",
        "\n",
        " - So, what should we do?\n",
        "\n",
        " - We should add selections into our program to check the sign of the input.\n",
        "\n",
        "Let's write a better pseudo-code:\n",
        "\n",
        "1. Start\n",
        "\n",
        "2. Read the input of the radius from the console\n",
        "\n",
        "    if(radius<0): ←selection\n",
        "\n",
        "    inform the user about the error\n",
        "\n",
        "    request to read again\n",
        "\n",
        "3. Read the measurement unit of the radius (in, ft, cm, m)\n",
        "\n",
        "4. Calculate the diameter of the circle\n",
        "\n",
        "    diameter = 2 * radius\n",
        "\n",
        "5. Calculate the circumference of the circle\n",
        "\n",
        "    Circumference =  diameter * PI (3.14159)\n",
        "\n",
        "6. Print out the diameter\n",
        "\n",
        "7. Print out the circumference\n",
        "\n",
        "8. End\n"
      ]
    },
    {
      "cell_type": "markdown",
      "metadata": {
        "id": "9mvNupAuMvar"
      },
      "source": [
        "<hr style=\"border:5px solid green\"> </hr>"
      ]
    },
    {
      "cell_type": "markdown",
      "metadata": {
        "id": "rlWEJfxmMvar"
      },
      "source": [
        "## 4. if Statements\n",
        "### 1. Simple if:\n",
        "if(boolean expression):\n",
        "\n",
        ">//... ... ... statement(s)\n",
        "\n",
        "\n",
        "#### Example:\n",
        "\n",
        "numCredits = ... # number of credits an undergaduate student completed\n",
        "\n",
        "if (numCredits >=90):\n",
        "\n",
        ">studentLevel = \"Senior\"\n",
        "\n",
        "### 2.  if Statements: if...else:\n",
        "\n",
        "if(boolean expression):\n",
        "> //... ... ... statement(s)\n",
        "\n",
        "else:\n",
        "\n",
        "                     //... ... ... statement(s)\n",
        "\n",
        "#### Example:\n",
        "\n",
        "if(numCredits >= 120):\n",
        "\n",
        "                 readyToGraduate = True;\n",
        "\n",
        "else:\n",
        "\n",
        "                 readyToGraduate = False;\n",
        "\n",
        "### 3.  if ... elif ... elif ... else\n",
        "if(boolean expression):\n",
        "\n",
        "            // ... ... ... statement(s)\n",
        "\n",
        "elif (boolean expression):\n",
        "\n",
        "          // ... ... ..... statement(s)\n",
        "\n",
        "elif (boolean expression):\n",
        "\n",
        "          // ... ... ..... statement(s)\n",
        "\n",
        "else:\n",
        "\n",
        "          // ... ... ..... statement(s)\n",
        "\n",
        "\n",
        "#### Example:\n",
        "It is assumed that the Registrar Office of a university asks one analyst to provide a solution to the following problem:\n",
        "\n",
        "Write a Python program that can read input from the console. The user enters a student's name and his/her level (freshmen, ..., senior). The program is expected to assign a numeric code that represents his/her priority to register for courses. Students with higher priority can register for courses before those with lower priority. The code starts from 1 (highest) assigned to seniors and increments by 1 for each lower level. Finally, the program prints out the student name, his/her level, and the code of priority to register courses in the same line.\n",
        "\n",
        "##### Pseudo-Code with if ... elif ... elif ... else:\n",
        "1. START\n",
        "\n",
        "2. ... more code here ...\n",
        "\n",
        "3. Perform the selection\n",
        "\n",
        " - If \"senior\", priorityToRegister = 1 // highest\n",
        "\n",
        " - If \"junior\", priorityToRegister = 2\n",
        "\n",
        " - If \"sophmore\", priorityToRegister = 3\n",
        "\n",
        " - If \"freshman\" , priorityToRegister = 4\n",
        "\n",
        " - If (not any above), print out warning of errors\n",
        "\n",
        "4. ... more code here ...\n",
        "\n",
        "5. END\n",
        "\n",
        "##### Code:\n",
        "\n",
        "studentLevel = ... #level: freshman, sophmore, junior, senior\n",
        "\n",
        "if(studentLevel == \"Senior\")\n",
        "\n",
        "     priorityToRegister = 1\n",
        "\n",
        "if(studentLevel == \"Junior\")\n",
        "\n",
        "     priorityToRegister = 2\n",
        "\n",
        "if(studentLevel == \"Sophmore\")\n",
        "\n",
        "     priorityToRegister = 1\n",
        "\n",
        "### <font color=red> **Run the following code:** </font>"
      ]
    },
    {
      "cell_type": "code",
      "execution_count": 7,
      "metadata": {
        "colab": {
          "base_uri": "https://localhost:8080/",
          "height": 0
        },
        "id": "EhK7YxnXMvar",
        "outputId": "7a3818fb-7575-402a-9182-df3f557331dc"
      },
      "outputs": [
        {
          "output_type": "stream",
          "name": "stdout",
          "text": [
            "studentLevel: Senior ; Priority to register 1 \n",
            "\n"
          ]
        }
      ],
      "source": [
        "studentLevel= \"Senior\" # level: freshman, sophomore, junior, senior\n",
        "if(studentLevel ==\"Senior\"):\n",
        "    prioritytoRegister = 1\n",
        "elif(studentLevel ==\"Junior\"):\n",
        "    prioritytoRegister = 2\n",
        "elif(studentLevel ==\"Sophomore\"):\n",
        "    prioritytoRegister = 3\n",
        "elif(studentLevel ==\"Freshman\"):\n",
        "    prioritytoRegister = 4\n",
        "else:\n",
        "    print(\"Invalid studentLevel!!!\")\n",
        "\n",
        "print(\"studentLevel:\", studentLevel, \"; Priority to register\",prioritytoRegister, \"\\n\")"
      ]
    },
    {
      "cell_type": "markdown",
      "metadata": {
        "id": "GQ-dTMx4Mvas"
      },
      "source": [
        "<hr style=\"border:5px solid green\"> </hr>"
      ]
    },
    {
      "cell_type": "markdown",
      "metadata": {
        "id": "IaR_fglUMvas"
      },
      "source": [
        "## 5. Loops\n",
        "### Scenario: A Problem\n",
        "\n",
        "Let's review the problem of calculating the diameter and circumference of a circle\n",
        "\n",
        "    It is assumed that a software developer is asked to write a Python program that can calculate and print out the diameter and the circumference of a circle. The user enters data of the radius and its measurement unit (in, ft, cm, or m) from the console.\n",
        "\n",
        "Let's write a Pseudo-Code:\n",
        "\n",
        "1.  Start\n",
        "\n",
        "2.  Read the input of the radius from the console\n",
        " - if (radius<0),\n",
        "      - inform the user about the error\n",
        "\n",
        "      - request to read again\n",
        "\n",
        "3.  Read the measurement unit of the radius (in, ft, cm, m)\n",
        " - if (unit is not among (in, ft, cm, m)),\n",
        "      - inform the user about the error\n",
        "      - request to read again\n",
        "\n",
        "4. Calculate the diameter of the circle\n",
        " - diameter = 2 * radius\n",
        "\n",
        "5. Calculate the circumference of the circle\n",
        " - Circumference + diameter * PI (3.14159)\n",
        "\n",
        "6. Print out the diameter\n",
        "\n",
        "7. Print out the circumference\n",
        "\n",
        "8. End\n",
        "\n",
        "\n",
        "Let's focus on this piece of pseudo-code:\n",
        "\n",
        "Read the input of the radius from the console\n",
        " - if (radius < 0),\n",
        "      - inform the user about the error\n",
        "\n",
        "      - request to read again\n",
        "\n",
        "What happens if the user makes mistakes while entering the radius data again and again?\n",
        "\n",
        "    The program must perform the checking again and again until it can read a valid piece of data._\n",
        "\n",
        "In other words, the program must repeatedly check the input until it gets the correct one → the program uses <font color= blue>LOOPS.</font>\n",
        "\n",
        "### 1. while Loop\n",
        "\n",
        "#### Syntax\n",
        "\n",
        "while (<loop-continuation condition.):\n",
        "\n",
        "    // ... ... ... statements(s)\n",
        "\n",
        "#### Example:\n",
        "\n",
        "radius = ... # radius of the circle\n",
        "\n",
        "while (radius < 0):\n",
        "\n",
        "    print (\"Radius cannot be negative!!!\")\n",
        "\n",
        "    print (\"Enter radius:\")\n",
        "\n",
        "radius = input(\"Enter radius: \")\n",
        "\n",
        "<font color=red> **IMPORTANT NOTES:**</font>\n",
        "\n",
        " - In Python, WHILE loop also has an \"ELSE\" statement as IF does.\n",
        "\n",
        " - However, it is strongly discouraged from using the ELSE statement of WHILE because it causes confusion and can make the code too complicated.\n",
        "\n",
        " - For more details, see the example in the following section of FOR loop.\n",
        "\n",
        "### 2.  for Loop\n",
        "\n",
        "The Python for loop is an iterator based for loop.\n",
        "\n",
        "It steps through the items of lists, tuples, strings, the keys of dictionaries, and other iterables.\n",
        "\n",
        "The Python for loop starts with the keyword for followed by an arbitrary variable name, which will hold the values of the following sequence object, which is stepped through.\n",
        "\n",
        "#### Syntax\n",
        "\n",
        "for (variable) in (sequence):\n",
        "\n",
        "    // ... ... ... statement(s)\n",
        "\n",
        "### <font color=red> **Run the following code:** </font>"
      ]
    },
    {
      "cell_type": "code",
      "execution_count": 8,
      "metadata": {
        "colab": {
          "base_uri": "https://localhost:8080/",
          "height": 0
        },
        "id": "lEJNY9h5Mvas",
        "outputId": "2f328371-cf60-4bad-a879-0ce659078152"
      },
      "outputs": [
        {
          "output_type": "stream",
          "name": "stdout",
          "text": [
            "C\n",
            "C++\n",
            "Java\n",
            "Python\n",
            "Perl\n",
            "Ruby\n",
            "Scala\n"
          ]
        }
      ],
      "source": [
        "language = [\"C\", \"C++\", \"Java\", \"Python\", \"Perl\", \"Ruby\", \"Scala\"]\n",
        "for x in language:\n",
        "    print (x)"
      ]
    },
    {
      "cell_type": "markdown",
      "metadata": {
        "id": "2LFXe-xVMvas"
      },
      "source": [
        "## PRACTICE\n",
        "- Create a for Loop that displays four or more characteristics of Big Data\n",
        "- Hint: Volume, Velocity, and so on.\n",
        "- Check the lecture slides if you cannot remember"
      ]
    },
    {
      "cell_type": "code",
      "execution_count": 202,
      "metadata": {
        "colab": {
          "base_uri": "https://localhost:8080/"
        },
        "id": "wGRhNKxRMvas",
        "outputId": "f5ae8670-de33-44f5-d09a-04abf9d629ce"
      },
      "outputs": [
        {
          "output_type": "stream",
          "name": "stdout",
          "text": [
            "Volume\n",
            "Velocity\n",
            "Variety\n",
            "Veracity \n",
            "Value\n"
          ]
        }
      ],
      "source": [
        "#To Do add code here for the for loop\n",
        "BigData=[\"Volume\",\"Velocity\",\"Variety\",\"Veracity \", \"Value\"]\n",
        "for x in BigData:\n",
        "  print(x)"
      ]
    },
    {
      "cell_type": "markdown",
      "metadata": {
        "id": "0WNEJkuEMvat"
      },
      "source": [
        "<font color=red> **IMPORTANT NOTES:**</font>\n",
        "\n",
        "In Python, FOR loop also has an optional \"ELSE\" statement as the IF statement does.\n",
        "\n",
        "***However, it is strongly discouraged from using the ELSE statement of FOR loop because it causes confusion and complicates the code.***\n",
        "\n",
        "(Remember the Zen of Python: ... ***Simple is better than complex! Complex is better than complicated!***)\n",
        "\n",
        "Semantically, the optional ELSE of FOR loop works exactly as the optional ELSE of a WHILE loop:\n",
        "\n",
        " - It will be executed only if the loop hasn't been \"broken\" by a BREAK statement.\n",
        "\n",
        " - So it will only be executed after all the items of the sequence in the header have been iterated through.\n",
        "\n",
        "If a BREAK statement has to be executed in the program flow of the for loop:\n",
        "\n",
        " - The loop will be exited\n",
        "\n",
        " - The program flow will continue with the first statement following the FOR loop if there are any.\n",
        "\n",
        "Usually, BREAK statements are wrapped into conditional statements.\n",
        "\n",
        "### <font color=red> **Run the following code:** </font>"
      ]
    },
    {
      "cell_type": "code",
      "execution_count": 12,
      "metadata": {
        "colab": {
          "base_uri": "https://localhost:8080/",
          "height": 0
        },
        "id": "yM47tJ_uMvat",
        "outputId": "86ebcf32-9c2b-40de-ab45-e9d08ebf3140"
      },
      "outputs": [
        {
          "output_type": "stream",
          "name": "stdout",
          "text": [
            "I am so glad: No spam!\n",
            "Finally, I finished stuffing myself\n",
            "I am so glad: No spam!\n",
            "Finally, I finished stuffing myself\n",
            "I am so glad: No spam!\n",
            "Finally, I finished stuffing myself\n",
            "I am so glad: No spam!\n",
            "Finally, I finished stuffing myself\n"
          ]
        }
      ],
      "source": [
        "edibles = [\"ham\", \"Spam\", \"eggs\", \"nuts\"]\n",
        "\n",
        "for food in edibles:\n",
        "    if food == \"spam\":\n",
        "        print(\"No more spam please!\")\n",
        "        break\n",
        "        print (\"reat, delicious \" + food)\n",
        "    else:\n",
        "        print(\"I am so glad: No spam!\")\n",
        "        print (\"Finally, I finished stuffing myself\")"
      ]
    },
    {
      "cell_type": "markdown",
      "metadata": {
        "id": "qmGVSs_OMvat"
      },
      "source": [
        "#### Let's consider the \"else\" statement in the FOR loop\n",
        "\n",
        "for (variable) in (sequence):\n",
        "    #statements ...\n",
        "else:\n",
        "    #statements ...\n",
        "\n",
        "\n",
        "What does it mean by the \"ELSE\" statement?\n",
        "\n",
        "Based on the syntax, it seems that the execution of the ELSE block is only based on the state of the conditional expression of the FOR statement - no other conditions.\n",
        "\n",
        "However, semantically, it is not true!\n",
        "\n",
        "The execution of the ELSE block only becomes meaningful due to the existence of a BREAK statement embedded inside another conditional statement like IF.\n",
        "\n",
        "In the above piece of code, intuitively, the ELSE block would be executed if the conditional expression of FOR statement, i.e., \"food is edibles\", gets a \"False\" value - when the FOR loop has iterated through the whole sequence.\n",
        "\n",
        "Let's execute the following piece of code that lets the FOR loop iterate through its sequence:\n",
        "\n",
        "### <font color=red> **Run the following code:** </font>"
      ]
    },
    {
      "cell_type": "code",
      "execution_count": 13,
      "metadata": {
        "colab": {
          "base_uri": "https://localhost:8080/",
          "height": 0
        },
        "id": "c6tuOgIQMvat",
        "outputId": "2c0b21dc-5f7b-4540-d994-2bdd5a201edf"
      },
      "outputs": [
        {
          "output_type": "stream",
          "name": "stdout",
          "text": [
            "No break in FOR loop statements\n",
            "No break in FOR loop statements\n",
            "No break in FOR loop statements\n",
            "No break in FOR loop statements\n",
            "I am so glad: No spam!\n",
            "Finally, I finished stuffing myself\n"
          ]
        }
      ],
      "source": [
        "edibles = [\"ham\", \"spam\", \"eggs\", \"nuts\"]\n",
        "for food in edibles:\n",
        "    print(\"No break in FOR loop statements\")\n",
        "else:\n",
        "    print (\"I am so glad: No spam!\")\n",
        "print (\"Finally, I finished stuffing myself\")"
      ]
    },
    {
      "cell_type": "markdown",
      "metadata": {
        "id": "UY3-1OHuMvat"
      },
      "source": [
        "<div class=\"alert alert-block alert-success\">\n",
        "<b> NOTES:</b>\n",
        "From the results of the above piece of code, the FOR loop iterated through the whole sequence.\n",
        "Therefore, the ELSE block is executed.\n",
        "\n",
        "However, the output of the ELSE block is not only meaningless but also misleading!\n",
        "\n",
        "There is \"Spam\" in the sequence!\n",
        "\n",
        "Let's find out what the developer really wants to achieve with the above ELSE statement\n",
        "\n",
        " - He/she wants to find out if \"spam\" is listed in the list of edibles by using FOR loop to iterate through the sequence.\n",
        " - If \"spam\" is found, he/she prints out a dialog to inform that.\n",
        " - Otherwise, he/she is so happy to print out that there is no \"spam\" in the list.\n",
        "\n",
        "Let's write another much simpler piece of code to achieve what he/she wants </div>\n",
        "\n",
        "### <font color=red> **Run the following 2 blocks of code:** </font>"
      ]
    },
    {
      "cell_type": "code",
      "execution_count": 14,
      "metadata": {
        "colab": {
          "base_uri": "https://localhost:8080/",
          "height": 0
        },
        "id": "0g73i8aRMvat",
        "outputId": "c1e71b1a-b665-4763-cbf2-608c12963876"
      },
      "outputs": [
        {
          "output_type": "stream",
          "name": "stdout",
          "text": [
            "Great, delicious ham\n",
            "No more spam please!\n",
            "Finally, I finished stuffing myself\n"
          ]
        }
      ],
      "source": [
        "edibles = [\"ham\", \"spam\", \"eggs\",\"nuts\"]\n",
        "spam=False\n",
        "\n",
        "for food in edibles:\n",
        "    if food == \"spam\":\n",
        "        spam = True\n",
        "        print(\"No more spam please!\")\n",
        "        break\n",
        "    print (\"Great, delicious \" + food)\n",
        "\n",
        "if (not spam):\n",
        "    print(\"I am so glad: No spam!\")\n",
        "\n",
        "print(\"Finally, I finished stuffing myself\")\n"
      ]
    },
    {
      "cell_type": "code",
      "execution_count": 15,
      "metadata": {
        "colab": {
          "base_uri": "https://localhost:8080/",
          "height": 0
        },
        "id": "-XfGdn-EMvau",
        "outputId": "09b2f2cd-46fe-4308-8262-a07e87cd0aef"
      },
      "outputs": [
        {
          "output_type": "stream",
          "name": "stdout",
          "text": [
            "Great, delicious ham\n",
            "Great, delicious eggs\n",
            "Great, delicious nuts\n",
            "I am so glad: No spam!\n",
            "Finally, I finished stuffing myself\n"
          ]
        }
      ],
      "source": [
        "#NO spam\n",
        "\n",
        "edibles =[\"ham\",\"eggs\",\"nuts\"]\n",
        "spam = False\n",
        "\n",
        "for food in edibles:\n",
        "    if food == \"spam\":\n",
        "        spam = True\n",
        "        print(\"No more spam please!\")\n",
        "        break\n",
        "    print(\"Great, delicious \" + food)\n",
        "if (not spam):\n",
        "        print(\"I am so glad: No spam!\")\n",
        "print(\"Finally, I finished stuffing myself\")"
      ]
    },
    {
      "cell_type": "markdown",
      "metadata": {
        "id": "Hco00vkcMvau"
      },
      "source": [
        "<font color=red> **IMPORTANT NOTES:**</font>\n",
        "\n",
        "By not using the ELSE statement, the code is much easier to understand, cleaner, and simpler - following the Zen of Python:\n",
        "\n",
        "> ***Simple is better than complex!***\n",
        "\n",
        "> ***Complex is better than complicated!***"
      ]
    },
    {
      "cell_type": "markdown",
      "metadata": {
        "id": "iwVrad5zMvau"
      },
      "source": [
        "### 3.  Break\n",
        "\n",
        "\"Break\" is used to terminate a loop, i.e., completely get out of the loop immediately.\n",
        "\n",
        "### <font color=red> **Run the following 4 blocks of code:** </font>"
      ]
    },
    {
      "cell_type": "code",
      "execution_count": 16,
      "metadata": {
        "colab": {
          "base_uri": "https://localhost:8080/",
          "height": 0
        },
        "id": "Yc-g1aaWMvau",
        "outputId": "7583b94b-0db3-4939-c33e-d7cc1295e522"
      },
      "outputs": [
        {
          "output_type": "stream",
          "name": "stdout",
          "text": [
            "10\n",
            "11\n",
            "12\n",
            "13\n",
            "14\n"
          ]
        }
      ],
      "source": [
        "for x in range (10,20):\n",
        "       if (x == 15): break\n",
        "       print (x)"
      ]
    },
    {
      "cell_type": "code",
      "execution_count": 17,
      "metadata": {
        "colab": {
          "base_uri": "https://localhost:8080/",
          "height": 0
        },
        "id": "V0BZqeWLMvau",
        "outputId": "f97b7b03-559f-4168-a74b-3d0c51bbabab"
      },
      "outputs": [
        {
          "output_type": "stream",
          "name": "stdout",
          "text": [
            "s\n",
            "t\n",
            "r\n",
            "The end\n"
          ]
        }
      ],
      "source": [
        "for val in \"string\":\n",
        "    if val == \"i\":\n",
        "        break\n",
        "    print(val)\n",
        "\n",
        "print(\"The end\")"
      ]
    },
    {
      "cell_type": "code",
      "execution_count": 18,
      "metadata": {
        "colab": {
          "base_uri": "https://localhost:8080/",
          "height": 0
        },
        "id": "DsdDeZHXMvau",
        "outputId": "907bc59c-630b-4be0-f245-9b565937e96b"
      },
      "outputs": [
        {
          "output_type": "stream",
          "name": "stdout",
          "text": [
            "Current Letter : P\n",
            "Current Letter : y\n",
            "Current Letter : t\n",
            "Good bye!\n"
          ]
        }
      ],
      "source": [
        "for letter in 'Python':\n",
        "   if letter == 'h':\n",
        "      break\n",
        "   print ('Current Letter :', letter)\n",
        "print (\"Good bye!\")"
      ]
    },
    {
      "cell_type": "code",
      "execution_count": 20,
      "metadata": {
        "colab": {
          "base_uri": "https://localhost:8080/",
          "height": 0
        },
        "id": "6erGlJoZMvau",
        "outputId": "fbc1bbc9-53de-4144-b6ca-250f2fba741e"
      },
      "outputs": [
        {
          "output_type": "stream",
          "name": "stdout",
          "text": [
            "Enter the price of the next sold item: 2\n",
            "Enter the price of the next sold item: 3\n",
            "Enter the price of the next sold item: 50000000\n",
            "50000005\n"
          ]
        }
      ],
      "source": [
        "# You will need to enter a price once you run the code.  Use high numbers since the break is at $1M\n",
        "#  Hit return once you enter an amount\n",
        "\n",
        "numItems=0\n",
        "totalSales=0\n",
        "totalSoldItems=5000\n",
        "\n",
        "while(numItems<totalSoldItems):\n",
        "    price=int(input(\"Enter the price of the next sold item: \"))\n",
        "    totalSales=totalSales+price\n",
        "    if(totalSales>=1000000):\n",
        "        break;\n",
        "    numItems=numItems+1\n",
        "print(totalSales)"
      ]
    },
    {
      "cell_type": "markdown",
      "metadata": {
        "id": "ep5Mzt3DMvav"
      },
      "source": [
        "### 4. Continue\n",
        "\n",
        "\"Continue\" is used to skip the rest of an itinerary and start a new one.\n",
        "\n",
        "### <font color=red> **Run the following 2 blocks of code:** </font>"
      ]
    },
    {
      "cell_type": "code",
      "execution_count": 21,
      "metadata": {
        "colab": {
          "base_uri": "https://localhost:8080/",
          "height": 0
        },
        "id": "5R4StlwYMvav",
        "outputId": "25c0acda-09ba-42ba-ea4d-c98ff0135f7b"
      },
      "outputs": [
        {
          "output_type": "stream",
          "name": "stdout",
          "text": [
            "s\n",
            "t\n",
            "r\n",
            "n\n",
            "g\n",
            "The end\n"
          ]
        }
      ],
      "source": [
        "for val in \"string\":\n",
        "    if val == \"i\":\n",
        "        continue\n",
        "    print(val)\n",
        "\n",
        "print(\"The end\")"
      ]
    },
    {
      "cell_type": "code",
      "execution_count": 22,
      "metadata": {
        "colab": {
          "base_uri": "https://localhost:8080/",
          "height": 0
        },
        "id": "upcYIVVoMvav",
        "outputId": "ce17bc6f-5bfd-4467-cf94-82d1b4e9d553"
      },
      "outputs": [
        {
          "output_type": "stream",
          "name": "stdout",
          "text": [
            "Current variable value : 9\n",
            "Current variable value : 8\n",
            "Current variable value : 7\n",
            "Current variable value : 6\n",
            "Current variable value : 4\n",
            "Current variable value : 3\n",
            "Current variable value : 2\n",
            "Current variable value : 1\n",
            "Current variable value : 0\n",
            "Good bye!\n"
          ]
        }
      ],
      "source": [
        "var = 10\n",
        "while var > 0:\n",
        "   var = var -1\n",
        "   if var == 5:\n",
        "      continue\n",
        "   print ('Current variable value :', var)\n",
        "print (\"Good bye!\")"
      ]
    },
    {
      "cell_type": "markdown",
      "metadata": {
        "id": "cUgoCB0qMvav"
      },
      "source": [
        "<hr style=\"border:5px solid green\"> </hr>"
      ]
    },
    {
      "cell_type": "markdown",
      "metadata": {
        "id": "HUccmM-xMvav"
      },
      "source": [
        "# <center><font color=green>Built-In Basic Data Types: </font> </center>\n",
        "# <center><font color=green>Programming for Data Science with Python </font> </center>\n",
        "\n",
        "\n",
        "## Overview\n",
        "#### Python: Everything is an Object\n",
        "In Python, everything is an object\n",
        " - All values are objects\n",
        " - Anything which can be used as a value (int, str, float, functions, etc.) are implemented as objects.\n",
        "\n",
        "#### Built-In Basic Data Types\n",
        " - NUMERIC:\n",
        "> - Integers: int\n",
        "> - Floating point numbers: float\n",
        "> - Complex numbers: complex\n",
        "\n",
        " - LOGICAL/BOOLEAN:\n",
        "Boolean values: bool\n",
        "The focus: the integers and the floats\n",
        "\n",
        "\n",
        "<hr style=\"border:5px solid green\"> </hr>\n",
        "\n",
        "\n",
        "## 1. Numeric Data Types\n",
        "### 1.1 Integers: int\n",
        "\n",
        "### <font color=red> **Run the following code:** </font>"
      ]
    },
    {
      "cell_type": "code",
      "execution_count": 23,
      "metadata": {
        "colab": {
          "base_uri": "https://localhost:8080/",
          "height": 0
        },
        "id": "mafGW650Mvav",
        "outputId": "e0570bda-8074-4a6c-e2ca-5d2b2e08df39"
      },
      "outputs": [
        {
          "output_type": "stream",
          "name": "stdout",
          "text": [
            "Data type of x:  <class 'int'> \n",
            "\n",
            "Data type of y:  <class 'int'> \n",
            "\n"
          ]
        }
      ],
      "source": [
        "x = 3\n",
        "\n",
        "y = x\n",
        "\n",
        "print (\"Data type of x: \", type(x), '\\n')\n",
        "print (\"Data type of y: \", type(y), '\\n')"
      ]
    },
    {
      "cell_type": "markdown",
      "metadata": {
        "id": "3HmuZCFSMvav"
      },
      "source": [
        "### 1.2 Floating-Point Numbers: float\n",
        "### <font color=red> **Run the following code:** </font>"
      ]
    },
    {
      "cell_type": "code",
      "execution_count": 24,
      "metadata": {
        "colab": {
          "base_uri": "https://localhost:8080/",
          "height": 0
        },
        "id": "ZTG19Y5gMvaz",
        "outputId": "4e3567ac-4239-4f35-bf9b-5129dd477939"
      },
      "outputs": [
        {
          "output_type": "stream",
          "name": "stdout",
          "text": [
            "Data type of x:  <class 'float'> \n",
            "\n",
            "Data type of y:  <class 'float'> \n",
            "\n"
          ]
        }
      ],
      "source": [
        "x = 3.5\n",
        "\n",
        "y = x\n",
        "\n",
        "print (\"Data type of x: \", type(x), '\\n')\n",
        "print (\"Data type of y: \", type(y), '\\n')"
      ]
    },
    {
      "cell_type": "markdown",
      "metadata": {
        "id": "KWdZccOTMvaz"
      },
      "source": [
        "### 1.3 Complex Numbers: complex\n",
        "A complex number is represented by “x + yj”.\n",
        " - Python converts the real numbers x and y into complex using the function complex (x,y).\n",
        " - The real part can be accessed using the function real() and imaginary part can be represented by imag().\n",
        "### <font color=red> **Run the following code:** </font>"
      ]
    },
    {
      "cell_type": "code",
      "execution_count": 25,
      "metadata": {
        "colab": {
          "base_uri": "https://localhost:8080/",
          "height": 0
        },
        "id": "rViGSnhxMva0",
        "outputId": "13a0561c-9d22-4411-e8b9-299ec94ac72c"
      },
      "outputs": [
        {
          "output_type": "stream",
          "name": "stdout",
          "text": [
            "aComplex is a complex number:  (5+3j) \n",
            "\n",
            "Data type of aComplex:  <class 'complex'> \n",
            "\n"
          ]
        }
      ],
      "source": [
        "x = 5\n",
        "\n",
        "y = 3\n",
        "\n",
        "aComplex = complex(5,3)\n",
        "\n",
        "print (\"aComplex is a complex number: \", aComplex, '\\n')\n",
        "print (\"Data type of aComplex: \", type(aComplex), '\\n')"
      ]
    },
    {
      "cell_type": "markdown",
      "metadata": {
        "id": "AzAFTW7wMva0"
      },
      "source": [
        "<hr style=\"border:5px solid green\"> </hr>"
      ]
    },
    {
      "cell_type": "markdown",
      "metadata": {
        "id": "DbUQkXnIMva0"
      },
      "source": [
        "## 2. Logical Data Types/Boolean Values: bool\n",
        "### <font color=red> **Run the following code:** </font>"
      ]
    },
    {
      "cell_type": "code",
      "execution_count": 26,
      "metadata": {
        "colab": {
          "base_uri": "https://localhost:8080/",
          "height": 0
        },
        "id": "LCH1FsJbMva0",
        "outputId": "1dd1ff58-3f87-40d8-b34f-fd86fabd398f"
      },
      "outputs": [
        {
          "output_type": "stream",
          "name": "stdout",
          "text": [
            "boolVar is a boolean variable:  True \n",
            "\n",
            "Data type of boolVar:  <class 'bool'> \n",
            "\n"
          ]
        }
      ],
      "source": [
        "boolVar = True\n",
        "print (\"boolVar is a boolean variable: \", boolVar, '\\n')\n",
        "print (\"Data type of boolVar: \", type(boolVar), '\\n')"
      ]
    },
    {
      "cell_type": "markdown",
      "metadata": {
        "id": "UvKxXvJPMva0"
      },
      "source": [
        "#### <font color=red>IMPORTANT NOTES:</font>\n",
        "Any values that are ***NOT 0*** or null can be used the “True” Boolean value in Python.\n",
        "### <font color=red> **Run the following 2 code blocks:** </font>"
      ]
    },
    {
      "cell_type": "code",
      "execution_count": 27,
      "metadata": {
        "colab": {
          "base_uri": "https://localhost:8080/",
          "height": 0
        },
        "id": "CcG0OpYdMva0",
        "outputId": "a5a2cd72-560f-4169-9b81-f52f32eea462"
      },
      "outputs": [
        {
          "output_type": "stream",
          "name": "stdout",
          "text": [
            "Data type of boolVar:  <class 'int'> \n",
            "\n"
          ]
        }
      ],
      "source": [
        "boolVar = 5\n",
        "\n",
        "if (boolVar):\n",
        "    print (\"Data type of boolVar: \", type(boolVar), '\\n')"
      ]
    },
    {
      "cell_type": "code",
      "execution_count": 28,
      "metadata": {
        "colab": {
          "base_uri": "https://localhost:8080/",
          "height": 0
        },
        "id": "0Hp1OPSuMva1",
        "outputId": "89afb02c-fd01-4b70-f751-613264c3c3e4"
      },
      "outputs": [
        {
          "output_type": "stream",
          "name": "stdout",
          "text": [
            "boolVar is a boolean variable:  False \n",
            "\n",
            "Data type of boolVar:  <class 'bool'> \n",
            "\n"
          ]
        }
      ],
      "source": [
        "boolVar = False\n",
        "print (\"boolVar is a boolean variable: \", boolVar, '\\n')\n",
        "print (\"Data type of boolVar: \", type(boolVar), '\\n')"
      ]
    },
    {
      "cell_type": "markdown",
      "metadata": {
        "id": "jG6Vny2ZMva1"
      },
      "source": [
        "#### <font color=red>IMPORTANT NOTES:</font>\n",
        "Any zero values like ***0 or null*** can be used the “False” Boolean value in Python."
      ]
    },
    {
      "cell_type": "code",
      "execution_count": 30,
      "metadata": {
        "id": "WZBeJG2BMva1"
      },
      "outputs": [],
      "source": [
        "boolVar=0\n",
        "\n",
        "if (boolVar):\n",
        "    print (\"Data type of boolVar: \", type(boolVar), '\\n')"
      ]
    },
    {
      "cell_type": "markdown",
      "metadata": {
        "id": "jvmcUFfwMva1"
      },
      "source": [
        "#### <font color=red>IMPORTANT NOTES:</font>\n",
        "\n",
        "In the above code, the value 0 can be used as “False.”\n",
        "Therefore, nothing is printed out when the code in the above cell is executed.\n",
        "\n",
        "\n",
        "<hr style=\"border:5px solid green\"> </hr>\n",
        "\n",
        "\n",
        "## 3. Character Data Types\n",
        "\n",
        "***NOTES*** about character data types\n",
        "\n",
        " - Python does not support character data type (char).\n",
        " - It supports string and the characters as string of length one.\n",
        "\n",
        " ### <font color=red> **Run the following code:** </font>"
      ]
    },
    {
      "cell_type": "code",
      "execution_count": 31,
      "metadata": {
        "colab": {
          "base_uri": "https://localhost:8080/",
          "height": 0
        },
        "id": "v9t7omIxMva1",
        "outputId": "25d0ab50-6551-456b-cc90-5f01a3dcb725"
      },
      "outputs": [
        {
          "output_type": "stream",
          "name": "stdout",
          "text": [
            "aChar is a String variable, NOT a Character variable:  a \n",
            "\n",
            "ata type of aChar: <class 'str'> \n",
            "\n"
          ]
        }
      ],
      "source": [
        "aChar = 'a'\n",
        "print (\"aChar is a String variable, NOT a Character variable: \", aChar, \"\\n\")\n",
        "print (\"ata type of aChar:\",type(aChar),'\\n')"
      ]
    },
    {
      "cell_type": "markdown",
      "metadata": {
        "id": "pBr9SZNeMva1"
      },
      "source": [
        "<hr style=\"border:5px solid green\"> </hr>"
      ]
    },
    {
      "cell_type": "markdown",
      "metadata": {
        "id": "_YfGxTUSMva1"
      },
      "source": [
        "# <center><font color=green>Python Data Structures:  Lists </font> </center>\n",
        "# <center><font color=green>Programming for Data Science with Python </font> </center>"
      ]
    },
    {
      "cell_type": "markdown",
      "metadata": {
        "id": "pHXjR6htMva2"
      },
      "source": [
        "## 1. Overview\n",
        "In Python, ***lists*** are the objects of the class list that has the ***constructor list()***.\n",
        "\n",
        "A list is a ***mutable*** sequence data type/structure, i.e., its ***contents can be changed*** after being created.\n",
        "\n",
        "List literals are written within square brackets [ ].\n",
        "\n",
        "Lists work similarly to strings:\n",
        " - Use the len() function for the length of a list\n",
        " - Use square brackets [ ] to access data, with the first element at index 0\n",
        " - The range of indices: 0 .. len(a list) - 1\n",
        "\n",
        "### 1.1 Properties of Lists\n",
        "The ***main properties*** of Python lists:\n",
        " - List elements are ordered in a sequence.\n",
        " - List contain objects of different data types\n",
        " - Elements of a list can be accessed by an index - as other sequence data type/structures like strings, tuples\n",
        " - Lists are arbitrarily nestable, i.e. they can contain other lists as sublists\n",
        " - Lists are ***mutable***, i.e. their elements can be changed after the list has been created.\n",
        "\n",
        " #### Examples:\n",
        "\n",
        "##### Empty list\n",
        "> my_list=[]\n",
        "\n",
        "##### List of integers\n",
        "> my_list = [1,2,3]\n",
        "\n",
        "#### List with mixed datatypes\n",
        ">my_list = [1, \"Hello\", 3.4]\n",
        "\n",
        "#### Nested list\n",
        "> my_list =[\"mouse\", [8,4,6], ['a']]"
      ]
    },
    {
      "cell_type": "markdown",
      "metadata": {
        "id": "1Uyka4QwMva2"
      },
      "source": [
        "## 1.2. Elements of a list\n",
        "\n",
        "#### Index range of list elements\n",
        "\n",
        "***Forward*** index range of list elements: ***0 .. len(list) - 1***\n",
        "Forward: starting from the 1st element\n",
        "\n",
        "***Backward*** index range of list elements: -1 .. -len(list)\n",
        "Backward : Starting from the last element\n",
        "\n",
        "## 1.3. Constructor list(iterable)\n",
        "\n",
        "The ***constructor list()*** builds a list whose items are the same and in the same order as iterable's items.\n",
        " - ***iterable*** may be either a sequence, a container that supports iteration, or an iterator object.\n",
        " - If ***iterable is already a list, a copy*** is made and returned, similar to iterable[:].\n",
        "\n",
        "For example:\n",
        " - list('abc') returns ['a', 'b', 'c']\n",
        " - list( (1, 2, 3) ) returns [1, 2, 3].\n",
        "\n",
        "If ***no argument*** is given, the constructor creates a ***new empty list, []***.\n",
        "\n",
        "### <font color=red> **Run the following 3 code blocks:** </font>"
      ]
    },
    {
      "cell_type": "code",
      "execution_count": 32,
      "metadata": {
        "colab": {
          "base_uri": "https://localhost:8080/",
          "height": 0
        },
        "id": "vL8FgiBwMva2",
        "outputId": "22693219-ee15-4c31-b91c-b4f60d5daed5"
      },
      "outputs": [
        {
          "output_type": "execute_result",
          "data": {
            "text/plain": [
              "['a', 'b', 'c']"
            ]
          },
          "metadata": {},
          "execution_count": 32
        }
      ],
      "source": [
        "list(\"abc\")"
      ]
    },
    {
      "cell_type": "code",
      "execution_count": 33,
      "metadata": {
        "colab": {
          "base_uri": "https://localhost:8080/",
          "height": 0
        },
        "id": "hn-itlNUMva2",
        "outputId": "efa6827f-a4cf-4b2b-f578-fa0ffd4512e6"
      },
      "outputs": [
        {
          "output_type": "execute_result",
          "data": {
            "text/plain": [
              "[1, 2, 3]"
            ]
          },
          "metadata": {},
          "execution_count": 33
        }
      ],
      "source": [
        "list ((1,2,3))"
      ]
    },
    {
      "cell_type": "code",
      "execution_count": 34,
      "metadata": {
        "colab": {
          "base_uri": "https://localhost:8080/",
          "height": 0
        },
        "id": "x6u8fC7nMva3",
        "outputId": "aa3ae9d2-1913-4ac0-f8fc-6402374aad45"
      },
      "outputs": [
        {
          "output_type": "execute_result",
          "data": {
            "text/plain": [
              "[1, 3, 5, 7, 9]"
            ]
          },
          "metadata": {},
          "execution_count": 34
        }
      ],
      "source": [
        "list ([1, 3, 5, 7, 9])"
      ]
    },
    {
      "cell_type": "markdown",
      "metadata": {
        "id": "BrhwXus0Mva3"
      },
      "source": [
        "<hr style=\"border:5px solid green\"> </hr>"
      ]
    },
    {
      "cell_type": "markdown",
      "metadata": {
        "id": "Z7aPOWjGMva3"
      },
      "source": [
        "## 2. Create Lists\n",
        "### 2.1 Overview\n",
        "Lists may be constructed in several ways:\n",
        " - Using a pair of square brackets to denote the ***empty list: []***\n",
        " - Using square brackets with values separating from each others with commas: [a], [a, b, c]\n",
        " - Using a ***list comprehension:*** [x for x in iterable]\n",
        " - Using the ***list constructor:*** list() or list(iterable)\n",
        "\n",
        "### 2.2 Create empty lists\n",
        "### <font color=red> **Run the following code block:** </font>"
      ]
    },
    {
      "cell_type": "code",
      "execution_count": 35,
      "metadata": {
        "colab": {
          "base_uri": "https://localhost:8080/",
          "height": 0
        },
        "id": "edjr7wu2Mva3",
        "outputId": "8d4126e0-8757-4a86-b1ae-8d17792737a5"
      },
      "outputs": [
        {
          "output_type": "stream",
          "name": "stdout",
          "text": [
            "0\n",
            "0\n"
          ]
        }
      ],
      "source": [
        "empty_list = []\n",
        "another_empty_list = list()\n",
        "print(len(empty_list))\n",
        "print(len(another_empty_list))"
      ]
    },
    {
      "cell_type": "markdown",
      "metadata": {
        "id": "LEW1WeIiMva3"
      },
      "source": [
        "### 2.3 Create lists by converting other data structures/types to lists: Using list()\n",
        "> ### 2.3.1 Create list from strings or tuples using the constructor list()\n",
        "### <font color=red> **Run the following 3 code blocks:** </font>"
      ]
    },
    {
      "cell_type": "code",
      "execution_count": 36,
      "metadata": {
        "colab": {
          "base_uri": "https://localhost:8080/",
          "height": 0
        },
        "id": "47lA-tJrMva3",
        "outputId": "29c24ba2-8688-412b-b1e7-1b398ee89d15"
      },
      "outputs": [
        {
          "output_type": "execute_result",
          "data": {
            "text/plain": [
              "['h', 'o', 'u', 's', 'e']"
            ]
          },
          "metadata": {},
          "execution_count": 36
        }
      ],
      "source": [
        "# Convert a string of one word to a list of characters\n",
        "list(\"house\")"
      ]
    },
    {
      "cell_type": "code",
      "execution_count": 37,
      "metadata": {
        "colab": {
          "base_uri": "https://localhost:8080/",
          "height": 0
        },
        "id": "oaN_B_FBMva3",
        "outputId": "4b2f069a-ccf2-444c-b44d-7e6bce9122a8"
      },
      "outputs": [
        {
          "output_type": "execute_result",
          "data": {
            "text/plain": [
              "['T', 'h', 'i', 's', ' ', 'w', 'o', 'r', 'd']"
            ]
          },
          "metadata": {},
          "execution_count": 37
        }
      ],
      "source": [
        "# Convert a a string of words to a list of characters\n",
        "list(\"This word\")"
      ]
    },
    {
      "cell_type": "code",
      "execution_count": 38,
      "metadata": {
        "colab": {
          "base_uri": "https://localhost:8080/",
          "height": 0
        },
        "id": "eN0q4okYMva4",
        "outputId": "7ef7e367-7ad1-4c0e-8e25-0a934f238747"
      },
      "outputs": [
        {
          "output_type": "execute_result",
          "data": {
            "text/plain": [
              "['ready', 'fire', 'aim']"
            ]
          },
          "metadata": {},
          "execution_count": 38
        }
      ],
      "source": [
        "# Convert a tuple of a list\n",
        "# Notice the parentheses vs. the square brackets\n",
        "aTuple = ('ready', 'fire', 'aim')\n",
        "list(aTuple)"
      ]
    },
    {
      "cell_type": "markdown",
      "metadata": {
        "id": "-qmnAwFHMva4"
      },
      "source": [
        "> ### 2.3.2 Create lists from strings using split() method\n",
        "### <font color=red> **Run the following 2 code blocks but change the date to today:** </font>"
      ]
    },
    {
      "cell_type": "code",
      "execution_count": 39,
      "metadata": {
        "colab": {
          "base_uri": "https://localhost:8080/",
          "height": 0
        },
        "id": "TuMNqyPpMva4",
        "outputId": "42b5d49c-d9ce-4d75-eb77-59d69b591d29"
      },
      "outputs": [
        {
          "output_type": "stream",
          "name": "stdout",
          "text": [
            "['This', 'is', 'a', 'string', 'of', 'words']\n"
          ]
        }
      ],
      "source": [
        "#Convert a string of words to a list of words: Using split() to chop the string with ' '\n",
        "\n",
        "aStringOfWords= \"This is a string of words\"\n",
        "aList=aStringOfWords.split(' ')\n",
        "print(aList)"
      ]
    },
    {
      "cell_type": "code",
      "execution_count": 40,
      "metadata": {
        "colab": {
          "base_uri": "https://localhost:8080/",
          "height": 0
        },
        "id": "SG0L2TRlMva4",
        "outputId": "e198abf6-c8e3-44fd-cc74-04d98bf847a5"
      },
      "outputs": [
        {
          "output_type": "stream",
          "name": "stdout",
          "text": [
            "['2', '1', '2022']\n"
          ]
        }
      ],
      "source": [
        "#Convert a string to a List: Using split() to chop the string with some separator\n",
        "aDayString = \"2/1/2022\"\n",
        "alist = aDayString.split('/')\n",
        "print(alist)"
      ]
    },
    {
      "cell_type": "markdown",
      "metadata": {
        "id": "dgix9kMkMva4"
      },
      "source": [
        "> ### 2.3.3 Create lists by using list comprehension and slicing an existing list\n",
        "### <font color=red> **Run the following code block:** </font>"
      ]
    },
    {
      "cell_type": "code",
      "execution_count": 43,
      "metadata": {
        "colab": {
          "base_uri": "https://localhost:8080/",
          "height": 0
        },
        "id": "2NUDxZMmMva4",
        "outputId": "563200f6-ff8d-4fe7-a17d-065c3f274698"
      },
      "outputs": [
        {
          "output_type": "stream",
          "name": "stdout",
          "text": [
            "[2, 3]\n",
            "[3, 4]\n",
            "[4, 5]\n"
          ]
        }
      ],
      "source": [
        "# NOTES: MUST use List slice--> CANNOT use any other function to delete/remove\n",
        "\n",
        "l_lists=[[1,2,3],[2,3,4],[3,4,5]]\n",
        "\n",
        "new_llists=[element[1:] for element in l_lists]\n",
        "\n",
        "i=0\n",
        "for element in new_llists:\n",
        "    print(element)\n",
        "    i=i+1\n",
        "    if i==3:\n",
        "        break"
      ]
    },
    {
      "cell_type": "markdown",
      "metadata": {
        "id": "Wto3Ow8aMva5"
      },
      "source": [
        "<hr style=\"border:5px solid green\"> </hr>"
      ]
    },
    {
      "cell_type": "markdown",
      "metadata": {
        "id": "T5iULFz6Mva5"
      },
      "source": [
        "## 3. Access List Elements\n",
        "\n",
        "### 3.1 Access single elements\n",
        "\n",
        " - As other sequence data types/structures, list elements can be accessed via their indices.\n",
        " - We can use the index operator [] to access an item in a list. ***Index starts from 0.***\n",
        " - So, a list having 5 elements will have index from O to 4.\n",
        " - Trying to access an element other than this will raise an lndexError.\n",
        "\n",
        " - ***The index must be an integer.***\n",
        " - We can't use float or other types, this will result into TypeError.\n",
        "\n",
        "Nested list are accessed using ***nested indexing [][]*** that is similar to index of 2-D array elements.\n",
        "\n",
        "### <font color=red> **Run the following 6 code blocks:** </font>"
      ]
    },
    {
      "cell_type": "code",
      "execution_count": 44,
      "metadata": {
        "colab": {
          "base_uri": "https://localhost:8080/",
          "height": 0
        },
        "id": "m_Dk72N7Mva5",
        "outputId": "a0f1d8e8-8ecb-4ed1-bdc7-098852423d88"
      },
      "outputs": [
        {
          "output_type": "stream",
          "name": "stdout",
          "text": [
            "p\n",
            "o\n",
            "e\n"
          ]
        }
      ],
      "source": [
        "my_list = ['p','r','o','b','e']\n",
        "\n",
        "\n",
        "print(my_list[0])\n",
        "\n",
        "print(my_list[2])\n",
        "\n",
        "print(my_list[4])"
      ]
    },
    {
      "cell_type": "code",
      "execution_count": 45,
      "metadata": {
        "colab": {
          "base_uri": "https://localhost:8080/",
          "height": 0
        },
        "id": "-cs1i0MxMva5",
        "outputId": "a30ffa33-ad0f-4b04-d280-96d131c9e939"
      },
      "outputs": [
        {
          "output_type": "stream",
          "name": "stdout",
          "text": [
            "a\n",
            "5\n"
          ]
        }
      ],
      "source": [
        "# Nested List\n",
        "\n",
        "n_list = [\"Happy\", [2,0,1,5]]\n",
        "\n",
        "# Nested indexing\n",
        "\n",
        "print(n_list[0][1])\n",
        "\n",
        "print(n_list[1][3])"
      ]
    },
    {
      "cell_type": "code",
      "execution_count": 46,
      "metadata": {
        "colab": {
          "base_uri": "https://localhost:8080/",
          "height": 0
        },
        "id": "k2wRGzCeMva6",
        "outputId": "fd55b9b9-8184-43e6-f54f-a0467f00303e"
      },
      "outputs": [
        {
          "output_type": "stream",
          "name": "stdout",
          "text": [
            "['ready', 'fire', 'aim']\n",
            "Length of the list: 3\n"
          ]
        }
      ],
      "source": [
        "aTuple=('ready','fire','aim')\n",
        "aList=list(aTuple)\n",
        "\n",
        "print (aList)\n",
        "print(\"Length of the list:\",len(aList))"
      ]
    },
    {
      "cell_type": "code",
      "execution_count": 47,
      "metadata": {
        "colab": {
          "base_uri": "https://localhost:8080/",
          "height": 0
        },
        "id": "pSY910HCMva6",
        "outputId": "4d3e0083-bfb6-46ce-c24c-d3eacc0f731c"
      },
      "outputs": [
        {
          "output_type": "stream",
          "name": "stdout",
          "text": [
            "ready\n",
            "fire\n",
            "aim\n"
          ]
        }
      ],
      "source": [
        "# Access using forward index\n",
        "\n",
        "aTuple=('ready','fire','aim')\n",
        "aList=list(aTuple)\n",
        "\n",
        "list_element1=aList[0]\n",
        "list_element2=aList[1]\n",
        "list_element3=aList[2]\n",
        "\n",
        "print(list_element1)\n",
        "print(list_element2)\n",
        "print(list_element3)"
      ]
    },
    {
      "cell_type": "code",
      "execution_count": 48,
      "metadata": {
        "colab": {
          "base_uri": "https://localhost:8080/",
          "height": 0
        },
        "id": "AIw-R700Mva6",
        "outputId": "038b794f-bcaf-498c-e287-a2f14c894f39"
      },
      "outputs": [
        {
          "output_type": "stream",
          "name": "stdout",
          "text": [
            "aim\n",
            "fire\n",
            "ready\n"
          ]
        }
      ],
      "source": [
        "# Access using backward index\n",
        "aTuple=('ready','fire','aim')\n",
        "aList=list(aTuple)\n",
        "\n",
        "list_element_last=aList[-1]\n",
        "list_element_next_to_last=aList[-2]\n",
        "list_element_first=aList[-3]\n",
        "\n",
        "print(list_element_last)\n",
        "print(list_element_next_to_last)\n",
        "print(list_element_first)"
      ]
    },
    {
      "cell_type": "code",
      "execution_count": 49,
      "metadata": {
        "colab": {
          "base_uri": "https://localhost:8080/",
          "height": 0
        },
        "id": "1gwXShBFMva6",
        "outputId": "ccaf1185-7031-42fd-debf-4638ac9276b1"
      },
      "outputs": [
        {
          "output_type": "stream",
          "name": "stdout",
          "text": [
            "Python and C are quite different!\n"
          ]
        }
      ],
      "source": [
        "languages= [\"Python\", \"C\", \"C++\", \"Java\", \"Perl\"]\n",
        "print(languages[0] +\" and \"+ languages[1] +\" are quite different!\")"
      ]
    },
    {
      "cell_type": "markdown",
      "metadata": {
        "id": "D2bjPoR7Mva6"
      },
      "source": [
        "## PRACTICE\n",
        "- Change the languages to English, Spanish, French, Chinese, Hindi, and Arabic\n",
        "- Print the following sentence\n",
        "- English and Spanish are the most common languages in the great state of Texas!"
      ]
    },
    {
      "cell_type": "code",
      "execution_count": 50,
      "metadata": {
        "colab": {
          "base_uri": "https://localhost:8080/",
          "height": 0
        },
        "id": "LQ2jdLwHMva7",
        "outputId": "23caf007-2ab7-4ed6-cdee-d464f27a1a67"
      },
      "outputs": [
        {
          "output_type": "stream",
          "name": "stdout",
          "text": [
            "English and Spanish are the most common languages in the great state of Texas!\n"
          ]
        }
      ],
      "source": [
        "#To Do add your code here\n",
        "languages= [\"English\", \"Spanish\", \"French\", \"Chineese\", \"Hindi\",\"Arabic\"]\n",
        "print(languages[0] +\" and \"+ languages[1] +\" are the most common languages in the great state of Texas!\")"
      ]
    },
    {
      "cell_type": "markdown",
      "metadata": {
        "id": "YgGL9w47Mva7"
      },
      "source": [
        "### 3.2 Access a slice of lists\n",
        "\n",
        "### <font color=red> **Run the following code block:** </font>"
      ]
    },
    {
      "cell_type": "code",
      "execution_count": 51,
      "metadata": {
        "colab": {
          "base_uri": "https://localhost:8080/",
          "height": 0
        },
        "id": "Hon1QDmcMva7",
        "outputId": "ec1e8e0e-4cde-43a9-9ebc-962e74407389"
      },
      "outputs": [
        {
          "output_type": "stream",
          "name": "stdout",
          "text": [
            "['o', 'g', 'r']\n",
            "['p', 'r', 'o', 'g']\n",
            "['a', 'm', 'i', 'z']\n",
            "['p', 'r', 'o', 'g', 'r', 'a', 'm', 'i', 'z']\n"
          ]
        }
      ],
      "source": [
        "# We can access a range of items in a List by using the slicing operator (colon).\n",
        "# This is a very important concept for when we start working with algorithms in the 2nd half of the semester\n",
        "\n",
        "my_list = ['p','r','o','g','r','a','m','i','z']\n",
        "\n",
        "# elements 3rd up to the 5th (but not including)\n",
        "print(my_list[2:5])\n",
        "\n",
        "# elements backward from (but not inclucing) the negative 5th element (\"r\")\n",
        "print(my_list[:-5])\n",
        "\n",
        "# elements 6th to end\n",
        "# Remember the count starts at zero, not one\n",
        "print(my_list[5:])\n",
        "\n",
        "# elements beginning to end\n",
        "print(my_list[:])"
      ]
    },
    {
      "cell_type": "markdown",
      "metadata": {
        "id": "yQf7chhCMva7"
      },
      "source": [
        "<hr style=\"border:5px solid green\"> </hr>"
      ]
    },
    {
      "cell_type": "markdown",
      "metadata": {
        "id": "x78OjlcWMva7"
      },
      "source": [
        "## 4. Modify Lists\n",
        "### 4.1 Add/Change elements of lists\n",
        "> #### 4.1.1 Update/Change single elements or a sub-list of lists\n",
        "\n",
        "### <font color=red> **Run the following code block:** </font>"
      ]
    },
    {
      "cell_type": "code",
      "execution_count": 56,
      "metadata": {
        "colab": {
          "base_uri": "https://localhost:8080/",
          "height": 0
        },
        "id": "Yt89bWlDMva7",
        "outputId": "59350d2a-6bac-4fc1-fd4a-88aa125e3a50"
      },
      "outputs": [
        {
          "output_type": "stream",
          "name": "stdout",
          "text": [
            "[1, 4, 6, 8]\n",
            "[1, 3, 5, 7]\n"
          ]
        }
      ],
      "source": [
        "odd= [2, 4, 6, 8]\n",
        "\n",
        "# change the 1st item\n",
        "odd[0] = 1\n",
        "print(odd)\n",
        "\n",
        "# change 2nd to 4th items\n",
        "odd[1:4] = [3, 5, 7]\n",
        "print(odd)"
      ]
    },
    {
      "cell_type": "markdown",
      "metadata": {
        "id": "yYyKXepsMva7"
      },
      "source": [
        ">#### 4.1.2 Add single items or a sub-list into a list - using append() or extend() respectively\n",
        "\n",
        "### <font color=red> **Run the following code block:** </font>"
      ]
    },
    {
      "cell_type": "code",
      "execution_count": 57,
      "metadata": {
        "colab": {
          "base_uri": "https://localhost:8080/",
          "height": 0
        },
        "id": "dR4oWTA9Mva8",
        "outputId": "94316d93-4d50-4ac2-9f10-6cddd2ce482c"
      },
      "outputs": [
        {
          "output_type": "stream",
          "name": "stdout",
          "text": [
            "[1, 3, 5, 7]\n",
            "[1, 3, 5, 7, 9, 11, 13]\n"
          ]
        }
      ],
      "source": [
        "# We can add one item to a List using append() method\n",
        "# or add several items using extend() method.\n",
        "odd= [1, 3, 5]\n",
        "\n",
        "odd.append(7)\n",
        "print(odd)\n",
        "\n",
        "odd . extend([9, 11, 13])\n",
        "print(odd)"
      ]
    },
    {
      "cell_type": "markdown",
      "metadata": {
        "id": "nslZktemMva8"
      },
      "source": [
        ">#### 4.1.3 Insert single elements or sub-lists into an existing list\n",
        "\n",
        "### <font color=red> **Run the following code block:** </font>"
      ]
    },
    {
      "cell_type": "code",
      "execution_count": 58,
      "metadata": {
        "colab": {
          "base_uri": "https://localhost:8080/",
          "height": 0
        },
        "id": "hT6e-QkmMva8",
        "outputId": "9aa9fb81-ae71-4917-ed95-3fdef95c0eea"
      },
      "outputs": [
        {
          "output_type": "stream",
          "name": "stdout",
          "text": [
            "[1, 3, 9]\n",
            "[1, 3, 5, 7, 9]\n"
          ]
        }
      ],
      "source": [
        "# We can insert one item at a desired Location by using the method insert()\n",
        "# or insert multiple items by squeezing it into an empty slice of a List.\n",
        "\n",
        "odd= [1, 9]\n",
        "odd.insert( 1,3)\n",
        "print(odd)\n",
        "\n",
        "odd[2:2] = [5, 7]\n",
        "print(odd)"
      ]
    },
    {
      "cell_type": "markdown",
      "metadata": {
        "id": "r5TYnt1xMva8"
      },
      "source": [
        "### 4.2 Delete/Remove elements of lists\n",
        "> #### 4.2.1 Delete/Remove elements of lists - using the del() function\n",
        "\n",
        "### <font color=red> **Run the following code block:** </font>"
      ]
    },
    {
      "cell_type": "code",
      "execution_count": 59,
      "metadata": {
        "colab": {
          "base_uri": "https://localhost:8080/",
          "height": 0
        },
        "id": "iwBf3YriMva8",
        "outputId": "2f699aeb-83ba-436d-a9ac-93067cf2a330"
      },
      "outputs": [
        {
          "output_type": "stream",
          "name": "stdout",
          "text": [
            "3rd element has been removed:  ['p', 'r', 'b', 'l', 'e', 'm']\n",
            "Elements from index 1 until 4 have been removed:  ['p', 'm']\n"
          ]
        }
      ],
      "source": [
        "# We can delete one or more items from a List using the keyword del.\n",
        "\n",
        "my_list = [\"p\",\"r\", \"o\", \"b\", \"l\", \"e\", \"m\"]\n",
        "\n",
        "# delete one item\n",
        "del my_list[2]\n",
        "print(\"3rd element has been removed: \", my_list)\n",
        "\n",
        "# delete multiple items\n",
        "del my_list[1:5]\n",
        "print(\"Elements from index 1 until 4 have been removed: \", my_list)"
      ]
    },
    {
      "cell_type": "markdown",
      "metadata": {
        "id": "EtnuAFnxMva8"
      },
      "source": [
        "> #### 4.2.2 Delete/Remove elements of lists - using the functions remove() or pop{)\n",
        "\n",
        "### <font color=red> **Run the following code block:** </font>"
      ]
    },
    {
      "cell_type": "code",
      "execution_count": 60,
      "metadata": {
        "colab": {
          "base_uri": "https://localhost:8080/",
          "height": 0
        },
        "id": "nms66B4SMva8",
        "outputId": "a77c3e39-80a3-47bb-ad31-b62229ce2f0b"
      },
      "outputs": [
        {
          "output_type": "stream",
          "name": "stdout",
          "text": [
            "['r', 'b', 'l', 'e']\n"
          ]
        }
      ],
      "source": [
        "# We can use remove() method to remove the given item or pop() method to remove an item at the element of the list.\n",
        "# The pop() method removes and returns the Last item if index is not provided.\n",
        "# This helps us implement lists as stacks (first in, Last out data structure).\n",
        "# We can also use the clear() method to empty a List.\n",
        "\n",
        "my_list=['p','r','o','b','l','e','m']\n",
        "\n",
        "# Remove p, p is gone. (\"r\", \"o\", \"b\", \"l\", \"e\", \"m\") is left.\n",
        "my_list.remove('p')\n",
        "\n",
        "# Will now remove the first element (\"o\"). (\"r\",\"b\",\"l\",\"e\",\"m\") is left.\n",
        "my_list.pop(1)\n",
        "\n",
        "# Will now remove the last element\n",
        "my_list.pop()\n",
        "\n",
        "print(my_list)"
      ]
    },
    {
      "cell_type": "markdown",
      "metadata": {
        "id": "ljX9OA_ZMva9"
      },
      "source": [
        "> #### 4.2.3 Delete/Remove elements of a list - assigning an empty list [] to a slice of the list\n",
        "\n",
        "\n",
        "### <font color=red> **Run the following code block:** </font>"
      ]
    },
    {
      "cell_type": "code",
      "execution_count": 61,
      "metadata": {
        "colab": {
          "base_uri": "https://localhost:8080/",
          "height": 0
        },
        "id": "aoXevTmgMva9",
        "outputId": "b7521ae8-005e-4245-adf0-5105db2ec0a1"
      },
      "outputs": [
        {
          "output_type": "stream",
          "name": "stdout",
          "text": [
            "['p', 'r', 'm']\n"
          ]
        }
      ],
      "source": [
        "my_list=['p','r','o','b','l','e','m']\n",
        "\n",
        "# remove 'o'\n",
        "my_list[2:3]=[]\n",
        "\n",
        "# remove 'b', 'l', 'e'\n",
        "my_list[2:5]=[]\n",
        "\n",
        "print(my_list)"
      ]
    },
    {
      "cell_type": "markdown",
      "metadata": {
        "id": "htRmzCoGMva9"
      },
      "source": [
        "> #### 4.2.4 Delete/Remove all the elements of a list - using the clear() function\n",
        "\n",
        "### <font color=red> **Run the following code block:** </font>"
      ]
    },
    {
      "cell_type": "code",
      "execution_count": 62,
      "metadata": {
        "colab": {
          "base_uri": "https://localhost:8080/",
          "height": 0
        },
        "id": "_lek1PkHMva9",
        "outputId": "b3c0202b-a2a8-43bc-8ed3-0448d6cdd231"
      },
      "outputs": [
        {
          "output_type": "stream",
          "name": "stdout",
          "text": [
            "[]\n"
          ]
        }
      ],
      "source": [
        "my_list=['p','r','o','b','l','e','m']\n",
        "my_list.clear()\n",
        "\n",
        "print(my_list)"
      ]
    },
    {
      "cell_type": "markdown",
      "metadata": {
        "id": "j2-nlp6OMva9"
      },
      "source": [
        "<hr style=\"border:5px solid green\"> </hr>"
      ]
    },
    {
      "cell_type": "markdown",
      "metadata": {
        "id": "5ITwYEN-Mva9"
      },
      "source": [
        "## 5. Copy Lists\n",
        "### 5.1 Shallow copy\n",
        "\n",
        " - ***Shallow copy*** means that only the reference to the object is copied. No new object is created.\n",
        "\n",
        " - ***Shallow Copy*** means defining a new collection object and then populating it with references to the child objects found in the original.\n",
        " - The ***Shallow Copy*** process is not recursive.  This means that the child objects won't be copied. In case of shallow copy, a reference of object is copied in other object. It means that any changes made to a copy of object do reflect in the original object. In python, this is implemented using “copy()” function.\n",
        "\n",
        "### <font color=red> **Run the following code block:** </font>"
      ]
    },
    {
      "cell_type": "code",
      "execution_count": 63,
      "metadata": {
        "colab": {
          "base_uri": "https://localhost:8080/",
          "height": 0
        },
        "id": "oBamyWKkMva9",
        "outputId": "0ba459e2-1e65-48a8-ae66-e7b495343f1a"
      },
      "outputs": [
        {
          "output_type": "stream",
          "name": "stdout",
          "text": [
            "The original elements before shallow copying\n",
            "1 2 [3, 5] 4 \n",
            "\n",
            "The original elements after shallow copying\n",
            "1 2 [7, 5] 4 "
          ]
        }
      ],
      "source": [
        "# importing \"copy\" for copy operations\n",
        "import copy\n",
        "\n",
        "# initializing list 1\n",
        "i1 = [1, 2, [3,5], 4]\n",
        "\n",
        "# using copy to shallow copy\n",
        "s2 = copy.copy(i1)\n",
        "\n",
        "# original elements of list\n",
        "print (\"The original elements before shallow copying\")\n",
        "for i in range(0,len(i1)):\n",
        "\tprint (i1[i],end=\" \")\n",
        "\n",
        "print(\"\\n\")\n",
        "\n",
        "# modifying the new list (shallow copy)\n",
        "s2[2][0] = 7\n",
        "\n",
        "# checking if change is reflected\n",
        "print (\"The original elements after shallow copying\")\n",
        "for i in range(0,len( i1)):\n",
        "\tprint (i1[i],end=\" \")"
      ]
    },
    {
      "cell_type": "markdown",
      "metadata": {
        "id": "dasr8TKnMva-"
      },
      "source": [
        "### 5.2 Deep copy\n",
        "\n",
        " - The ***Deep Copy*** process is where the copying process occurs recursively.\n",
        "\n",
        " - ***Deep copy*** means a new collection will first be created and then that copy will recursively be populated with copies of the child objects found in the original list.\n",
        "\n",
        " - A ***Deep Copy*** stores copies of an object's values, but a ***Shallow Copy*** stores references to the original object(list, dict, etc)\n",
        "\n",
        " - A ***Deep Copy** does ***NOT*** reflect any changes made to the new (copied) object from the original object; however, the ***Shallow Copy*** does reflect any modifications.\n",
        "\n",
        " - A ***Deep Copy*** is the ***real copy*** of the orginal.\n",
        "\n",
        " - Deep copying lists can be done using the ***deepcopy()*** function of the ***module copy*** in Python 3.\n",
        "\n",
        "\n",
        " ### <font color=red> **Run the following code block:** </font>"
      ]
    },
    {
      "cell_type": "code",
      "execution_count": 64,
      "metadata": {
        "colab": {
          "base_uri": "https://localhost:8080/",
          "height": 0
        },
        "id": "WQYPXFicMva-",
        "outputId": "cbfad786-b42b-4abf-ee32-eea1f4726ada"
      },
      "outputs": [
        {
          "output_type": "stream",
          "name": "stdout",
          "text": [
            "The original elements before deep copying\n",
            "1 2 [3, 5] 4 \n",
            "\n",
            "The new list of elements after deep copying \n",
            "1 2 [7, 5] 4 \n",
            "\n",
            "The original elements after deep copying\n",
            "1 2 [3, 5] 4 "
          ]
        }
      ],
      "source": [
        "# importing \"copy\" for copy operations\n",
        "import copy\n",
        "\n",
        "# initializing list 1\n",
        "i1 = [1, 2, [3,5], 4]\n",
        "\n",
        "# using deepcopy() to deep copy initial list (il)\n",
        "d2 = copy.deepcopy(i1)\n",
        "\n",
        "# original elements of list\n",
        "print (\"The original elements before deep copying\")\n",
        "for i in range(0,len(i1)):\n",
        "\tprint (i1[i],end=\" \")\n",
        "\n",
        "print(\"\\n\")\n",
        "\n",
        "# adding and element to new list\n",
        "d2[2][0] = 7\n",
        "\n",
        "# Change is reflected in l2\n",
        "print (\"The new list of elements after deep copying \")\n",
        "for i in range(0,len( i1)):\n",
        "\tprint (d2[i],end=\" \")\n",
        "\n",
        "print(\"\\n\")\n",
        "\n",
        "# Change is NOT reflected in original list\n",
        "# as it is a deep copy\n",
        "print (\"The original elements after deep copying\")\n",
        "for i in range(0,len( i1)):\n",
        "\tprint (i1[i],end=\" \")\n"
      ]
    },
    {
      "cell_type": "markdown",
      "metadata": {
        "id": "nle5FQjSMva-"
      },
      "source": [
        "<hr style=\"border:5px solid green\"> </hr>"
      ]
    },
    {
      "cell_type": "markdown",
      "metadata": {
        "id": "G-QDhxqjMva-"
      },
      "source": [
        "### 6. Delete Lists\n",
        "To delete a list, using the built-in function del().\n",
        "\n",
        "### <font color=red> **Run the following 3 code blocks:** </font>"
      ]
    },
    {
      "cell_type": "code",
      "execution_count": 69,
      "metadata": {
        "colab": {
          "base_uri": "https://localhost:8080/",
          "height": 0
        },
        "id": "TqJxKrruMva-",
        "outputId": "8fa12325-a54e-45dd-8e5c-aa6ddd987130"
      },
      "outputs": [
        {
          "output_type": "stream",
          "name": "stdout",
          "text": [
            "[1, 2, [3, 5], 4]\n"
          ]
        }
      ],
      "source": [
        "list1 = [1, 2, [3,5], 4]\n",
        "print(list1)"
      ]
    },
    {
      "cell_type": "code",
      "execution_count": 73,
      "metadata": {
        "colab": {
          "base_uri": "https://localhost:8080/",
          "height": 0
        },
        "id": "wxm7uFwrMva-",
        "outputId": "a08179e5-848b-4750-e0fe-097ddc245bb1"
      },
      "outputs": [
        {
          "output_type": "stream",
          "name": "stdout",
          "text": [
            "list1 has been deleted.\n"
          ]
        }
      ],
      "source": [
        "del(list1)\n",
        "print(\"list1 has been deleted.\")"
      ]
    },
    {
      "cell_type": "code",
      "execution_count": 74,
      "metadata": {
        "colab": {
          "base_uri": "https://localhost:8080/",
          "height": 182
        },
        "id": "ueo-Tj9TMva_",
        "outputId": "7e3b7e0e-df88-4843-e90c-cc12ede03f07"
      },
      "outputs": [
        {
          "output_type": "error",
          "ename": "NameError",
          "evalue": "ignored",
          "traceback": [
            "\u001b[0;31m---------------------------------------------------------------------------\u001b[0m",
            "\u001b[0;31mNameError\u001b[0m                                 Traceback (most recent call last)",
            "\u001b[0;32m<ipython-input-74-476b7d506017>\u001b[0m in \u001b[0;36m<cell line: 1>\u001b[0;34m()\u001b[0m\n\u001b[0;32m----> 1\u001b[0;31m \u001b[0mprint\u001b[0m\u001b[0;34m(\u001b[0m\u001b[0mlist1\u001b[0m\u001b[0;34m)\u001b[0m\u001b[0;34m\u001b[0m\u001b[0;34m\u001b[0m\u001b[0m\n\u001b[0m\u001b[1;32m      2\u001b[0m \u001b[0;31m# You will get an error since list1 has been deleted.\u001b[0m\u001b[0;34m\u001b[0m\u001b[0;34m\u001b[0m\u001b[0m\n",
            "\u001b[0;31mNameError\u001b[0m: name 'list1' is not defined"
          ]
        }
      ],
      "source": [
        "print(list1)\n",
        "# You will get an error since list1 has been deleted."
      ]
    },
    {
      "cell_type": "markdown",
      "metadata": {
        "id": "fOh9Xm9zMva_"
      },
      "source": [
        "To Do: Please state why you received an error. I received an error because ..."
      ]
    },
    {
      "cell_type": "markdown",
      "source": [
        "## As I deleted the list named \"list1\", the list has been removed from the memory. That is the reason why its showing there is no list declared."
      ],
      "metadata": {
        "id": "1YKfH45BjV5g"
      }
    },
    {
      "cell_type": "markdown",
      "metadata": {
        "id": "QjfS9cTZMva_"
      },
      "source": [
        "<hr style=\"border:5px solid green\"> </hr>"
      ]
    },
    {
      "cell_type": "markdown",
      "metadata": {
        "id": "9xLSbEuAMva_"
      },
      "source": [
        "## 7. Operations on List\n",
        "Lists implement all of the common and mutable sequence operations.\n",
        "\n",
        "### 7.1 Concatenate Iists\n",
        "Using + to concatenate strings\n",
        "\n",
        "### <font color=red> **Run the following 2 code blocks:** </font>"
      ]
    },
    {
      "cell_type": "code",
      "execution_count": 75,
      "metadata": {
        "colab": {
          "base_uri": "https://localhost:8080/",
          "height": 0
        },
        "id": "lwvJZjWIMva_",
        "outputId": "e56c721b-8c0d-4536-f3a0-c4bea9e140ea"
      },
      "outputs": [
        {
          "output_type": "stream",
          "name": "stdout",
          "text": [
            "[1, 2, [3, 5], 4, 'Hello', 'World']\n"
          ]
        }
      ],
      "source": [
        "list1 = [1, 2, [3,5], 4]\n",
        "list2 = [\"Hello\", \"World\"]\n",
        "print(list1 + list2)"
      ]
    },
    {
      "cell_type": "code",
      "execution_count": 76,
      "metadata": {
        "colab": {
          "base_uri": "https://localhost:8080/",
          "height": 0
        },
        "id": "uO-B0733Mva_",
        "outputId": "912d94cf-ee44-4f3c-d0a1-31a55846c605"
      },
      "outputs": [
        {
          "output_type": "stream",
          "name": "stdout",
          "text": [
            "[1, 3, 5, 9, 7, 5]\n"
          ]
        }
      ],
      "source": [
        "# We can also use+ operator to combine two lists.\n",
        "#This is also called concatenation.\n",
        "#The * operator repeats a list for the given number of times.\n",
        "\n",
        "odd= [1, 3, 5]\n",
        "\n",
        "\n",
        "print(odd + [9, 7, 5])"
      ]
    },
    {
      "cell_type": "markdown",
      "metadata": {
        "id": "N-0-exlaMva_"
      },
      "source": [
        "### 7.2 Replicate lists\n",
        "\n",
        "### <font color=red> **Run the following 2 code blocks:** </font>"
      ]
    },
    {
      "cell_type": "code",
      "execution_count": 77,
      "metadata": {
        "colab": {
          "base_uri": "https://localhost:8080/",
          "height": 0
        },
        "id": "tC2cGRqiMva_",
        "outputId": "f256d24c-2d27-45ab-b4d4-a4f23c9fd203"
      },
      "outputs": [
        {
          "output_type": "stream",
          "name": "stdout",
          "text": [
            "[1, 2, 1, 2, 1, 2]\n"
          ]
        }
      ],
      "source": [
        "aList = [1, 2]\n",
        "\n",
        "print (aList * 3)"
      ]
    },
    {
      "cell_type": "code",
      "execution_count": 78,
      "metadata": {
        "colab": {
          "base_uri": "https://localhost:8080/",
          "height": 0
        },
        "id": "g63_FmapMvbA",
        "outputId": "0c16a0fa-50ea-42db-95e6-9fd03c98b959"
      },
      "outputs": [
        {
          "output_type": "stream",
          "name": "stdout",
          "text": [
            "['re', 're', 're']\n"
          ]
        }
      ],
      "source": [
        "print([\"re\"] * 3)"
      ]
    },
    {
      "cell_type": "markdown",
      "metadata": {
        "id": "hJtBNAaRMvbA"
      },
      "source": [
        "### 7.3 Test elements with \"in\" and \"not in\"\n",
        "\n",
        "### <font color=red> **Run the following 2 code blocks:** </font>"
      ]
    },
    {
      "cell_type": "code",
      "execution_count": 79,
      "metadata": {
        "colab": {
          "base_uri": "https://localhost:8080/",
          "height": 0
        },
        "id": "K5V36uVFMvbA",
        "outputId": "4221959d-66c4-41fb-b360-6371f6fb4a40"
      },
      "outputs": [
        {
          "output_type": "stream",
          "name": "stdout",
          "text": [
            "True\n"
          ]
        }
      ],
      "source": [
        "list1 = [1, 2, [3,5], 4]\n",
        "print (2 in list1)"
      ]
    },
    {
      "cell_type": "code",
      "execution_count": 80,
      "metadata": {
        "colab": {
          "base_uri": "https://localhost:8080/",
          "height": 0
        },
        "id": "6g32isCCMvbA",
        "outputId": "b7671fc4-914b-4d99-9c56-05dbad4d0640"
      },
      "outputs": [
        {
          "output_type": "stream",
          "name": "stdout",
          "text": [
            "False\n"
          ]
        }
      ],
      "source": [
        "list1 = [1, 2, [3,5], 4]\n",
        "print ([3] in list1)"
      ]
    },
    {
      "cell_type": "markdown",
      "metadata": {
        "id": "srue_hyeMvbA"
      },
      "source": [
        "### 7.4 Compare lists: <, >, <=, >=, ==, !=\n",
        "\n",
        "### <font color=red> **Run the following code block:** </font>"
      ]
    },
    {
      "cell_type": "code",
      "execution_count": 81,
      "metadata": {
        "colab": {
          "base_uri": "https://localhost:8080/",
          "height": 0
        },
        "id": "WECsSsl_MvbA",
        "outputId": "8191bbe8-8141-4210-c195-08d77e1e07f4"
      },
      "outputs": [
        {
          "output_type": "stream",
          "name": "stdout",
          "text": [
            "False\n"
          ]
        }
      ],
      "source": [
        "list1 = [1, 2, [3,5], 4]\n",
        "list2 = [1, 2, 4]\n",
        "print (list1 == list2)"
      ]
    },
    {
      "cell_type": "markdown",
      "metadata": {
        "id": "wEcc9fFbMvbA"
      },
      "source": [
        "### 7.5 Iterate a list using for loop\n",
        "\n",
        "### <font color=red> **Run the following 4 code blocks:** </font>"
      ]
    },
    {
      "cell_type": "code",
      "execution_count": 82,
      "metadata": {
        "colab": {
          "base_uri": "https://localhost:8080/",
          "height": 0
        },
        "id": "7awbPYgFMvbB",
        "outputId": "937cb553-8013-4392-fe27-c5379a7dcdc1"
      },
      "outputs": [
        {
          "output_type": "stream",
          "name": "stdout",
          "text": [
            "1\n",
            "2\n",
            "[3, 5]\n",
            "4\n"
          ]
        }
      ],
      "source": [
        "list1 = [1, 2, [3,5], 4]\n",
        "for i in list1:\n",
        "    print (i)"
      ]
    },
    {
      "cell_type": "code",
      "execution_count": 83,
      "metadata": {
        "colab": {
          "base_uri": "https://localhost:8080/",
          "height": 0
        },
        "id": "DDd1OpBSMvbB",
        "outputId": "1b045dbe-d1e5-44ff-8ef1-ad671499be8b"
      },
      "outputs": [
        {
          "output_type": "stream",
          "name": "stdout",
          "text": [
            "12[3, 5]4"
          ]
        }
      ],
      "source": [
        "list1 = [1, 2, [3,5], 4]\n",
        "\n",
        "for i in list1:\n",
        "    print(i, end=\"\")"
      ]
    },
    {
      "cell_type": "code",
      "execution_count": 84,
      "metadata": {
        "colab": {
          "base_uri": "https://localhost:8080/",
          "height": 0
        },
        "id": "JO0NqbnWMvbB",
        "outputId": "f960418c-1f33-40b0-f6d1-60d239ad06fa"
      },
      "outputs": [
        {
          "output_type": "stream",
          "name": "stdout",
          "text": [
            "1\n",
            "2\n",
            "[3, 5]\n",
            "4\n"
          ]
        }
      ],
      "source": [
        "list1 = [1, 2, [3,5], 4]\n",
        "for i in list1:\n",
        "    print (i, end=\"\\n\")"
      ]
    },
    {
      "cell_type": "code",
      "execution_count": 85,
      "metadata": {
        "colab": {
          "base_uri": "https://localhost:8080/",
          "height": 0
        },
        "id": "U8F8lShtMvbB",
        "outputId": "2a1187d9-66bb-46c6-fcc7-f8b26c335289"
      },
      "outputs": [
        {
          "output_type": "stream",
          "name": "stdout",
          "text": [
            "I like apple\n",
            "I like banana\n",
            "I like mango\n"
          ]
        }
      ],
      "source": [
        "for fruit in [\"apple\",\"banana\",\"mango\"]:\n",
        "    print(\"I like\",fruit)"
      ]
    },
    {
      "cell_type": "markdown",
      "metadata": {
        "id": "8Wp7WGREMvbC"
      },
      "source": [
        "### 7.6 Sort lists\n",
        "\n",
        "> #### 7.6.1 Using the sort method of the class list: sort (*, key = none, reverse = false)\n",
        "\n",
        "This method list.sort():\n",
        " - Sort the list in ***place***\n",
        " - Use only < comparisons between items.\n",
        "\n",
        "By default, sort() doesn't require any extra parameters . However, it has two optional parameters :\n",
        " - reverse - If true, the sorted list is reversed (or sorted in descending order)\n",
        " - key - function that serves as a key for the sort comparison\n",
        "\n",
        "<font color=red>***IMPORTANT NOTES:***</font>\n",
        "\n",
        "This method modifies the sequence in place for economy of space when sorting a large sequence. Exceptions are not suppressed.\n",
        " - if any comparison opertions fail, the entire sort operation will fail\n",
        " - the list will likely be left in a partially modified state.\n",
        "\n",
        " ### <font color=red> **Run the following code block:** </font>"
      ]
    },
    {
      "cell_type": "code",
      "execution_count": 86,
      "metadata": {
        "colab": {
          "base_uri": "https://localhost:8080/",
          "height": 0
        },
        "id": "EFMVgMr_MvbC",
        "outputId": "20281631-0f7b-4e3c-ad4a-280980269cda"
      },
      "outputs": [
        {
          "output_type": "stream",
          "name": "stdout",
          "text": [
            "Sorted list: ['a', 'e', 'i', 'o', 'u']\n"
          ]
        }
      ],
      "source": [
        "# vowels list\n",
        "vowels= ['e', 'a', 'u', 'o', 'i']\n",
        "\n",
        "# sort the vowels\n",
        "vowels.sort()\n",
        "\n",
        "# print vowels\n",
        "print('Sorted list:', vowels)"
      ]
    },
    {
      "cell_type": "markdown",
      "metadata": {
        "id": "ox6cBWOKMvbC"
      },
      "source": [
        "> #### 7.6.2 Using the built-in sorted() function: sorted(iterable,  *, key = None, reverse = False)\n",
        "\n",
        "The built-in sorted() function returns a new sorted list from the items in iterable.\n",
        "\n",
        " ### <font color=red> **Run the following code block:** </font>"
      ]
    },
    {
      "cell_type": "code",
      "execution_count": 87,
      "metadata": {
        "colab": {
          "base_uri": "https://localhost:8080/",
          "height": 0
        },
        "id": "pxt5da5hMvbD",
        "outputId": "1695fbdf-fc6c-4714-9d84-bafe3e24afb5"
      },
      "outputs": [
        {
          "output_type": "stream",
          "name": "stdout",
          "text": [
            "Sorted list: ['a', 'e', 'i', 'o', 'u']\n"
          ]
        },
        {
          "output_type": "execute_result",
          "data": {
            "text/plain": [
              "(140446810130688, 140446333276928)"
            ]
          },
          "metadata": {},
          "execution_count": 87
        }
      ],
      "source": [
        "# vowels list\n",
        "vowels= ['e', 'a', 'u', 'o', 'i']\n",
        "\n",
        "# sort the vowels\n",
        "sortedVowels = sorted(vowels)\n",
        "\n",
        "# print vowels\n",
        "print('Sorted list:', sortedVowels)\n",
        "\n",
        "#A new list has been created and returned by the built-in sorted function\n",
        "id(vowels), id(sortedVowels)"
      ]
    },
    {
      "cell_type": "markdown",
      "metadata": {
        "id": "atzgoeSDMvbD"
      },
      "source": [
        "<hr style=\"border:5px solid green\"> </hr>"
      ]
    },
    {
      "cell_type": "markdown",
      "metadata": {
        "id": "iiGYiuGaMvbD"
      },
      "source": [
        "## 8. Class list\n",
        "\n",
        "### 8.1 Count()\n",
        "\n",
        "count(x): return the number of elements of the tuple that are equal to x\n",
        "\n",
        "### <font color=red> **Run the following code block:** </font>"
      ]
    },
    {
      "cell_type": "code",
      "execution_count": 88,
      "metadata": {
        "colab": {
          "base_uri": "https://localhost:8080/",
          "height": 0
        },
        "id": "LaLMAUoAMvbD",
        "outputId": "bec6a08a-0487-4b91-c842-a3fb6eb08bd3"
      },
      "outputs": [
        {
          "output_type": "stream",
          "name": "stdout",
          "text": [
            "2\n"
          ]
        }
      ],
      "source": [
        "list1 = ['a','p','p','l','e']\n",
        "print(list1.count('p'))"
      ]
    },
    {
      "cell_type": "markdown",
      "metadata": {
        "id": "uuBfQDzSMvbE"
      },
      "source": [
        "### 8.2 index (x)\n",
        "\n",
        "index(x) returns the index of the first element that is equal to x\n",
        "\n",
        "### <font color=red> **Run the following code block:** </font>"
      ]
    },
    {
      "cell_type": "code",
      "execution_count": 89,
      "metadata": {
        "colab": {
          "base_uri": "https://localhost:8080/",
          "height": 0
        },
        "id": "IlrU7tYbMvbE",
        "outputId": "fff3b755-4788-4f9b-d306-aedcacf803de"
      },
      "outputs": [
        {
          "output_type": "stream",
          "name": "stdout",
          "text": [
            "1\n"
          ]
        }
      ],
      "source": [
        "list1 = ['a','p','p','l','e']\n",
        "print(list1.index('p'))"
      ]
    },
    {
      "cell_type": "markdown",
      "metadata": {
        "id": "HZmVQLfJMvbE"
      },
      "source": [
        "<hr style=\"border:5px solid green\"> </hr>"
      ]
    },
    {
      "cell_type": "markdown",
      "metadata": {
        "id": "dIvHwqVuMvbE"
      },
      "source": [
        "# <center><font color=green>Python Data Structures:  Range </font> </center>\n",
        "# <center><font color=green>Programming for Data Science with Python </font> </center>\n",
        "\n",
        "\n",
        "## 1. Overview\n",
        "\n",
        "In Python, ranges are the objects of the class range that has the constructor range().\n",
        "\n",
        "Range is an immutable sequence data type/structure, i.e., its contents can not be changed after being created.\n",
        "\n",
        "The range type:\n",
        " - Represent an immutable sequence of numbers\n",
        " - Is commonly used for looping a specific number of times in for loops.\n",
        "\n",
        " ### <font color=red> **Run the following code block:** </font>"
      ]
    },
    {
      "cell_type": "code",
      "execution_count": 90,
      "metadata": {
        "colab": {
          "base_uri": "https://localhost:8080/",
          "height": 0
        },
        "id": "5S895bccMvbF",
        "outputId": "cc119a01-0d98-4d75-ff07-a136f03161db"
      },
      "outputs": [
        {
          "output_type": "execute_result",
          "data": {
            "text/plain": [
              "range(0, 10)"
            ]
          },
          "metadata": {},
          "execution_count": 90
        }
      ],
      "source": [
        "range(10)"
      ]
    },
    {
      "cell_type": "markdown",
      "metadata": {
        "id": "-tAX4vTMMvbF"
      },
      "source": [
        "### 1.1 Properties of ranges\n",
        "\n",
        "The advantage of the range type over a regular list or tuple:\n",
        " - A ***range*** object always takes the ***same (small) amount of memory*** (no matter the size of the range it represents because it only stores the start, stop, and step values)."
      ]
    },
    {
      "cell_type": "markdown",
      "metadata": {
        "id": "3kPY17tPMvbF"
      },
      "source": [
        "### 1.2 Constructors\n",
        "\n",
        ">#### 1.2.1 Constructor: range(stop)\n",
        "\n",
        ">#### 1.2.2 Constructor: range (start, stop, [step])\n",
        "\n",
        "The arguments to the range constructor must be integers:\n",
        " - Either built-in int or any object that implements the index special method.\n",
        " - If the step argument is omitted, it defaults to 1.\n",
        " - If the start argument is omitted, it defaults to 0.\n",
        " - If step is zero, ValueError is raised.\n",
        "\n",
        "For a positive step, the contents of a range r are determined by the formula:\n",
        "\n",
        "     - ***r[i]=start+step*I where i>=0 and r[i] < stop***\n",
        "\n",
        " - Start: The value of the start parameter (or 0 if the parameter was not supplied)\n",
        " - Stop: The value of the stop parameter.\n",
        " - Step: The value of the step parameter (or 1 if the parameter was not supplied)."
      ]
    },
    {
      "cell_type": "markdown",
      "metadata": {
        "id": "OdFL24l9MvbG"
      },
      "source": [
        "<hr style=\"border:5px solid green\"> </hr>"
      ]
    },
    {
      "cell_type": "markdown",
      "metadata": {
        "id": "CHPmRYxXMvbG"
      },
      "source": [
        "## 2. Examples:\n",
        "#### Using range() in creating other sequence objects\n",
        "\n",
        "### <font color=red> **Run the following 7 code blocks:** </font>"
      ]
    },
    {
      "cell_type": "code",
      "execution_count": 91,
      "metadata": {
        "colab": {
          "base_uri": "https://localhost:8080/",
          "height": 0
        },
        "id": "vfW3yzn2MvbG",
        "outputId": "61cb5570-c934-46cf-9d5c-1f456be292b3"
      },
      "outputs": [
        {
          "output_type": "execute_result",
          "data": {
            "text/plain": [
              "[0, 1, 2, 3, 4, 5, 6, 7, 8, 9]"
            ]
          },
          "metadata": {},
          "execution_count": 91
        }
      ],
      "source": [
        "list(range(10))"
      ]
    },
    {
      "cell_type": "code",
      "execution_count": 92,
      "metadata": {
        "colab": {
          "base_uri": "https://localhost:8080/",
          "height": 0
        },
        "id": "fqtVoRjBMvbG",
        "outputId": "c2005811-3934-43fe-c2ab-84ac67a5c7c1"
      },
      "outputs": [
        {
          "output_type": "execute_result",
          "data": {
            "text/plain": [
              "[1, 2, 3, 4, 5, 6, 7, 8, 9, 10]"
            ]
          },
          "metadata": {},
          "execution_count": 92
        }
      ],
      "source": [
        "list(range(1, 11))"
      ]
    },
    {
      "cell_type": "code",
      "execution_count": 93,
      "metadata": {
        "colab": {
          "base_uri": "https://localhost:8080/",
          "height": 0
        },
        "id": "6l_EYbUHMvbH",
        "outputId": "f285914b-6ed7-40d0-c5aa-18a64f5def41"
      },
      "outputs": [
        {
          "output_type": "execute_result",
          "data": {
            "text/plain": [
              "[0, 5, 10, 15, 20, 25]"
            ]
          },
          "metadata": {},
          "execution_count": 93
        }
      ],
      "source": [
        "list(range(0, 30, 5))"
      ]
    },
    {
      "cell_type": "code",
      "execution_count": 94,
      "metadata": {
        "colab": {
          "base_uri": "https://localhost:8080/",
          "height": 0
        },
        "id": "8mMGnOiDMvbH",
        "outputId": "6a611c3d-7126-4c08-e459-61725df03942"
      },
      "outputs": [
        {
          "output_type": "execute_result",
          "data": {
            "text/plain": [
              "[0, 3, 6, 9]"
            ]
          },
          "metadata": {},
          "execution_count": 94
        }
      ],
      "source": [
        "list(range(0, 10, 3))"
      ]
    },
    {
      "cell_type": "code",
      "execution_count": 95,
      "metadata": {
        "colab": {
          "base_uri": "https://localhost:8080/",
          "height": 0
        },
        "id": "kf8rWPSzMvbH",
        "outputId": "6fd57b78-9388-4656-e2a0-05c3f6e70e3c"
      },
      "outputs": [
        {
          "output_type": "execute_result",
          "data": {
            "text/plain": [
              "[0, -1, -2, -3, -4, -5, -6, -7, -8, -9]"
            ]
          },
          "metadata": {},
          "execution_count": 95
        }
      ],
      "source": [
        "list(range(0, -10, -1))"
      ]
    },
    {
      "cell_type": "code",
      "execution_count": 96,
      "metadata": {
        "colab": {
          "base_uri": "https://localhost:8080/",
          "height": 0
        },
        "id": "L4uXzMXyMvbH",
        "outputId": "9ac220c5-7c9f-49a3-f04f-ff578c3d0167"
      },
      "outputs": [
        {
          "output_type": "execute_result",
          "data": {
            "text/plain": [
              "[]"
            ]
          },
          "metadata": {},
          "execution_count": 96
        }
      ],
      "source": [
        "list(range(0))"
      ]
    },
    {
      "cell_type": "code",
      "execution_count": 97,
      "metadata": {
        "colab": {
          "base_uri": "https://localhost:8080/",
          "height": 0
        },
        "id": "xACsuwXhMvbI",
        "outputId": "ebbd9311-1436-4a05-cce1-e84e637b5d8e"
      },
      "outputs": [
        {
          "output_type": "execute_result",
          "data": {
            "text/plain": [
              "[]"
            ]
          },
          "metadata": {},
          "execution_count": 97
        }
      ],
      "source": [
        "list(range(1, 0))"
      ]
    },
    {
      "cell_type": "markdown",
      "metadata": {
        "id": "8iUQWjwTMvbI"
      },
      "source": [
        "## PRACTICE\n",
        "- Create a sequence from 0 to 101 with a step parameter of 5"
      ]
    },
    {
      "cell_type": "code",
      "execution_count": 98,
      "metadata": {
        "colab": {
          "base_uri": "https://localhost:8080/",
          "height": 0
        },
        "id": "KVvaCHV5MvbI",
        "outputId": "6376610b-2a43-4514-a157-b7e5af2c1486"
      },
      "outputs": [
        {
          "output_type": "execute_result",
          "data": {
            "text/plain": [
              "[0,\n",
              " 5,\n",
              " 10,\n",
              " 15,\n",
              " 20,\n",
              " 25,\n",
              " 30,\n",
              " 35,\n",
              " 40,\n",
              " 45,\n",
              " 50,\n",
              " 55,\n",
              " 60,\n",
              " 65,\n",
              " 70,\n",
              " 75,\n",
              " 80,\n",
              " 85,\n",
              " 90,\n",
              " 95,\n",
              " 100]"
            ]
          },
          "metadata": {},
          "execution_count": 98
        }
      ],
      "source": [
        "#To Do add code here\n",
        "list(range(0,101,5))"
      ]
    },
    {
      "cell_type": "markdown",
      "metadata": {
        "id": "icRrdl3mMvbI"
      },
      "source": [
        "<hr style=\"border:5px solid green\"> </hr>"
      ]
    },
    {
      "cell_type": "markdown",
      "metadata": {
        "id": "yBPT2WhGMvbI"
      },
      "source": [
        "# <center><font color=green>Python Data Structures:  Strings </font> </center>\n",
        "# <center><font color=green>Programming for Data Science with Python </font> </center>\n",
        "\n",
        "## 1. Overview\n",
        "\n",
        " - In Python, ***strings*** are the objects of the class str that has the ***constructor str()***.\n",
        "\n",
        " - Strings are one of the most popular data types/data structures in Python.\n",
        "\n",
        " - We can create them simply by enclosing characters in quotes (single or double).\n",
        "\n",
        " - Python treats single quotes the same as double-quotes.\n",
        "\n",
        " - Creating strings is as simple as assigning a value to a variable.\n",
        "\n",
        " ### <font color=red> **Run the following 2 code blocks:** </font>"
      ]
    },
    {
      "cell_type": "code",
      "execution_count": 99,
      "metadata": {
        "colab": {
          "base_uri": "https://localhost:8080/",
          "height": 0
        },
        "id": "H_plJsW9MvbJ",
        "outputId": "d8e17257-5c8e-42b7-ea99-59c018054a41"
      },
      "outputs": [
        {
          "output_type": "stream",
          "name": "stdout",
          "text": [
            "Hello\n"
          ]
        }
      ],
      "source": [
        "aStr = \"Hello\"\n",
        "print(aStr)"
      ]
    },
    {
      "cell_type": "code",
      "execution_count": 100,
      "metadata": {
        "colab": {
          "base_uri": "https://localhost:8080/",
          "height": 0
        },
        "id": "3JV6xXXvMvbJ",
        "outputId": "c5215768-a365-4dd0-e693-073c059ededa"
      },
      "outputs": [
        {
          "output_type": "stream",
          "name": "stdout",
          "text": [
            "Hello\n"
          ]
        }
      ],
      "source": [
        "aStr2 = 'Hello'\n",
        "print(aStr2)"
      ]
    },
    {
      "cell_type": "markdown",
      "metadata": {
        "id": "0oSL4UOiMvbJ"
      },
      "source": [
        "### 1.1 Length of Strings\n",
        " - The ***length*** of a string is the number of characters of the string.\n",
        " - The ***length*** of a string can be obtained using the built-in function ***len()***.\n",
        "\n",
        "<font color=red>**IMPORTANT NOTES:** </font>\n",
        "***len()*** is a ***built-in** function of Python, not a method of class str.\n",
        "\n",
        " ### <font color=red> **Run the following code block:** </font>"
      ]
    },
    {
      "cell_type": "code",
      "execution_count": 101,
      "metadata": {
        "colab": {
          "base_uri": "https://localhost:8080/",
          "height": 0
        },
        "id": "m-EeDx1KMvbK",
        "outputId": "c6fb977e-bd7b-4668-8f67-f69584f4ab2b"
      },
      "outputs": [
        {
          "output_type": "stream",
          "name": "stdout",
          "text": [
            "The length of this string - or the number of characters:  19\n"
          ]
        }
      ],
      "source": [
        "# Declare a string\n",
        "aStr = \"This is a string . \"\n",
        "print (\"The length of this string - or the number of characters: \", len(aStr))"
      ]
    },
    {
      "cell_type": "markdown",
      "metadata": {
        "id": "orctYxhuMvbK"
      },
      "source": [
        "### 1.2 String Indices\n",
        " - **String is a sequence data type/structure** in Python.\n",
        " - Like any other sequence data type in Python, the **indices** of a string always start with 0.\n",
        " - The range of indices of a string: 0 ... len(string) - 1\n",
        "\n",
        " ### <font color=red> **Run the following 5 code blocks:** </font>"
      ]
    },
    {
      "cell_type": "code",
      "execution_count": 102,
      "metadata": {
        "colab": {
          "base_uri": "https://localhost:8080/",
          "height": 0
        },
        "id": "ynNMUGZOMvbK",
        "outputId": "3acf26d6-ae63-4a35-d23f-b4c51e72156c"
      },
      "outputs": [
        {
          "output_type": "stream",
          "name": "stdout",
          "text": [
            "The length of this string:  19\n"
          ]
        }
      ],
      "source": [
        "aStr = \"This is a string . \"\n",
        "print(\"The length of this string: \", len(aStr))"
      ]
    },
    {
      "cell_type": "code",
      "execution_count": 103,
      "metadata": {
        "colab": {
          "base_uri": "https://localhost:8080/",
          "height": 0
        },
        "id": "RcHKp8fQMvbK",
        "outputId": "f26f5dc3-de01-49c9-fb39-c8552e4b0627"
      },
      "outputs": [
        {
          "output_type": "stream",
          "name": "stdout",
          "text": [
            "T\n"
          ]
        }
      ],
      "source": [
        "print(aStr[0])"
      ]
    },
    {
      "cell_type": "code",
      "execution_count": 104,
      "metadata": {
        "colab": {
          "base_uri": "https://localhost:8080/",
          "height": 0
        },
        "id": "NZqhYYRMMvbL",
        "outputId": "0821d1c7-e3f2-4d4a-9bda-80a6dd024a23"
      },
      "outputs": [
        {
          "output_type": "stream",
          "name": "stdout",
          "text": [
            "h\n"
          ]
        }
      ],
      "source": [
        "print(aStr[1])"
      ]
    },
    {
      "cell_type": "code",
      "execution_count": 105,
      "metadata": {
        "colab": {
          "base_uri": "https://localhost:8080/",
          "height": 0
        },
        "id": "OO127e9aMvbL",
        "outputId": "bc1ef72b-df67-40e3-9dbb-e5ab3f550464"
      },
      "outputs": [
        {
          "output_type": "stream",
          "name": "stdout",
          "text": [
            " \n"
          ]
        }
      ],
      "source": [
        "print(aStr[16])\n",
        "# Notice: This will return a blank space."
      ]
    },
    {
      "cell_type": "code",
      "execution_count": 106,
      "metadata": {
        "colab": {
          "base_uri": "https://localhost:8080/",
          "height": 0
        },
        "id": "ERQbiimhMvbL",
        "outputId": "dd654ab9-d2a9-4bd3-a4a6-9c4382ab22cb"
      },
      "outputs": [
        {
          "output_type": "stream",
          "name": "stdout",
          "text": [
            ".\n"
          ]
        }
      ],
      "source": [
        "print (aStr[17])\n",
        "#Notice:  This will return a period."
      ]
    },
    {
      "cell_type": "markdown",
      "metadata": {
        "id": "ruXc4aFaMvbL"
      },
      "source": [
        "<hr style=\"border:5px solid green\"> </hr>"
      ]
    },
    {
      "cell_type": "markdown",
      "metadata": {
        "id": "DX5n5CCpMvbM"
      },
      "source": [
        "## 2. Create Strings\n",
        "### 2.1 Using String Literals\n",
        "\n",
        "### <font color=red> **Run the following 4 code blocks:** </font>"
      ]
    },
    {
      "cell_type": "code",
      "execution_count": 107,
      "metadata": {
        "colab": {
          "base_uri": "https://localhost:8080/",
          "height": 0
        },
        "id": "mJPQ4J90MvbM",
        "outputId": "8dbca12a-dc7f-4419-d33a-f3310b4bea6f"
      },
      "outputs": [
        {
          "output_type": "stream",
          "name": "stdout",
          "text": [
            "Hello\n"
          ]
        }
      ],
      "source": [
        "# all of the following are equivalent\n",
        "my_string = 'Hello'\n",
        "print(my_string)"
      ]
    },
    {
      "cell_type": "code",
      "execution_count": 108,
      "metadata": {
        "colab": {
          "base_uri": "https://localhost:8080/",
          "height": 0
        },
        "id": "dJ2comcFMvbM",
        "outputId": "ebfd7562-d92c-49fa-9974-559542aebd63"
      },
      "outputs": [
        {
          "output_type": "stream",
          "name": "stdout",
          "text": [
            "Hello\n"
          ]
        }
      ],
      "source": [
        "my_string = \"Hello\"\n",
        "print(my_string)"
      ]
    },
    {
      "cell_type": "code",
      "execution_count": 109,
      "metadata": {
        "colab": {
          "base_uri": "https://localhost:8080/",
          "height": 0
        },
        "id": "u-NVTHxCMvbM",
        "outputId": "ae37adf9-ab1c-428d-d734-5b1537d5df3c"
      },
      "outputs": [
        {
          "output_type": "stream",
          "name": "stdout",
          "text": [
            "Hello\n"
          ]
        }
      ],
      "source": [
        "my_string = '''Hello'''\n",
        "print(my_string)"
      ]
    },
    {
      "cell_type": "code",
      "execution_count": 110,
      "metadata": {
        "colab": {
          "base_uri": "https://localhost:8080/",
          "height": 0
        },
        "id": "FBRcjwSiMvbN",
        "outputId": "1f63b9ee-55f7-4a70-a39d-047d15d9ba06"
      },
      "outputs": [
        {
          "output_type": "stream",
          "name": "stdout",
          "text": [
            "Hello. Welcome to\n",
            "Python World!\n"
          ]
        }
      ],
      "source": [
        "# triple quotes string can extend multiple Lines\n",
        "my_string =\"\"\"Hello. Welcome to\n",
        "Python World!\"\"\"\n",
        "print(my_string)"
      ]
    },
    {
      "cell_type": "markdown",
      "metadata": {
        "id": "f1b8xVFKMvbN"
      },
      "source": [
        "### 2.2 Create Strings from Lists - Using join() method\n",
        "\n",
        "### <font color=red> **Run the following 2 code blocks:** </font>"
      ]
    },
    {
      "cell_type": "code",
      "execution_count": 111,
      "metadata": {
        "colab": {
          "base_uri": "https://localhost:8080/",
          "height": 0
        },
        "id": "k1dZ2TIUMvbN",
        "outputId": "4a628d92-3693-45a3-c947-aa66bdfdd077"
      },
      "outputs": [
        {
          "output_type": "stream",
          "name": "stdout",
          "text": [
            "This is a list:  ['This', 'is', 'a', 'string']\n"
          ]
        }
      ],
      "source": [
        "# VERSION 1: List of strings--> A string\n",
        "\n",
        "alist = [\"This\", \"is\", \"a\", \"string\"]\n",
        "print (\"This is a list: \", alist)"
      ]
    },
    {
      "cell_type": "code",
      "execution_count": 112,
      "metadata": {
        "colab": {
          "base_uri": "https://localhost:8080/",
          "height": 0
        },
        "id": "9G_wBay0MvbN",
        "outputId": "491f3a07-0ffd-4ace-a70e-d2a74a037abf"
      },
      "outputs": [
        {
          "output_type": "stream",
          "name": "stdout",
          "text": [
            "This is a string\n"
          ]
        }
      ],
      "source": [
        "aString =\" \" . join(alist)\n",
        "# aString is a string and so is alist\n",
        "print(aString)"
      ]
    },
    {
      "cell_type": "markdown",
      "metadata": {
        "id": "8YC3peDhMvbO"
      },
      "source": [
        "### 2.3 Create Strings from Lists - Using str() and join ()\n",
        "\n",
        "### <font color=red> **Run the following 2 code blocks:** </font>"
      ]
    },
    {
      "cell_type": "code",
      "execution_count": 113,
      "metadata": {
        "colab": {
          "base_uri": "https://localhost:8080/",
          "height": 0
        },
        "id": "3HO6l7dzMvbO",
        "outputId": "13ec7fea-e261-40ec-e630-ced51ad48608"
      },
      "outputs": [
        {
          "output_type": "stream",
          "name": "stdout",
          "text": [
            "This is a list of strings:  ['20', '30', '40', '50', '60']\n"
          ]
        }
      ],
      "source": [
        "# Version 2: List of numbers--> A string\n",
        "\n",
        "# A List of numbers\n",
        "alist = [20, 30, 40, 50, 60]\n",
        "\n",
        "# Convert aList into a List of strings - Using the constructor str()\n",
        "aStrList = [str(element) for element in alist]\n",
        "\n",
        "print (\"This is a list of strings: \", aStrList)"
      ]
    },
    {
      "cell_type": "code",
      "execution_count": 114,
      "metadata": {
        "colab": {
          "base_uri": "https://localhost:8080/",
          "height": 0
        },
        "id": "loIfZaexMvbO",
        "outputId": "2e29f326-ea1c-486b-9ae1-bd2cb69ead65"
      },
      "outputs": [
        {
          "output_type": "stream",
          "name": "stdout",
          "text": [
            "This is a string :  20 30 40 50 60\n"
          ]
        }
      ],
      "source": [
        "# Using join() to create a new string\n",
        "aString =\" \" . join(aStrList)\n",
        "\n",
        "# aString = \"20 30 40 50 60\"\n",
        "print(\"This is a string : \", aString)"
      ]
    },
    {
      "cell_type": "markdown",
      "metadata": {
        "id": "tTLkvNCrMvbP"
      },
      "source": [
        "### 2.4 Create Strings from Lists - Using map() and join()\n",
        "\n",
        "### <font color=red> **Run the following code block:** </font>"
      ]
    },
    {
      "cell_type": "code",
      "execution_count": 115,
      "metadata": {
        "colab": {
          "base_uri": "https://localhost:8080/",
          "height": 0
        },
        "id": "PX051G0KMvbP",
        "outputId": "832880bb-8757-4142-b4bf-df0504b094eb"
      },
      "outputs": [
        {
          "output_type": "stream",
          "name": "stdout",
          "text": [
            "<itertools.combinations object at 0x7fbc20c86930>\n"
          ]
        },
        {
          "output_type": "execute_result",
          "data": {
            "text/plain": [
              "['1,2,3', '1,2,4', '1,3,4', '2,3,4']"
            ]
          },
          "metadata": {},
          "execution_count": 115
        }
      ],
      "source": [
        "# Generate the combination from the list\n",
        "# Then transform each element of the list into a string\n",
        "\n",
        "from itertools import combinations\n",
        "L = [1, 2, 3, 4]\n",
        "\n",
        "print(combinations(L, 3))\n",
        "\n",
        "# Using map() and join() to convert each numeric combination into as string\n",
        "# Thanks to this technique, we can display the List of combinations\n",
        "\n",
        "[\",\".join(map(str, comb)) for comb in combinations(L, 3)]"
      ]
    },
    {
      "cell_type": "markdown",
      "metadata": {
        "id": "EdYgv0e2MvbP"
      },
      "source": [
        "<hr style=\"border:5px solid green\"> </hr>"
      ]
    },
    {
      "cell_type": "markdown",
      "metadata": {
        "id": "YFSyzGT5MvbP"
      },
      "source": [
        "### 3. Access Characters in Strings\n",
        "#### 3.1 Access Single Characters\n",
        "\n",
        "### <font color=red> **Run the following 4 code blocks:** </font>"
      ]
    },
    {
      "cell_type": "code",
      "execution_count": 116,
      "metadata": {
        "colab": {
          "base_uri": "https://localhost:8080/",
          "height": 0
        },
        "id": "tdd6xbEkMvbQ",
        "outputId": "7996d653-b4a7-4643-a145-7e3f96bf4de9"
      },
      "outputs": [
        {
          "output_type": "stream",
          "name": "stdout",
          "text": [
            "str =  programiz\n"
          ]
        }
      ],
      "source": [
        "# Python allows negative indexing for its sequences.\n",
        "# The index of -1 refers to the last item, -2 to the second to the last item, and so on.\n",
        "# We can access a range of items in a string by using the slicing operator (colon).\n",
        "str = 'programiz'\n",
        "print('str = ', str)"
      ]
    },
    {
      "cell_type": "code",
      "execution_count": null,
      "metadata": {
        "id": "6UpXf7KAMvbQ"
      },
      "outputs": [],
      "source": [
        "# first character\n",
        "print('str[0] = ', str[0])"
      ]
    },
    {
      "cell_type": "code",
      "execution_count": 118,
      "metadata": {
        "colab": {
          "base_uri": "https://localhost:8080/",
          "height": 0
        },
        "id": "AOu0enKvMvbQ",
        "outputId": "c2093e94-5966-4382-d13c-9b8a515abe9b"
      },
      "outputs": [
        {
          "output_type": "stream",
          "name": "stdout",
          "text": [
            "str[0] =  o\n"
          ]
        }
      ],
      "source": [
        "# Third character\n",
        "print('str[0] = ', str[2])"
      ]
    },
    {
      "cell_type": "code",
      "execution_count": 119,
      "metadata": {
        "colab": {
          "base_uri": "https://localhost:8080/",
          "height": 0
        },
        "id": "d0-LDzALMvbQ",
        "outputId": "3cbcf0fc-7981-4e29-f019-8b711078b3d3"
      },
      "outputs": [
        {
          "output_type": "stream",
          "name": "stdout",
          "text": [
            "str[-1] =  z\n"
          ]
        }
      ],
      "source": [
        "#Last character\n",
        "print('str[-1] = ', str[-1])"
      ]
    },
    {
      "cell_type": "markdown",
      "metadata": {
        "id": "xCUIYsPiMvbR"
      },
      "source": [
        "### 3.2 Access a Slice of Strings\n",
        "\n",
        "### <font color=red> **Run the following 6 code blocks:** </font>"
      ]
    },
    {
      "cell_type": "code",
      "execution_count": 120,
      "metadata": {
        "colab": {
          "base_uri": "https://localhost:8080/",
          "height": 0
        },
        "id": "haAgfM96MvbR",
        "outputId": "33a6bfdf-a89d-48f4-91f3-ab7b09cae40a"
      },
      "outputs": [
        {
          "output_type": "stream",
          "name": "stdout",
          "text": [
            "str[1:5]=  rogr\n"
          ]
        }
      ],
      "source": [
        "#slicing 2nd to 5th character\n",
        "\n",
        "str='programiz'\n",
        "\n",
        "print('str[1:5]= ', str[1:5])"
      ]
    },
    {
      "cell_type": "code",
      "execution_count": 121,
      "metadata": {
        "colab": {
          "base_uri": "https://localhost:8080/",
          "height": 0
        },
        "id": "GLD3tOPyMvbR",
        "outputId": "ce57b441-d333-4bb4-cab8-3de603e7f327"
      },
      "outputs": [
        {
          "output_type": "stream",
          "name": "stdout",
          "text": [
            "str[5:-2] =  am\n"
          ]
        }
      ],
      "source": [
        "#slicing 6th to 2nd Last character\n",
        "print('str[5:-2] = ', str[5:-2])"
      ]
    },
    {
      "cell_type": "code",
      "execution_count": 122,
      "metadata": {
        "colab": {
          "base_uri": "https://localhost:8080/",
          "height": 0
        },
        "id": "sA9jMhRnMvbR",
        "outputId": "3a8024fd-9732-46eb-99e8-59221aeabacb"
      },
      "outputs": [
        {
          "output_type": "stream",
          "name": "stdout",
          "text": [
            "ho\n"
          ]
        }
      ],
      "source": [
        "sample_str = 'Python String'\n",
        "\n",
        "# Print a range of character starting from index 3 to index 4\n",
        "print (sample_str[3:5])"
      ]
    },
    {
      "cell_type": "code",
      "execution_count": 123,
      "metadata": {
        "colab": {
          "base_uri": "https://localhost:8080/",
          "height": 0
        },
        "id": "-j6Sk92zMvbS",
        "outputId": "918accf7-6d94-4ef6-eac8-5e14161f0f14"
      },
      "outputs": [
        {
          "output_type": "stream",
          "name": "stdout",
          "text": [
            "String\n"
          ]
        }
      ],
      "source": [
        "# Print all characters from index 7\n",
        "print (sample_str[7:])"
      ]
    },
    {
      "cell_type": "code",
      "execution_count": 124,
      "metadata": {
        "colab": {
          "base_uri": "https://localhost:8080/",
          "height": 0
        },
        "id": "VXcmBMiuMvbS",
        "outputId": "f7bce2c8-7e75-4f9c-9cb3-8071d6a9234f"
      },
      "outputs": [
        {
          "output_type": "stream",
          "name": "stdout",
          "text": [
            "Python\n"
          ]
        }
      ],
      "source": [
        "# Print all characters before index 6\n",
        "print(sample_str[:6])"
      ]
    },
    {
      "cell_type": "code",
      "execution_count": 125,
      "metadata": {
        "colab": {
          "base_uri": "https://localhost:8080/",
          "height": 0
        },
        "id": "q7AANT3LMvbS",
        "outputId": "2d21ca15-846b-4581-d6eb-e3565636e9bf"
      },
      "outputs": [
        {
          "output_type": "stream",
          "name": "stdout",
          "text": [
            "St\n"
          ]
        }
      ],
      "source": [
        "# Print all characters from index 7 to the index -4 (count from)\n",
        "print (sample_str[7:-4])"
      ]
    },
    {
      "cell_type": "markdown",
      "metadata": {
        "id": "l-VHcRKMMvbS"
      },
      "source": [
        "<hr style=\"border:5px solid green\"> </hr>"
      ]
    },
    {
      "cell_type": "markdown",
      "metadata": {
        "id": "8k_uPTV3MvbT"
      },
      "source": [
        "### 4. Modify Strings\n",
        "\n",
        "<font color=red>***IMPORTANT NOTES:*** </font>\n",
        " - ***Strings are immutable***, i.e. they cannot be changed after being created.\n",
        " - Any attempt to change or modify the contents of strings will lead to errors.\n",
        "\n",
        "### <font color=red> **Run the following code block:** </font>"
      ]
    },
    {
      "cell_type": "code",
      "execution_count": 126,
      "metadata": {
        "colab": {
          "base_uri": "https://localhost:8080/",
          "height": 200
        },
        "id": "tS7BQdj-MvbT",
        "outputId": "ee7c3388-e732-4e56-9f90-6de629d419a3"
      },
      "outputs": [
        {
          "output_type": "error",
          "ename": "TypeError",
          "evalue": "ignored",
          "traceback": [
            "\u001b[0;31m---------------------------------------------------------------------------\u001b[0m",
            "\u001b[0;31mTypeError\u001b[0m                                 Traceback (most recent call last)",
            "\u001b[0;32m<ipython-input-126-543d9c6ccf5e>\u001b[0m in \u001b[0;36m<cell line: 2>\u001b[0;34m()\u001b[0m\n\u001b[1;32m      1\u001b[0m \u001b[0msample_str\u001b[0m \u001b[0;34m=\u001b[0m \u001b[0;34m'Python String'\u001b[0m\u001b[0;34m\u001b[0m\u001b[0;34m\u001b[0m\u001b[0m\n\u001b[0;32m----> 2\u001b[0;31m \u001b[0msample_str\u001b[0m\u001b[0;34m[\u001b[0m\u001b[0;36m2\u001b[0m\u001b[0;34m]\u001b[0m \u001b[0;34m=\u001b[0m \u001b[0;34m'a'\u001b[0m\u001b[0;34m\u001b[0m\u001b[0;34m\u001b[0m\u001b[0m\n\u001b[0m\u001b[1;32m      3\u001b[0m \u001b[0;31m# Do you know why you have an error in your output?\u001b[0m\u001b[0;34m\u001b[0m\u001b[0;34m\u001b[0m\u001b[0m\n",
            "\u001b[0;31mTypeError\u001b[0m: 'str' object does not support item assignment"
          ]
        }
      ],
      "source": [
        "sample_str = 'Python String'\n",
        "sample_str[2] = 'a'\n",
        "# Do you know why you have an error in your output?"
      ]
    },
    {
      "cell_type": "markdown",
      "metadata": {
        "id": "0VOxh6sLMvbT"
      },
      "source": [
        "To Do: Explain why you got an error. I received an error because ..."
      ]
    },
    {
      "cell_type": "markdown",
      "source": [
        "## Strings in Python are immutable. In the above snippet code we tried to change the string at location '2', tried to change 't' as 'a'. Hnece it is showing us an error."
      ],
      "metadata": {
        "id": "WEGzAe2jl9-N"
      }
    },
    {
      "cell_type": "markdown",
      "metadata": {
        "id": "zErSkXUNMvbT"
      },
      "source": [
        "<font color=red>***IMPORTANT NOTES:*** </font>\n",
        "\n",
        "***Strings are immutable.***\n",
        "\n",
        " - This means that elements of a string cannot be changed once it has been assigned.\n",
        " - But an existing string variable can be re-assigned with a brand new string.\n",
        "\n",
        "### <font color=red> **Run the following 2 code blocks:** </font>"
      ]
    },
    {
      "cell_type": "code",
      "execution_count": 127,
      "metadata": {
        "colab": {
          "base_uri": "https://localhost:8080/",
          "height": 0
        },
        "id": "xhlaU6U7MvbU",
        "outputId": "f93e7f3a-c08e-4bb6-ff19-f0054f3eeef1"
      },
      "outputs": [
        {
          "output_type": "stream",
          "name": "stdout",
          "text": [
            "str2:  This is a string . \n"
          ]
        }
      ],
      "source": [
        "str2 = \"This is a string . \"\n",
        "print (\"str2: \", str2)"
      ]
    },
    {
      "cell_type": "code",
      "execution_count": 128,
      "metadata": {
        "colab": {
          "base_uri": "https://localhost:8080/",
          "height": 0
        },
        "id": "ww5nh7w-MvbU",
        "outputId": "4b658fd3-b4c8-4dbf-bbe2-cb830cbfb334"
      },
      "outputs": [
        {
          "output_type": "stream",
          "name": "stdout",
          "text": [
            "str2 after being re-assinged :  This is a new string.\n"
          ]
        }
      ],
      "source": [
        "# Reassign a new tuple to tuple1\n",
        "str2 = \"This is a new string.\"\n",
        "print(\"str2 after being re-assinged : \", str2)"
      ]
    },
    {
      "cell_type": "markdown",
      "metadata": {
        "id": "exeTlytIMvbU"
      },
      "source": [
        "<hr style=\"border:5px solid green\"> </hr>"
      ]
    },
    {
      "cell_type": "markdown",
      "metadata": {
        "id": "Ix-EusuZMvbV"
      },
      "source": [
        "## 5. Copy Strings\n",
        "### 5.1 Shallow copy\n",
        " - Shallow copy means that only the reference to the object is copied. No new object is created.\n",
        " - Assignment with an = on string does not make a copy.\n",
        " - Instead, assignment makes the two variables point to the same list in memory."
      ]
    },
    {
      "cell_type": "markdown",
      "metadata": {
        "id": "jmS0niBAMvbV"
      },
      "source": [
        "### 5.2 Deep copy\n",
        "***Deep copy*** means that a new object will be created when the copying has done.\n",
        "\n",
        " <font color=red> ***IMPORTANT NOTES:***</font>\n",
        "Strings are ***immutable sequence objects***. Strings **cannot be deep-copied***.\n",
        "\n",
        "\n",
        "<hr style=\"border:5px solid green\"> </hr>\n",
        "\n",
        "\n",
        "## 6. Delete Strings\n",
        "To ***delete a string***, using the built-in function ***del()***.\n",
        "\n",
        "### <font color=red> **Run the following 2 code blocks:** </font>"
      ]
    },
    {
      "cell_type": "code",
      "execution_count": 134,
      "metadata": {
        "id": "RSx-MC36MvbW"
      },
      "outputs": [],
      "source": [
        "sample_str = \"Python is the best scripting language.\"\n",
        "del (sample_str)"
      ]
    },
    {
      "cell_type": "code",
      "execution_count": 135,
      "metadata": {
        "colab": {
          "base_uri": "https://localhost:8080/",
          "height": 200
        },
        "id": "etz5S0DXMvbW",
        "outputId": "c920b2c2-6d08-47fc-eae5-00087503fda0"
      },
      "outputs": [
        {
          "output_type": "error",
          "ename": "NameError",
          "evalue": "ignored",
          "traceback": [
            "\u001b[0;31m---------------------------------------------------------------------------\u001b[0m",
            "\u001b[0;31mNameError\u001b[0m                                 Traceback (most recent call last)",
            "\u001b[0;32m<ipython-input-135-58e70779f7c9>\u001b[0m in \u001b[0;36m<cell line: 3>\u001b[0;34m()\u001b[0m\n\u001b[1;32m      1\u001b[0m \u001b[0;31m# to show that the string has been deleted, Let's print it\u001b[0m\u001b[0;34m\u001b[0m\u001b[0;34m\u001b[0m\u001b[0m\n\u001b[1;32m      2\u001b[0m \u001b[0;31m# --> ERROR\u001b[0m\u001b[0;34m\u001b[0m\u001b[0;34m\u001b[0m\u001b[0m\n\u001b[0;32m----> 3\u001b[0;31m \u001b[0mprint\u001b[0m \u001b[0;34m(\u001b[0m\u001b[0msample_str\u001b[0m\u001b[0;34m)\u001b[0m\u001b[0;34m\u001b[0m\u001b[0;34m\u001b[0m\u001b[0m\n\u001b[0m",
            "\u001b[0;31mNameError\u001b[0m: name 'sample_str' is not defined"
          ]
        }
      ],
      "source": [
        "# to show that the string has been deleted, Let's print it\n",
        "# --> ERROR\n",
        "print (sample_str)"
      ]
    },
    {
      "cell_type": "markdown",
      "metadata": {
        "id": "vzZ4CakAMvbW"
      },
      "source": [
        "To Do: Explain why you got an error. I received an error because ..."
      ]
    },
    {
      "cell_type": "markdown",
      "source": [
        "## As the string is deleted, entire string data and its name is removed from the memory space. In the next line again we are trying to print the string which has been deleted. Hence we are getting an error that is not defined."
      ],
      "metadata": {
        "id": "66B7Nki_my6q"
      }
    },
    {
      "cell_type": "markdown",
      "metadata": {
        "id": "dZ1zqd-bMvbW"
      },
      "source": [
        "<hr style=\"border:5px solid green\"> </hr>"
      ]
    },
    {
      "cell_type": "markdown",
      "metadata": {
        "id": "GXm022VdMvbX"
      },
      "source": [
        "## 7. Operations on Strings\n",
        "### 7 .1 Concatenate Strings\n",
        "Using ***+*** to ***concatenate*** strings\n",
        "\n",
        "### <font color=red> **Run the following code block:** </font>"
      ]
    },
    {
      "cell_type": "code",
      "execution_count": 136,
      "metadata": {
        "colab": {
          "base_uri": "https://localhost:8080/",
          "height": 0
        },
        "id": "NRMFdzy5MvbX",
        "outputId": "6bbe45c9-1323-4101-9f7f-a36d9dd252a3"
      },
      "outputs": [
        {
          "output_type": "stream",
          "name": "stdout",
          "text": [
            "Hello World!\n"
          ]
        }
      ],
      "source": [
        "str1 = \"Hello\"\n",
        "str2 = \"World!\"\n",
        "str3 = str1 + \" \" + str2\n",
        "#using +\n",
        "print(str3)"
      ]
    },
    {
      "cell_type": "markdown",
      "metadata": {
        "id": "TLg9L4Q5MvbX"
      },
      "source": [
        "### 7.2 Replicate Strings\n",
        "Using <b>*</b> to ***replicate*** a string\n",
        "\n",
        "### <font color=red> **Run the following code block:** </font>"
      ]
    },
    {
      "cell_type": "code",
      "execution_count": 137,
      "metadata": {
        "colab": {
          "base_uri": "https://localhost:8080/",
          "height": 0
        },
        "id": "ZWIZMqDnMvbX",
        "outputId": "da2f4e13-9955-4e99-bbc9-71577ad9e6be"
      },
      "outputs": [
        {
          "output_type": "stream",
          "name": "stdout",
          "text": [
            "The string has been replicated three times:  HelloHelloHello\n"
          ]
        }
      ],
      "source": [
        "str = \"Hello\"\n",
        "replicatedStr = str * 3\n",
        "print (\"The string has been replicated three times: \", replicatedStr)"
      ]
    },
    {
      "cell_type": "markdown",
      "metadata": {
        "id": "qGNIrEjgMvbX"
      },
      "source": [
        "### 7.3 Test substrings with \"in\" & \"not in\"\n",
        "\n",
        "### <font color=red> **Run the following 2 code blocks:** </font>"
      ]
    },
    {
      "cell_type": "code",
      "execution_count": 139,
      "metadata": {
        "colab": {
          "base_uri": "https://localhost:8080/",
          "height": 0
        },
        "id": "IAJa16w-MvbY",
        "outputId": "08c982da-6d52-4791-fdad-131c07517350"
      },
      "outputs": [
        {
          "output_type": "stream",
          "name": "stdout",
          "text": [
            "True\n"
          ]
        }
      ],
      "source": [
        "str1 = \"Welcome\"\n",
        "print(\"come\" in str1)"
      ]
    },
    {
      "cell_type": "code",
      "execution_count": 138,
      "metadata": {
        "colab": {
          "base_uri": "https://localhost:8080/",
          "height": 0
        },
        "id": "r3nTG6SWMvbY",
        "outputId": "36d07e43-a69c-48ce-b558-e887ba31d582"
      },
      "outputs": [
        {
          "output_type": "stream",
          "name": "stdout",
          "text": [
            "True\n"
          ]
        }
      ],
      "source": [
        "print(\"come\" not in str1)"
      ]
    },
    {
      "cell_type": "markdown",
      "metadata": {
        "id": "CoPXPsFWMvbY"
      },
      "source": [
        "### 7.4 Compare strings: <, >, <=, >=, ==, !=\n",
        "\n",
        "### <font color=red> **Run the following 3 code blocks:** </font>"
      ]
    },
    {
      "cell_type": "code",
      "execution_count": 140,
      "metadata": {
        "colab": {
          "base_uri": "https://localhost:8080/",
          "height": 0
        },
        "id": "zuhRaP3uMvbY",
        "outputId": "39fbc21a-9741-48aa-b64d-1c2b6e5f4c27"
      },
      "outputs": [
        {
          "output_type": "stream",
          "name": "stdout",
          "text": [
            "True\n"
          ]
        }
      ],
      "source": [
        "# TRUE: \"apple\" comes before \"banana\"\n",
        "print(\"apple\" < \"banana\")"
      ]
    },
    {
      "cell_type": "code",
      "execution_count": 141,
      "metadata": {
        "colab": {
          "base_uri": "https://localhost:8080/",
          "height": 0
        },
        "id": "a08sal08MvbZ",
        "outputId": "b9e5f2b9-f4ed-4e41-cb2b-ed51329a1c2e"
      },
      "outputs": [
        {
          "output_type": "stream",
          "name": "stdout",
          "text": [
            "False\n"
          ]
        }
      ],
      "source": [
        "print(\"apple\" < \"Apple\")"
      ]
    },
    {
      "cell_type": "code",
      "execution_count": 142,
      "metadata": {
        "colab": {
          "base_uri": "https://localhost:8080/",
          "height": 0
        },
        "id": "KrLqrLDIMvbZ",
        "outputId": "e985ea5a-ff80-4d36-ccf8-d9e8dd5adf42"
      },
      "outputs": [
        {
          "output_type": "stream",
          "name": "stdout",
          "text": [
            "False\n"
          ]
        }
      ],
      "source": [
        "print(\"apple\" == \"Apple\")"
      ]
    },
    {
      "cell_type": "markdown",
      "metadata": {
        "id": "ok-ESaHuMvbZ"
      },
      "source": [
        "### 7.5 Iterate strings using for loops\n",
        "\n",
        "### <font color=red> **Run the following 3 code blocks:** </font>"
      ]
    },
    {
      "cell_type": "code",
      "execution_count": 143,
      "metadata": {
        "colab": {
          "base_uri": "https://localhost:8080/",
          "height": 0
        },
        "id": "gwtyLCPPMvbZ",
        "outputId": "8c22dd52-6f14-468d-e7c9-84d5e10634f1"
      },
      "outputs": [
        {
          "output_type": "stream",
          "name": "stdout",
          "text": [
            "H\n",
            "e\n",
            "l\n",
            "l\n",
            "o\n"
          ]
        }
      ],
      "source": [
        "aStr = \"Hello\"\n",
        "for i in aStr:\n",
        "    print(i)"
      ]
    },
    {
      "cell_type": "code",
      "execution_count": 144,
      "metadata": {
        "colab": {
          "base_uri": "https://localhost:8080/",
          "height": 0
        },
        "id": "Z6QbJBBPMvbZ",
        "outputId": "53960f2b-3977-4039-a261-f3eddcdd8187"
      },
      "outputs": [
        {
          "output_type": "stream",
          "name": "stdout",
          "text": [
            "Hello"
          ]
        }
      ],
      "source": [
        "aStr = \"Hello\"\n",
        "for i in aStr:\n",
        "    print(i, end=\"\")"
      ]
    },
    {
      "cell_type": "code",
      "execution_count": 145,
      "metadata": {
        "colab": {
          "base_uri": "https://localhost:8080/",
          "height": 0
        },
        "id": "LA1gwWIiMvbZ",
        "outputId": "200884ab-3f64-443b-f1b7-b50d52bff2af"
      },
      "outputs": [
        {
          "output_type": "stream",
          "name": "stdout",
          "text": [
            "H\n",
            "e\n",
            "l\n",
            "l\n",
            "o\n"
          ]
        }
      ],
      "source": [
        "aStr = \"Hello\"\n",
        "for i in aStr:\n",
        "    print(i, end=\"\\n\")"
      ]
    },
    {
      "cell_type": "markdown",
      "metadata": {
        "id": "sNOe1weXMvbZ"
      },
      "source": [
        "### 7.6 Test Strings\n",
        "| <font size=4>Method Name</font> | <font size=4>Method Description</font>&nbsp;&nbsp;&nbsp;&nbsp;&nbsp;&nbsp;&nbsp;&nbsp;&nbsp;&nbsp;&nbsp;&nbsp;   |\n",
        "| :----------- | :--|\n",
        "|<font size=4>isalnum()</font>     |<font size=4>Returns \"True\" if string is alpha-numeric</font>        |\n",
        "|<font size=4>isalpha() </font>    |<font size=4>Returns \"True\" if string contains only alphabets</font>&nbsp;&nbsp;&nbsp;&nbsp;&nbsp;&nbsp;&nbsp;&nbsp;&nbsp;&nbsp;&nbsp;&nbsp;      |\n",
        "|<font size=4>isidentifier() &nbsp;&nbsp;&nbsp;&nbsp;&nbsp;&nbsp;&nbsp;&nbsp;&nbsp;&nbsp;&nbsp;&nbsp; </font>    |<font size=4>Returns \"True\" if string is valid identifier</font>  |\n",
        "|<font size=4>isupper()</font>     |<font size=4>Returns \"True\" if string is in uppercase</font>        |\n",
        "|<font size=4>islower()</font>     |<font size=4>Returns \"True\" if string is in lowercase</font>       |\n",
        "|<font size=4>isdigit()</font>    |<font size=4>Returns \"True\" if string only contains digits</font>        |\n",
        "|<font size=4>isspace() </font>   |<font size=4>Returns \"True\" if string only contains whitespace</font> |\n",
        "\n",
        "### <font color=red> **Run the following 7 code blocks:** </font>"
      ]
    },
    {
      "cell_type": "code",
      "execution_count": 146,
      "metadata": {
        "colab": {
          "base_uri": "https://localhost:8080/",
          "height": 0
        },
        "id": "3EmRKArZMvba",
        "outputId": "6c50c385-9128-4e31-ffa1-01ce0de0fb79"
      },
      "outputs": [
        {
          "output_type": "execute_result",
          "data": {
            "text/plain": [
              "False"
            ]
          },
          "metadata": {},
          "execution_count": 146
        }
      ],
      "source": [
        "s = \"welcome to python\"\n",
        "s. isalnum()"
      ]
    },
    {
      "cell_type": "code",
      "execution_count": 147,
      "metadata": {
        "colab": {
          "base_uri": "https://localhost:8080/",
          "height": 0
        },
        "id": "tudITPaDMvba",
        "outputId": "d581176c-cee8-4294-e25c-222b2b7e3226"
      },
      "outputs": [
        {
          "output_type": "execute_result",
          "data": {
            "text/plain": [
              "True"
            ]
          },
          "metadata": {},
          "execution_count": 147
        }
      ],
      "source": [
        "\"Welcome\".isalpha()"
      ]
    },
    {
      "cell_type": "code",
      "execution_count": 148,
      "metadata": {
        "colab": {
          "base_uri": "https://localhost:8080/",
          "height": 0
        },
        "id": "m2RO9SB5Mvba",
        "outputId": "065cd5a9-b6b3-4421-a35c-58911af4e2be"
      },
      "outputs": [
        {
          "output_type": "execute_result",
          "data": {
            "text/plain": [
              "False"
            ]
          },
          "metadata": {},
          "execution_count": 148
        }
      ],
      "source": [
        "\"first Number\".isidentifier()"
      ]
    },
    {
      "cell_type": "code",
      "execution_count": 149,
      "metadata": {
        "colab": {
          "base_uri": "https://localhost:8080/",
          "height": 0
        },
        "id": "7843WhkFMvba",
        "outputId": "6cad9125-71eb-4f67-8847-f92ca1bbbda5"
      },
      "outputs": [
        {
          "output_type": "execute_result",
          "data": {
            "text/plain": [
              "True"
            ]
          },
          "metadata": {},
          "execution_count": 149
        }
      ],
      "source": [
        "\"WELCOME\".isupper()"
      ]
    },
    {
      "cell_type": "code",
      "execution_count": 150,
      "metadata": {
        "colab": {
          "base_uri": "https://localhost:8080/",
          "height": 0
        },
        "id": "RxC0odhmMvba",
        "outputId": "118c6c4c-0df6-46dd-b223-866a9ea59acd"
      },
      "outputs": [
        {
          "output_type": "execute_result",
          "data": {
            "text/plain": [
              "False"
            ]
          },
          "metadata": {},
          "execution_count": 150
        }
      ],
      "source": [
        "\"Welcome\".islower()"
      ]
    },
    {
      "cell_type": "code",
      "execution_count": 151,
      "metadata": {
        "colab": {
          "base_uri": "https://localhost:8080/",
          "height": 0
        },
        "id": "4xGidznSMvba",
        "outputId": "36100fba-1917-433b-875e-17bdeee1ba5d"
      },
      "outputs": [
        {
          "output_type": "execute_result",
          "data": {
            "text/plain": [
              "True"
            ]
          },
          "metadata": {},
          "execution_count": 151
        }
      ],
      "source": [
        "s.islower()"
      ]
    },
    {
      "cell_type": "code",
      "execution_count": 152,
      "metadata": {
        "colab": {
          "base_uri": "https://localhost:8080/",
          "height": 0
        },
        "id": "ULXkiIqUMvba",
        "outputId": "a4dfe391-5e54-4d91-f137-505daf4f148f"
      },
      "outputs": [
        {
          "output_type": "execute_result",
          "data": {
            "text/plain": [
              "True"
            ]
          },
          "metadata": {},
          "execution_count": 152
        }
      ],
      "source": [
        "\" \\t\". isspace()"
      ]
    },
    {
      "cell_type": "markdown",
      "metadata": {
        "id": "sefyWGPxMvba"
      },
      "source": [
        "<hr style=\"border:5px solid green\"> </hr>"
      ]
    },
    {
      "cell_type": "markdown",
      "metadata": {
        "id": "up_b6ZPTMvbb"
      },
      "source": [
        "## 8. Class string\n",
        "\n",
        "### 8.1 count (x)\n",
        "#### count(x): return the number of elements of the tuple that are equal to x\n",
        "\n",
        "### <font color=red> **Run the following code block:** </font>"
      ]
    },
    {
      "cell_type": "code",
      "execution_count": 153,
      "metadata": {
        "colab": {
          "base_uri": "https://localhost:8080/",
          "height": 0
        },
        "id": "6AIvMsaKMvbb",
        "outputId": "995e6941-5876-4115-bdea-60f5558a052f"
      },
      "outputs": [
        {
          "output_type": "stream",
          "name": "stdout",
          "text": [
            "2\n"
          ]
        }
      ],
      "source": [
        "strl = \"This is a string: Hello . . . Hello Python World!\"\n",
        "print (strl.count(\"Hello\"))"
      ]
    },
    {
      "cell_type": "markdown",
      "metadata": {
        "id": "tkx4sWsaMvbb"
      },
      "source": [
        "### 8.2 index (x)\n",
        "#### index(x) returns the index of the first element that is equal to x\n",
        "\n",
        "### <font color=red> **Run the following code block:** </font>"
      ]
    },
    {
      "cell_type": "code",
      "execution_count": 154,
      "metadata": {
        "colab": {
          "base_uri": "https://localhost:8080/",
          "height": 0
        },
        "id": "kyYMPvNSMvbb",
        "outputId": "92887919-2760-472e-b97f-7ef2256e7325"
      },
      "outputs": [
        {
          "output_type": "stream",
          "name": "stdout",
          "text": [
            "3\n"
          ]
        }
      ],
      "source": [
        "strl = \"This is a string: Hello ... Hello Python World!\"\n",
        "print (strl.index('s'))"
      ]
    },
    {
      "cell_type": "markdown",
      "metadata": {
        "id": "9UpXSKb3Mvbb"
      },
      "source": [
        "## PRACTICE\n",
        "- Print the index for 'y' in the same string"
      ]
    },
    {
      "cell_type": "code",
      "execution_count": 159,
      "metadata": {
        "colab": {
          "base_uri": "https://localhost:8080/",
          "height": 0
        },
        "id": "wNB-3jvLMvbb",
        "outputId": "52aab504-94dd-47cd-9067-60ab47b4f4ee"
      },
      "outputs": [
        {
          "output_type": "stream",
          "name": "stdout",
          "text": [
            "35\n"
          ]
        }
      ],
      "source": [
        "#To Do add your code here\n",
        "print( strl.index('y'))"
      ]
    },
    {
      "cell_type": "markdown",
      "metadata": {
        "id": "0ljDTouMMvbb"
      },
      "source": [
        "<hr style=\"border:5px solid green\"> </hr>"
      ]
    },
    {
      "cell_type": "markdown",
      "metadata": {
        "id": "sg4r_10zMvbb"
      },
      "source": [
        "# <center><font color=green>Python Data Structures: Tuples </font> </center>\n",
        "# <center><font color=green>Programming for Data Science with Python </font> </center>\n",
        "\n",
        "\n",
        "## Overview\n",
        "\n",
        "In Python, **tuples** are the objects of the class tuple that has the **constructor tuple()**.\n",
        "\n",
        "**Tuple** is an **immutable** sequence data type/structure, i.e., its **contents cannot be changed** after being created.\n",
        "\n",
        "Tuples work similarly to strings and lists:\n",
        " - Use the len() function for the length of a tuple\n",
        " - Use square brackets [] to access data, with the first element at index 0\n",
        " - The range of indices: 0 .. len(a tuple) - 1\n",
        "\n",
        "#### <font color=red>IMPORTANT NOTES:</font>\n",
        "**What are the benefit of tuples?**\n",
        " - Tuples are **faster than lists**.\n",
        " - If you know that some **data doesn't have to be changed**, you should **use tuples** instead of lists (because this protects your data against accidental changes.)\n",
        " - Tuples can be used as **keys in dictionaries**, while lists can't.\n",
        " - We generally use **tuple** for **heterogeneous (different) datatypes** and list for homogeneous (similar) datatypes.\n",
        "\n",
        "### 1.1 Properties of Tuples\n",
        "\n",
        "A tuple is an **immutable list**, i.e., a tuple cannot be changed in any way once it has been created.\n",
        "\n",
        "A tuple is defined analogously to lists except that the set of elements is enclosed in parentheses instead of square brackets.\n",
        "\n",
        "The rules for indices are the same as for lists. Once a tuple has been created, you can't add elements to a tuple or remove elements from a tuple.\n",
        "\n",
        "#### <font color=red>IMPORTANT NOTES:</font>\n",
        "\n",
        "It is actually the comma which makes a tuple, not the parentheses:\n",
        " - The parentheses are optional, except in the empty tuple case **OR** when they are needed to avoid syntactic ambiguity.\n",
        "\n",
        "For example:\n",
        " - f(a, b, c) is a function call with three arguments\n",
        " - f((a, b, c)) is a function call with a 3-tuple as the sole argument.\n",
        "\n",
        " ### <font color=red> **Run the following code:** </font>\n"
      ]
    },
    {
      "cell_type": "code",
      "execution_count": 160,
      "metadata": {
        "colab": {
          "base_uri": "https://localhost:8080/",
          "height": 36
        },
        "id": "paF3HECxMvbc",
        "outputId": "cf0e47d7-0933-4916-81ac-a8480b7fedbd"
      },
      "outputs": [
        {
          "output_type": "execute_result",
          "data": {
            "text/plain": [
              "'tuples'"
            ],
            "application/vnd.google.colaboratory.intrinsic+json": {
              "type": "string"
            }
          },
          "metadata": {},
          "execution_count": 160
        }
      ],
      "source": [
        "t = (\"tuples\", \"are\", \"immutable\")\n",
        "t[0]"
      ]
    },
    {
      "cell_type": "markdown",
      "metadata": {
        "id": "DqiCOW2zMvbc"
      },
      "source": [
        "### 1.3 Elements of Tuples\n",
        "\n",
        "#### Index range of list elements\n",
        "\n",
        "**Forward** index range of list elements: **0 .. len(list) – 1**\n",
        "Forward: starting from the 1st element\n",
        "\n",
        "**Backward** index range of list elements: **-1 .. -len(list**)\n",
        "Backward: Starting from the last element\n",
        "\n",
        "### <font color=red> **Run the following code:** </font>"
      ]
    },
    {
      "cell_type": "code",
      "execution_count": 161,
      "metadata": {
        "colab": {
          "base_uri": "https://localhost:8080/",
          "height": 0
        },
        "id": "1UzHyVRpMvbc",
        "outputId": "fb9665f2-8582-4463-fbd9-f7958fafa6be"
      },
      "outputs": [
        {
          "output_type": "stream",
          "name": "stdout",
          "text": [
            "tuples\n",
            "immutable\n",
            "tuples\n",
            "3\n"
          ]
        }
      ],
      "source": [
        "t = (\"tuples\", \"are\", \"immutable\")\n",
        "print(t[0])\n",
        "print(t[-1])\n",
        "print (t[-3])\n",
        "print(len(t))"
      ]
    },
    {
      "cell_type": "markdown",
      "metadata": {
        "id": "2_a0L-D4Mvbc"
      },
      "source": [
        "### 1.4 Constructor: tuple ([ iterable ])\n",
        "\n",
        "The constructor builds a tuple whose items are the same and in the same order as iterable's items.\n",
        " - Iterable may be either a sequence, a container that supports iteration, or an iterator object.\n",
        " - If iterable is already a tuple, it is returned unchanged.\n",
        "\n",
        "If no argument is given, the constructor creates a new empty tuple:().\n",
        "\n",
        "### <font color=red> **Run the following 2 code blocks:** </font>"
      ]
    },
    {
      "cell_type": "code",
      "execution_count": 162,
      "metadata": {
        "colab": {
          "base_uri": "https://localhost:8080/",
          "height": 0
        },
        "id": "yxabMC7xMvbc",
        "outputId": "47700775-2ce7-47e5-85da-79b9ecaa188e"
      },
      "outputs": [
        {
          "output_type": "stream",
          "name": "stdout",
          "text": [
            "('a', 'b', 'c')\n"
          ]
        }
      ],
      "source": [
        "tuple = (\"a\",\"b\",\"c\")\n",
        "print(tuple)"
      ]
    },
    {
      "cell_type": "code",
      "execution_count": 163,
      "metadata": {
        "colab": {
          "base_uri": "https://localhost:8080/",
          "height": 0
        },
        "id": "abxAWvHzMvbc",
        "outputId": "d44db1b5-084e-42ea-8e86-344226e7894b"
      },
      "outputs": [
        {
          "output_type": "stream",
          "name": "stdout",
          "text": [
            "[1, 2, 3]\n"
          ]
        }
      ],
      "source": [
        "tuple_a = ([1,2,3])\n",
        "print(tuple_a)"
      ]
    },
    {
      "cell_type": "markdown",
      "metadata": {
        "id": "mjMdO3U1Mvbc"
      },
      "source": [
        "<hr style=\"border:5px solid green\"> </hr>"
      ]
    },
    {
      "cell_type": "markdown",
      "metadata": {
        "id": "pmNGk2rkMvbd"
      },
      "source": [
        "## 2. Create Tuples\n",
        "\n",
        "Tuples may be constructed in a number of ways:\n",
        " - Using a pair of parentheses to denote the empty tuple: ()\n",
        " - Using a trailing comma for a singleton tuple: a, or (a,)\n",
        " - Separating items with commas: a, b, c or (a, b, c)\n",
        " - Using the tuple() built-in: tuple() or tuple(iterable)\n",
        "\n",
        "A tuple is created by placing all the items (elements) inside a parentheses(), separated by comma. The parentheses are optional but is a good practice to write it.\n",
        "\n",
        "### <font color=red> **Run the following 4 code blocks:** </font>"
      ]
    },
    {
      "cell_type": "code",
      "execution_count": 164,
      "metadata": {
        "colab": {
          "base_uri": "https://localhost:8080/",
          "height": 0
        },
        "id": "slGtObzYMvbd",
        "outputId": "60cbcee9-c757-42b6-edb7-37c3524892ff"
      },
      "outputs": [
        {
          "output_type": "stream",
          "name": "stdout",
          "text": [
            "()\n"
          ]
        }
      ],
      "source": [
        "# empty tuple\n",
        "# Output: ()\n",
        "my_tuple = ()\n",
        "print(my_tuple)"
      ]
    },
    {
      "cell_type": "code",
      "execution_count": 165,
      "metadata": {
        "colab": {
          "base_uri": "https://localhost:8080/",
          "height": 0
        },
        "id": "Uexuv1Z9Mvbd",
        "outputId": "e650bb19-26b9-430d-d6bc-02bebe6bc35f"
      },
      "outputs": [
        {
          "output_type": "stream",
          "name": "stdout",
          "text": [
            "(1, 2, 3)\n"
          ]
        }
      ],
      "source": [
        "# tuple having integers\n",
        "# Output: (1, 2, 3)\n",
        "my_tuple = (1, 2, 3)\n",
        "print(my_tuple)"
      ]
    },
    {
      "cell_type": "code",
      "execution_count": 166,
      "metadata": {
        "colab": {
          "base_uri": "https://localhost:8080/",
          "height": 0
        },
        "id": "GZ_fAefUMvbd",
        "outputId": "9a6eb078-8e3e-479b-8604-69515bb79651"
      },
      "outputs": [
        {
          "output_type": "stream",
          "name": "stdout",
          "text": [
            "(1, 'Hello', 3.4)\n"
          ]
        }
      ],
      "source": [
        "# tuple with mixed datatypes\n",
        "# Output: (1, \"Hello\", 3.4)\n",
        "my_tuple = (1, \"Hello\", 3.4)\n",
        "print(my_tuple)"
      ]
    },
    {
      "cell_type": "code",
      "execution_count": 167,
      "metadata": {
        "colab": {
          "base_uri": "https://localhost:8080/",
          "height": 0
        },
        "id": "8oFmv2OeMvbd",
        "outputId": "e41e5f0e-409c-4176-9591-f66fcdda8e4a"
      },
      "outputs": [
        {
          "output_type": "stream",
          "name": "stdout",
          "text": [
            "('mouse', [8, 4, 6], (1, 2, 3))\n"
          ]
        }
      ],
      "source": [
        "# nested tuple\n",
        "# Output: (\"mouse\", [B, 4, 6}, (1, 2, 3))\n",
        "my_tuple = (\"mouse\", [8, 4, 6], (1, 2, 3))\n",
        "print(my_tuple)"
      ]
    },
    {
      "cell_type": "markdown",
      "metadata": {
        "id": "_6Hxsx78Mvbd"
      },
      "source": [
        "### 2.1 Create tuples with only ONE element\n",
        "\n",
        "Creating a tuple with one element is a bit tricky.\n",
        "\n",
        "Placing one element within parentheses is not enough. We must add a **trailing comma** to indicate that it is in fact a tuple.\n",
        "\n",
        "### <font color=red> **Run the following 3 code blocks:** </font>"
      ]
    },
    {
      "cell_type": "code",
      "execution_count": 168,
      "metadata": {
        "colab": {
          "base_uri": "https://localhost:8080/",
          "height": 0
        },
        "id": "q3j8JLYvMvbd",
        "outputId": "3fe0cbd8-bdf5-4fa4-b2f3-b398b44dffdd"
      },
      "outputs": [
        {
          "output_type": "stream",
          "name": "stdout",
          "text": [
            "<class 'str'>\n"
          ]
        }
      ],
      "source": [
        "# only parentheses is not enough\n",
        "\n",
        "my_tuple = (\"hello\")\n",
        "print(type(my_tuple))"
      ]
    },
    {
      "cell_type": "code",
      "execution_count": 169,
      "metadata": {
        "colab": {
          "base_uri": "https://localhost:8080/",
          "height": 0
        },
        "id": "AeX-DOj0Mvbe",
        "outputId": "022543db-abac-4aa6-a097-e17990003ebe"
      },
      "outputs": [
        {
          "output_type": "stream",
          "name": "stdout",
          "text": [
            "<class 'tuple'>\n"
          ]
        }
      ],
      "source": [
        "# need a comma at the end\n",
        "\n",
        "my_tuple = (\"hello\",)\n",
        "print(type(my_tuple))"
      ]
    },
    {
      "cell_type": "code",
      "execution_count": 170,
      "metadata": {
        "colab": {
          "base_uri": "https://localhost:8080/",
          "height": 0
        },
        "id": "530Rtwy7Mvbe",
        "outputId": "4f754478-c37a-4ba1-b1b1-ded015baf3be"
      },
      "outputs": [
        {
          "output_type": "stream",
          "name": "stdout",
          "text": [
            "<class 'tuple'>\n"
          ]
        }
      ],
      "source": [
        "# parentheses are optional\n",
        "\n",
        "my_tuple = \"hello\",\n",
        "print(type(my_tuple))"
      ]
    },
    {
      "cell_type": "markdown",
      "metadata": {
        "id": "gSHAxRuzMvbe"
      },
      "source": [
        "<hr style=\"border:5px solid green\"> </hr>"
      ]
    },
    {
      "cell_type": "markdown",
      "metadata": {
        "id": "zORlQXrhMvbh"
      },
      "source": [
        "## 3. Access List Elements\n",
        "\n",
        "As other sequence data types/structures, list elements can be accessed via their indices.\n",
        "\n",
        "We can use the index operator [] to access an item in a list. **Index starts from 0**.\n",
        "So, a list having 5 elements will have index from 0 to 4.\n",
        "Trying to access an element other than this will raise an lndexError.\n",
        "\n",
        "**The index must be an integer**.\n",
        "We can't use float or other types, this will result into TypeError.\n",
        "\n",
        "Nested list are accessed using nested indexing [][] that is similar to index of 2-D array elements.\n",
        "\n",
        "\n",
        "\n",
        "### 3.1 Access Single Elements of Tuples\n",
        "### <font color=red> **Run the following 8 code blocks:** </font>"
      ]
    },
    {
      "cell_type": "code",
      "execution_count": 171,
      "metadata": {
        "colab": {
          "base_uri": "https://localhost:8080/",
          "height": 0
        },
        "id": "sHESvr4rMvbh",
        "outputId": "ea155755-fba4-4143-d275-520ee7688642"
      },
      "outputs": [
        {
          "output_type": "stream",
          "name": "stdout",
          "text": [
            "p\n"
          ]
        }
      ],
      "source": [
        "my_tuple = ('p', 'e', 'r', 'm', 'i', 't')\n",
        "print(my_tuple[0])"
      ]
    },
    {
      "cell_type": "code",
      "execution_count": 172,
      "metadata": {
        "colab": {
          "base_uri": "https://localhost:8080/",
          "height": 0
        },
        "id": "xiitFkrYMvbh",
        "outputId": "a8a527f5-49a3-45f9-b75b-0fae1872a290"
      },
      "outputs": [
        {
          "output_type": "stream",
          "name": "stdout",
          "text": [
            "t\n"
          ]
        }
      ],
      "source": [
        "print(my_tuple[5])"
      ]
    },
    {
      "cell_type": "code",
      "execution_count": 173,
      "metadata": {
        "colab": {
          "base_uri": "https://localhost:8080/",
          "height": 0
        },
        "id": "U3DrJtNOMvbh",
        "outputId": "e8c0564d-3dc3-46b5-ed3e-e3d2f1288dc5"
      },
      "outputs": [
        {
          "output_type": "stream",
          "name": "stdout",
          "text": [
            "s\n"
          ]
        }
      ],
      "source": [
        "n_tuple = (\"mouse\", [8, 4, 6], (1, 2, 3))\n",
        "print(n_tuple[0][3])"
      ]
    },
    {
      "cell_type": "code",
      "execution_count": 174,
      "metadata": {
        "colab": {
          "base_uri": "https://localhost:8080/",
          "height": 0
        },
        "id": "B4hT8WBlMvbi",
        "outputId": "1bd935dd-46a5-487c-9c7a-955077c7903b"
      },
      "outputs": [
        {
          "output_type": "stream",
          "name": "stdout",
          "text": [
            "4\n"
          ]
        }
      ],
      "source": [
        "print(n_tuple[1][1])"
      ]
    },
    {
      "cell_type": "code",
      "execution_count": 175,
      "metadata": {
        "colab": {
          "base_uri": "https://localhost:8080/",
          "height": 0
        },
        "id": "TxkGtqKUMvbi",
        "outputId": "fe1cceee-9e15-4577-8bac-7498b29e8d60"
      },
      "outputs": [
        {
          "output_type": "execute_result",
          "data": {
            "text/plain": [
              "6"
            ]
          },
          "metadata": {},
          "execution_count": 175
        }
      ],
      "source": [
        "my_tuple = ('p', 'e', 'r', 'm', 'i', 't')\n",
        "len(my_tuple)"
      ]
    },
    {
      "cell_type": "code",
      "execution_count": 176,
      "metadata": {
        "colab": {
          "base_uri": "https://localhost:8080/",
          "height": 0
        },
        "id": "IgBWCwtqMvbi",
        "outputId": "b38fda30-be84-4875-e6c5-06914e52ce02"
      },
      "outputs": [
        {
          "output_type": "stream",
          "name": "stdout",
          "text": [
            "t\n"
          ]
        }
      ],
      "source": [
        "my_tuple = ('p', 'e', 'r', 'm', 'i', 't')\n",
        "print(my_tuple[-1])"
      ]
    },
    {
      "cell_type": "code",
      "execution_count": 177,
      "metadata": {
        "colab": {
          "base_uri": "https://localhost:8080/",
          "height": 0
        },
        "id": "0RevNQ7QMvbi",
        "outputId": "599cadac-a490-4d24-f5a3-9b2e1e967064"
      },
      "outputs": [
        {
          "output_type": "stream",
          "name": "stdout",
          "text": [
            "p\n"
          ]
        }
      ],
      "source": [
        "print(my_tuple[-6])"
      ]
    },
    {
      "cell_type": "code",
      "execution_count": 178,
      "metadata": {
        "colab": {
          "base_uri": "https://localhost:8080/",
          "height": 200
        },
        "id": "ZIUS65L6Mvbi",
        "outputId": "6aea79a5-a4af-45be-81d0-e27f6de4107d"
      },
      "outputs": [
        {
          "output_type": "error",
          "ename": "IndexError",
          "evalue": "ignored",
          "traceback": [
            "\u001b[0;31m---------------------------------------------------------------------------\u001b[0m",
            "\u001b[0;31mIndexError\u001b[0m                                Traceback (most recent call last)",
            "\u001b[0;32m<ipython-input-178-a99fb7cd5e81>\u001b[0m in \u001b[0;36m<cell line: 5>\u001b[0;34m()\u001b[0m\n\u001b[1;32m      3\u001b[0m \u001b[0;31m# Index must be in range\u001b[0m\u001b[0;34m\u001b[0m\u001b[0;34m\u001b[0m\u001b[0m\n\u001b[1;32m      4\u001b[0m \u001b[0;31m# Or you will get an ERROR: since the index is out of range\u001b[0m\u001b[0;34m\u001b[0m\u001b[0;34m\u001b[0m\u001b[0m\n\u001b[0;32m----> 5\u001b[0;31m \u001b[0mprint\u001b[0m \u001b[0;34m(\u001b[0m\u001b[0mmy_tuple\u001b[0m\u001b[0;34m[\u001b[0m\u001b[0;36m6\u001b[0m\u001b[0;34m]\u001b[0m\u001b[0;34m)\u001b[0m\u001b[0;34m\u001b[0m\u001b[0;34m\u001b[0m\u001b[0m\n\u001b[0m",
            "\u001b[0;31mIndexError\u001b[0m: tuple index out of range"
          ]
        }
      ],
      "source": [
        "my_tuple = ('p', 'e', 'r', 'm', 'i', 't')\n",
        "# Range of the indices: 0 … len(my_tuples) -1: 0 … 6\n",
        "# Index must be in range\n",
        "# Or you will get an ERROR: since the index is out of range\n",
        "print (my_tuple[6])"
      ]
    },
    {
      "cell_type": "markdown",
      "metadata": {
        "id": "q0DxHBvAMvbi"
      },
      "source": [
        "TO Do: Please state why you received an error. I received an error because ..."
      ]
    },
    {
      "cell_type": "markdown",
      "source": [
        "## As we are trying to access the element which is out of the tuple length, So it is showing us the index out of range error."
      ],
      "metadata": {
        "id": "z76-_dmcoL1q"
      }
    },
    {
      "cell_type": "markdown",
      "metadata": {
        "id": "F5EScid5Mvbi"
      },
      "source": [
        "### 3.2 Access a slice of Tuples\n",
        "### <font color=red> **Run the following 4 code blocks:** </font>"
      ]
    },
    {
      "cell_type": "code",
      "execution_count": null,
      "metadata": {
        "id": "273ojoeSMvbj"
      },
      "outputs": [],
      "source": [
        "# elements 2nd to 4th\n",
        "my_tuple =('p','r','o','g','r','a','m','i','z')\n",
        "\n",
        "print(my_tuple[1:4])"
      ]
    },
    {
      "cell_type": "code",
      "execution_count": 179,
      "metadata": {
        "colab": {
          "base_uri": "https://localhost:8080/",
          "height": 0
        },
        "id": "BMtjOJEQMvbj",
        "outputId": "d079d258-c013-4eaf-f4d6-246517060047"
      },
      "outputs": [
        {
          "output_type": "stream",
          "name": "stdout",
          "text": [
            "()\n"
          ]
        }
      ],
      "source": [
        "# elements beginning to 2nd\n",
        "print(my_tuple[:-7])"
      ]
    },
    {
      "cell_type": "code",
      "execution_count": 180,
      "metadata": {
        "colab": {
          "base_uri": "https://localhost:8080/",
          "height": 0
        },
        "id": "ftWCe4t0Mvbj",
        "outputId": "d2ead1cc-501c-403e-927a-139859184e3b"
      },
      "outputs": [
        {
          "output_type": "stream",
          "name": "stdout",
          "text": [
            "()\n"
          ]
        }
      ],
      "source": [
        "# elements 8th to end\n",
        "# Output: ('i ', 'z')\n",
        "print(my_tuple[7:])"
      ]
    },
    {
      "cell_type": "code",
      "execution_count": 181,
      "metadata": {
        "colab": {
          "base_uri": "https://localhost:8080/",
          "height": 0
        },
        "id": "LIn_0Sg0Mvbj",
        "outputId": "9b162843-a1a7-4837-c832-b8eac08aa52f"
      },
      "outputs": [
        {
          "output_type": "stream",
          "name": "stdout",
          "text": [
            "('p', 'e', 'r', 'm', 'i', 't')\n"
          ]
        }
      ],
      "source": [
        "# elements beginning to end\n",
        "# Output: ('p', 'r', 'o', 'g', 'r', 'a', 'm', 'i', 'z')\n",
        "print(my_tuple[:])"
      ]
    },
    {
      "cell_type": "markdown",
      "metadata": {
        "id": "G5G7A6c1Mvbj"
      },
      "source": [
        "<hr style=\"border:5px solid green\"> </hr>"
      ]
    },
    {
      "cell_type": "markdown",
      "metadata": {
        "id": "6oDfCWr3Mvbj"
      },
      "source": [
        "## 4. Modify Tuples\n",
        "\n",
        "### 4.1 All elements are immutable objects (integers, floats, strings, etc.)\n",
        "\n",
        "#### <font color=red>IMPORTANT NOTES:</font>\n",
        "Tuples are immutable, i.e., they cannot be changed after being created. Any attempt to change or modify contents of tuples will lead to errors.\n",
        "\n",
        "### <font color=red> **Run the following code block:** </font>"
      ]
    },
    {
      "cell_type": "code",
      "execution_count": 182,
      "metadata": {
        "colab": {
          "base_uri": "https://localhost:8080/",
          "height": 200
        },
        "id": "BYC6vONtMvbk",
        "outputId": "82c8bc03-0eb9-47d3-fe25-8dd076e4aa02"
      },
      "outputs": [
        {
          "output_type": "error",
          "ename": "TypeError",
          "evalue": "ignored",
          "traceback": [
            "\u001b[0;31m---------------------------------------------------------------------------\u001b[0m",
            "\u001b[0;31mTypeError\u001b[0m                                 Traceback (most recent call last)",
            "\u001b[0;32m<ipython-input-182-66a351dac12a>\u001b[0m in \u001b[0;36m<cell line: 3>\u001b[0;34m()\u001b[0m\n\u001b[1;32m      1\u001b[0m \u001b[0;31m# Here you see that a tuple can not be modified; you get an error.\u001b[0m\u001b[0;34m\u001b[0m\u001b[0;34m\u001b[0m\u001b[0m\n\u001b[1;32m      2\u001b[0m \u001b[0maTuple\u001b[0m \u001b[0;34m=\u001b[0m \u001b[0;34m(\u001b[0m\u001b[0;34m'Python'\u001b[0m\u001b[0;34m,\u001b[0m \u001b[0;34m'C'\u001b[0m\u001b[0;34m,\u001b[0m \u001b[0;34m'C++'\u001b[0m\u001b[0;34m,\u001b[0m \u001b[0;34m'Java'\u001b[0m\u001b[0;34m,\u001b[0m \u001b[0;34m'Scala'\u001b[0m\u001b[0;34m)\u001b[0m\u001b[0;34m\u001b[0m\u001b[0;34m\u001b[0m\u001b[0m\n\u001b[0;32m----> 3\u001b[0;31m \u001b[0maTuple\u001b[0m\u001b[0;34m[\u001b[0m\u001b[0;36m2\u001b[0m\u001b[0;34m]\u001b[0m \u001b[0;34m=\u001b[0m \u001b[0;34m'Ruby'\u001b[0m\u001b[0;34m\u001b[0m\u001b[0;34m\u001b[0m\u001b[0m\n\u001b[0m",
            "\u001b[0;31mTypeError\u001b[0m: 'tuple' object does not support item assignment"
          ]
        }
      ],
      "source": [
        "# Here you see that a tuple can not be modified; you get an error.\n",
        "aTuple = ('Python', 'C', 'C++', 'Java', 'Scala')\n",
        "aTuple[2] = 'Ruby'"
      ]
    },
    {
      "cell_type": "markdown",
      "metadata": {
        "id": "RSRA8a1lMvbk"
      },
      "source": [
        "TO Do: Please state why you received an error. I received an error because..."
      ]
    },
    {
      "cell_type": "markdown",
      "source": [
        "## As we know that the tuples are immutable, in the above snippeet code we are trying to edit an element in tuple. Hence we got an error, as we cannot modify the elements in tuple."
      ],
      "metadata": {
        "id": "inY-c8yopVnm"
      }
    },
    {
      "cell_type": "markdown",
      "metadata": {
        "id": "aw3Si6l-Mvbk"
      },
      "source": [
        "### 4.2 One or more elements are mutable objects: lists, byte arrays, etc.\n",
        "\n",
        "Tuples are **immutable**.\n",
        " - This means that elements of a tuple cannot be changed once it has been assigned.\n",
        " - If the element is itself a mutable datatype, like list, its nested items can be changed.\n",
        "\n",
        " ### <font color=red> **Run the following code block:** </font>"
      ]
    },
    {
      "cell_type": "code",
      "execution_count": 183,
      "metadata": {
        "colab": {
          "base_uri": "https://localhost:8080/",
          "height": 0
        },
        "id": "jbhMK445Mvbk",
        "outputId": "ce23041c-3c60-4d76-d357-cd51f203a2f7"
      },
      "outputs": [
        {
          "output_type": "stream",
          "name": "stdout",
          "text": [
            "(4, 2, 3, [9, 5])\n"
          ]
        }
      ],
      "source": [
        "my_tuple = (4, 2, 3, [6, 5])\n",
        "# An item of mutable element (list) can be changed\n",
        "\n",
        "my_tuple[3][0] = 9\n",
        "print(my_tuple)"
      ]
    },
    {
      "cell_type": "markdown",
      "metadata": {
        "id": "e3ogfMYMMvbk"
      },
      "source": [
        "### 4.3 Tuples can be Reassigned\n",
        "\n",
        "Tuples are immutable.\n",
        " - This means that elements of a tuple cannot be changed once it has been assigned, but an existing tuple variable can be reassigned with a brand new tuple.\n",
        "\n",
        "### <font color=red> **Run the following 2 code blocks:** </font>"
      ]
    },
    {
      "cell_type": "code",
      "execution_count": 184,
      "metadata": {
        "colab": {
          "base_uri": "https://localhost:8080/",
          "height": 0
        },
        "id": "nW5At09PMvbk",
        "outputId": "d4ede727-73c6-42e8-9d1e-bc06344bd93c"
      },
      "outputs": [
        {
          "output_type": "stream",
          "name": "stdout",
          "text": [
            "tuple_1:  (4, 2, 3, [6, 5])\n"
          ]
        }
      ],
      "source": [
        "tuple_1 = (4, 2, 3, [6, 5])\n",
        "print (\"tuple_1: \", tuple_1)"
      ]
    },
    {
      "cell_type": "code",
      "execution_count": 185,
      "metadata": {
        "colab": {
          "base_uri": "https://localhost:8080/",
          "height": 0
        },
        "id": "ed6NBasNMvbl",
        "outputId": "f03c7ee6-8a71-413a-c5d4-72813e971fe0"
      },
      "outputs": [
        {
          "output_type": "stream",
          "name": "stdout",
          "text": [
            "tuple_l after being reassinged:  ('p', 'r', 'o', 'g', 'r', 'a', 'm', 'i', 'z')\n"
          ]
        }
      ],
      "source": [
        "# Reassign a new tuple to tuple1\n",
        "\n",
        "my_tuple = ('p', 'r', 'o', 'g', 'r', 'a', 'm', 'i', 'z')\n",
        "tuple_l = my_tuple\n",
        "print(\"tuple_l after being reassinged: \", tuple_l)"
      ]
    },
    {
      "cell_type": "markdown",
      "metadata": {
        "id": "0lFqVO28Mvbl"
      },
      "source": [
        "<hr style=\"border:5px solid green\"> </hr>"
      ]
    },
    {
      "cell_type": "markdown",
      "metadata": {
        "id": "odrHrHERMvbl"
      },
      "source": [
        "## 5. Copy Tuples\n",
        "\n",
        "### 5.1 Shallow Copy\n",
        "\n",
        "**Shallow copy** means that only the reference to the object is copied. No new object is created.\n",
        "\n",
        "Assignment with an = on lists does not make a copy.\n",
        "Instead, assignment makes the **two variables point to the same tuple** in memory.\n",
        "\n",
        "### <font color=red> **Run the following code block:** </font>"
      ]
    },
    {
      "cell_type": "code",
      "execution_count": 186,
      "metadata": {
        "colab": {
          "base_uri": "https://localhost:8080/",
          "height": 0
        },
        "id": "YyvBl5GkMvbl",
        "outputId": "e08ecd5a-2f78-43d5-aec4-2a2babdedc7f"
      },
      "outputs": [
        {
          "output_type": "execute_result",
          "data": {
            "text/plain": [
              "(140445980669200, 140445980669200)"
            ]
          },
          "metadata": {},
          "execution_count": 186
        }
      ],
      "source": [
        "tuple_l = \"Hello\"\n",
        "tuple_2 = tuple_1\n",
        "# Both the tuples refer to the same object, i.e., the same id value\n",
        "id(tuple_1), id(tuple_2)"
      ]
    },
    {
      "cell_type": "markdown",
      "metadata": {
        "id": "H87lZ0FDMvbl"
      },
      "source": [
        "### 5.2 Deep copy\n",
        "\n",
        "**Deep copy** means that a new object will be created when the copying has done.\n",
        "\n",
        "#### <font color=red>IMPORTANT NOTES:</font>\n",
        "Tuples are immutable sequence objects. Tuples **cannot** be deep-copied.\n",
        "\n",
        "### 5.3 Delete Tuples\n",
        "\n",
        "To delete a string, using the built-in function del().\n",
        "\n",
        "### <font color=red> **Run the following 2 code blocks:** </font>"
      ]
    },
    {
      "cell_type": "code",
      "execution_count": 187,
      "metadata": {
        "id": "yHGtXLblMvbl"
      },
      "outputs": [],
      "source": [
        "aTuple = \"Python is the best scripting language.\"\n",
        "del (aTuple)"
      ]
    },
    {
      "cell_type": "code",
      "execution_count": 188,
      "metadata": {
        "colab": {
          "base_uri": "https://localhost:8080/",
          "height": 200
        },
        "id": "7nf8ZjAJMvbl",
        "outputId": "5d23c290-74b3-4628-fd3a-0a3fc62b7624"
      },
      "outputs": [
        {
          "output_type": "error",
          "ename": "NameError",
          "evalue": "ignored",
          "traceback": [
            "\u001b[0;31m---------------------------------------------------------------------------\u001b[0m",
            "\u001b[0;31mNameError\u001b[0m                                 Traceback (most recent call last)",
            "\u001b[0;32m<ipython-input-188-92951fc8d1f2>\u001b[0m in \u001b[0;36m<cell line: 3>\u001b[0;34m()\u001b[0m\n\u001b[1;32m      1\u001b[0m \u001b[0;31m# To show that the string has been deleted, let's print it\u001b[0m\u001b[0;34m\u001b[0m\u001b[0;34m\u001b[0m\u001b[0m\n\u001b[1;32m      2\u001b[0m \u001b[0;31m# You see you get an ERROR\u001b[0m\u001b[0;34m\u001b[0m\u001b[0;34m\u001b[0m\u001b[0m\n\u001b[0;32m----> 3\u001b[0;31m \u001b[0mprint\u001b[0m \u001b[0;34m(\u001b[0m\u001b[0msample_str\u001b[0m\u001b[0;34m)\u001b[0m\u001b[0;34m\u001b[0m\u001b[0;34m\u001b[0m\u001b[0m\n\u001b[0m",
            "\u001b[0;31mNameError\u001b[0m: name 'sample_str' is not defined"
          ]
        }
      ],
      "source": [
        "# To show that the string has been deleted, let's print it\n",
        "# You see you get an ERROR\n",
        "print (sample_str)"
      ]
    },
    {
      "cell_type": "markdown",
      "metadata": {
        "id": "usuBkzfcMvbl"
      },
      "source": [
        "To Do: Please state why you received an error. I received an error because ..."
      ]
    },
    {
      "cell_type": "markdown",
      "source": [
        "## The tuple has been deleted and when we again try to access the same tuple which is not present in the memory we get an error that saying it is not_defined."
      ],
      "metadata": {
        "id": "wFccfTe3puzB"
      }
    },
    {
      "cell_type": "code",
      "source": [],
      "metadata": {
        "id": "T5ChwWvXpuXZ"
      },
      "execution_count": null,
      "outputs": []
    },
    {
      "cell_type": "markdown",
      "metadata": {
        "id": "RrxVduzuMvbm"
      },
      "source": [
        "<hr style=\"border:5px solid green\"> </hr>"
      ]
    },
    {
      "cell_type": "markdown",
      "metadata": {
        "id": "iF9SrWz1Mvbm"
      },
      "source": [
        "## 6. Operations on Tuples\n",
        "\n",
        "### 6.1 Concatenate Tuples\n",
        "\n",
        "### <font color=red> **Run the following code block:** </font>"
      ]
    },
    {
      "cell_type": "code",
      "execution_count": 189,
      "metadata": {
        "colab": {
          "base_uri": "https://localhost:8080/",
          "height": 0
        },
        "id": "QyVDRz4zMvbm",
        "outputId": "5a4c0221-31a7-4269-afda-a466cb84414e"
      },
      "outputs": [
        {
          "output_type": "stream",
          "name": "stdout",
          "text": [
            "tuple1 + tuple2 + tuple3 =  ('Hello', ' ', 'World!')\n"
          ]
        }
      ],
      "source": [
        "tuple1 = 'Hello', # comma to indicate this is a tuple; parentheses are optional\n",
        "tuple2 = ' ',\n",
        "tuple3 ='World!',\n",
        "\n",
        "# using +\n",
        "print('tuple1 + tuple2 + tuple3 = ', tuple1 + tuple2 + tuple3)"
      ]
    },
    {
      "cell_type": "markdown",
      "metadata": {
        "id": "Pj0dpTD7Mvbm"
      },
      "source": [
        "### 6.2 Replicate tuples\n",
        "\n",
        "Using * to replicate a tuple\n",
        "\n",
        "### <font color=red> **Run the following code block:** </font>"
      ]
    },
    {
      "cell_type": "code",
      "execution_count": 190,
      "metadata": {
        "colab": {
          "base_uri": "https://localhost:8080/",
          "height": 0
        },
        "id": "ZfktK_BQMvbm",
        "outputId": "2b401c76-031d-4e72-a8ee-f57d8d5ddae1"
      },
      "outputs": [
        {
          "output_type": "stream",
          "name": "stdout",
          "text": [
            "('Hello', 'Hello', 'Hello')\n"
          ]
        }
      ],
      "source": [
        "Tuple1 = \"Hello\",\n",
        "replicatedTuple = tuple1 * 3\n",
        "print (replicatedTuple)"
      ]
    },
    {
      "cell_type": "markdown",
      "metadata": {
        "id": "CKAK-Fg6Mvbm"
      },
      "source": [
        "### 6.3 Test elements with \"in\" and \"not in\"\n",
        "\n",
        "### <font color=red> **Run the following 3 code blocks:** </font>"
      ]
    },
    {
      "cell_type": "code",
      "execution_count": 191,
      "metadata": {
        "colab": {
          "base_uri": "https://localhost:8080/",
          "height": 0
        },
        "id": "wCsIu8QCMvbm",
        "outputId": "e70f78b6-2313-4a90-f4e4-87fb32e88789"
      },
      "outputs": [
        {
          "output_type": "stream",
          "name": "stdout",
          "text": [
            "True\n"
          ]
        }
      ],
      "source": [
        "aTuple = (2, 4, 6, \"This\", \"is\", \"a\", \"tuple\")\n",
        "print (2 in aTuple)"
      ]
    },
    {
      "cell_type": "code",
      "execution_count": 192,
      "metadata": {
        "colab": {
          "base_uri": "https://localhost:8080/",
          "height": 0
        },
        "id": "q4s_SXByMvbn",
        "outputId": "01399cc0-351e-476e-8f36-46d35bc66d8e"
      },
      "outputs": [
        {
          "output_type": "stream",
          "name": "stdout",
          "text": [
            "True\n"
          ]
        }
      ],
      "source": [
        "print ('a' in aTuple)"
      ]
    },
    {
      "cell_type": "code",
      "execution_count": 193,
      "metadata": {
        "colab": {
          "base_uri": "https://localhost:8080/",
          "height": 0
        },
        "id": "dN143-GSMvbn",
        "outputId": "36a81484-4279-462e-803a-c7b6c2a897b8"
      },
      "outputs": [
        {
          "output_type": "stream",
          "name": "stdout",
          "text": [
            "False\n"
          ]
        }
      ],
      "source": [
        "print (\"This is\" in aTuple)"
      ]
    },
    {
      "cell_type": "markdown",
      "metadata": {
        "id": "RQWC5eqaMvbn"
      },
      "source": [
        "### 6.4 Compare Tuples: <, >, <=, >=, ==, !=\n",
        "\n",
        "### <font color=red> **Run the following code block:** </font>"
      ]
    },
    {
      "cell_type": "code",
      "execution_count": 194,
      "metadata": {
        "colab": {
          "base_uri": "https://localhost:8080/",
          "height": 0
        },
        "id": "MR8Bf_QGMvbn",
        "outputId": "24a412cd-1d80-4d7e-d599-977072dd2acc"
      },
      "outputs": [
        {
          "output_type": "stream",
          "name": "stdout",
          "text": [
            "False\n"
          ]
        }
      ],
      "source": [
        "Tuple1 = \"Hello World!\"\n",
        "tuple2 = \"hello world!\"\n",
        "print (tuple1 == tuple2)"
      ]
    },
    {
      "cell_type": "markdown",
      "metadata": {
        "id": "lTf6dEOQMvbn"
      },
      "source": [
        "### 6.5 Iterate a tuple using for loop\n",
        "\n",
        "### <font color=red> **Run the following 3 code blocks:** </font>"
      ]
    },
    {
      "cell_type": "code",
      "execution_count": 195,
      "metadata": {
        "colab": {
          "base_uri": "https://localhost:8080/",
          "height": 0
        },
        "id": "ViCgE9WNMvbn",
        "outputId": "c063fcbe-6842-43f8-dd60-6f5748ed3d0c"
      },
      "outputs": [
        {
          "output_type": "stream",
          "name": "stdout",
          "text": [
            "This\n",
            "is\n",
            "1\n",
            "book\n"
          ]
        }
      ],
      "source": [
        "tuple1 = (\"This\", \"is\", 1, \"book\")\n",
        "for i in tuple1:\n",
        "   print (i)"
      ]
    },
    {
      "cell_type": "code",
      "execution_count": 196,
      "metadata": {
        "colab": {
          "base_uri": "https://localhost:8080/",
          "height": 0
        },
        "id": "QC5KvhzhMvbn",
        "outputId": "09b52d86-fec7-40c3-88fd-6d47b1aba293"
      },
      "outputs": [
        {
          "output_type": "stream",
          "name": "stdout",
          "text": [
            "Thisis1book"
          ]
        }
      ],
      "source": [
        "Tuple1 = (\"This\", \"is\", 1, \"book\")\n",
        "for i in tuple1:\n",
        "   print (i, end=\"\")"
      ]
    },
    {
      "cell_type": "code",
      "execution_count": 197,
      "metadata": {
        "colab": {
          "base_uri": "https://localhost:8080/",
          "height": 0
        },
        "id": "cG6QLpCBMvbn",
        "outputId": "6a9a1667-ebcc-40ae-cd78-542b535f3ac4"
      },
      "outputs": [
        {
          "output_type": "stream",
          "name": "stdout",
          "text": [
            "This\n",
            "is\n",
            "1\n",
            "book\n"
          ]
        }
      ],
      "source": [
        "Tuple1 = (\"This\", \"is\", 1, \"book\")\n",
        "for i in tuple1:\n",
        "    print(i, end=\"\\n\")"
      ]
    },
    {
      "cell_type": "markdown",
      "metadata": {
        "id": "JbNyr9gwMvbo"
      },
      "source": [
        "<hr style=\"border:5px solid green\"> </hr>"
      ]
    },
    {
      "cell_type": "markdown",
      "metadata": {
        "id": "UhfqHOkiMvbo"
      },
      "source": [
        "## 7. Class Tuple\n",
        "\n",
        "\n",
        "### 7.1. count()\n",
        "\n",
        "count(x) returns the number of elements of the tuple that are equal to (x)\n",
        "\n",
        "### <font color=red> **Run the following code block:** </font>"
      ]
    },
    {
      "cell_type": "code",
      "execution_count": 198,
      "metadata": {
        "colab": {
          "base_uri": "https://localhost:8080/",
          "height": 0
        },
        "id": "zfak4Vd_Mvbo",
        "outputId": "7b7785d6-89af-42bd-dbf4-f7bd7bfced08"
      },
      "outputs": [
        {
          "output_type": "stream",
          "name": "stdout",
          "text": [
            "2\n"
          ]
        }
      ],
      "source": [
        "my_tuple = ('a', 'p', 'p', 'l', 'e',)\n",
        "# Count\n",
        "print(my_tuple.count('p'))"
      ]
    },
    {
      "cell_type": "markdown",
      "metadata": {
        "id": "1vvfo8afMvbo"
      },
      "source": [
        "### 7.2 index (x)\n",
        "\n",
        "index(x) returns the index of the first element that is equal to (x)\n",
        "\n",
        "### <font color=red> **Run the following code block:** </font>"
      ]
    },
    {
      "cell_type": "code",
      "execution_count": 199,
      "metadata": {
        "colab": {
          "base_uri": "https://localhost:8080/",
          "height": 0
        },
        "id": "UeIlVjPXMvbo",
        "outputId": "2457ad94-3d37-47b3-d429-1c0767303da9"
      },
      "outputs": [
        {
          "output_type": "stream",
          "name": "stdout",
          "text": [
            "3\n"
          ]
        }
      ],
      "source": [
        "# Index\n",
        "my_tuple=('a','p','p','l','e',)\n",
        "print(my_tuple.index('l'))"
      ]
    },
    {
      "cell_type": "markdown",
      "metadata": {
        "id": "QQotu2qmMvbo"
      },
      "source": [
        "## PRACTICE\n",
        "- Instead of the word apple change the word to texas and print the index of 'x' in texas"
      ]
    },
    {
      "cell_type": "code",
      "execution_count": 201,
      "metadata": {
        "colab": {
          "base_uri": "https://localhost:8080/",
          "height": 0
        },
        "id": "jZIkrM3VMvbo",
        "outputId": "de813cfb-fbf0-42c6-e47a-3c25c9689bf6"
      },
      "outputs": [
        {
          "output_type": "stream",
          "name": "stdout",
          "text": [
            "2\n"
          ]
        }
      ],
      "source": [
        "#To Do add your code here\n",
        "my_tuple=('t','e','x','a','s')\n",
        "print(my_tuple.index('x'))"
      ]
    },
    {
      "cell_type": "markdown",
      "metadata": {
        "id": "XVR5Tf2zMvbp"
      },
      "source": [
        "### You are done. Great job!"
      ]
    }
  ],
  "metadata": {
    "kernelspec": {
      "display_name": "Python 3 (ipykernel)",
      "language": "python",
      "name": "python3"
    },
    "language_info": {
      "codemirror_mode": {
        "name": "ipython",
        "version": 3
      },
      "file_extension": ".py",
      "mimetype": "text/x-python",
      "name": "python",
      "nbconvert_exporter": "python",
      "pygments_lexer": "ipython3",
      "version": "3.9.7"
    },
    "colab": {
      "provenance": []
    }
  },
  "nbformat": 4,
  "nbformat_minor": 0
}